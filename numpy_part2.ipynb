{
 "cells": [
  {
   "attachments": {
    "NUMPY.png": {
     "image/png": "[encoded data removed]"
    }
   },
   "cell_type": "markdown",
   "id": "392a1976",
   "metadata": {},
   "source": [
    "![NUMPY.png](attachment:NUMPY.png) "
   ]
  },
  {
   "cell_type": "markdown",
   "id": "450f725c",
   "metadata": {},
   "source": [
    "# Biblioteka Numpy - część II"
   ]
  },
  {
   "cell_type": "markdown",
   "id": "48d15a04",
   "metadata": {},
   "source": [
    "## Funkcje agregujące (statystyki)"
   ]
  },
  {
   "cell_type": "code",
   "execution_count": null,
   "id": "a5588a8a",
   "metadata": {},
   "outputs": [],
   "source": [
    "stats = np.array(\n",
    "    [\n",
    "        [0, 1],\n",
    "        [2, 3]\n",
    "    ]\n",
    ")"
   ]
  },
  {
   "cell_type": "markdown",
   "id": "65cd7675",
   "metadata": {},
   "source": [
    "Funkcje agregujące to funkcje zwracające statystkę dotyczącą wszystkich lub części elementów tablicy. Do podstawowych funkcji agregujących należą: "
   ]
  },
  {
   "cell_type": "markdown",
   "id": "89b786dd",
   "metadata": {},
   "source": [
    "#### Funkcja [`np.sum`](https://numpy.org/doc/stable/reference/generated/numpy.sum.html#numpy.sum)\n",
    "\n",
    "Funkcja zwracająca sumę wszystkich elementów tablicy. Sumę elementów możemy otrzymać na dwa sposoby."
   ]
  },
  {
   "cell_type": "code",
   "execution_count": null,
   "id": "b9cde807",
   "metadata": {},
   "outputs": [],
   "source": [
    "# metoda I (funkcja np.sum)\n",
    "print(np.sum(stats))\n",
    "\n",
    "# metoda II (metoda stats.sum klasy ndarray)\n",
    "print(stats.sum())"
   ]
  },
  {
   "cell_type": "markdown",
   "id": "e5d1cc58",
   "metadata": {},
   "source": [
    "#### Funkcja [`np.mean`](https://numpy.org/doc/stable/reference/generated/numpy.mean.html#numpy.mean), [`np.average`](https://numpy.org/doc/stable/reference/generated/numpy.average.html#numpy.average)\n",
    "\n",
    "Funkcje zwracające średnią wszystkich elementów tablicy."
   ]
  },
  {
   "cell_type": "code",
   "execution_count": null,
   "id": "39a04efd",
   "metadata": {},
   "outputs": [],
   "source": [
    "# metoda I (funkcja np.mean)\n",
    "print(np.mean(stats))\n",
    "\n",
    "# metoda II (metoda mean)\n",
    "print(stats.mean())\n",
    "\n",
    "# metoda III (funkcja np.average)\n",
    "print(np.average(stats))"
   ]
  },
  {
   "cell_type": "markdown",
   "id": "aa4b4881",
   "metadata": {},
   "source": [
    "#### Funkcja [`np.std`](https://numpy.org/doc/stable/reference/generated/numpy.std.html)\n",
    "\n",
    "Funkcja zwracająca standardowe odchylenie elementów tablicy.\n",
    "\n",
    "<br>\n",
    "<center>\n",
    "$std = \\sqrt{\\frac{\\Sigma^{n}_{i=1}(x_{i} - \\bar x)}{n-1}}$\n",
    "</center>"
   ]
  },
  {
   "cell_type": "code",
   "execution_count": null,
   "id": "4816c770",
   "metadata": {},
   "outputs": [],
   "source": [
    "# metoda I (funkcja np.std)\n",
    "print(np.std(stats))\n",
    "\n",
    "# metoda II (metoda std klasy ndarray)\n",
    "print(stats.std())"
   ]
  },
  {
   "cell_type": "markdown",
   "id": "10b6c718",
   "metadata": {},
   "source": [
    "#### Funkcja [`np.var`](https://numpy.org/doc/stable/reference/generated/numpy.var.html)\n",
    "\n",
    "Funkcje zwracające wariancję elementów tablicy.\n",
    "\n",
    "<br>\n",
    "<center>\n",
    "$var = std^{2} = \\frac{\\Sigma^{n}_{i=1}(x_{i} - \\bar x)}{n-1}$\n",
    "</center>"
   ]
  },
  {
   "cell_type": "code",
   "execution_count": null,
   "id": "9e29b357",
   "metadata": {},
   "outputs": [],
   "source": [
    "# metoda I (funkcja np.var)\n",
    "print(np.var(stats))\n",
    "\n",
    "# metoda II (metoda var klasy ndarray)\n",
    "print(stats.var())"
   ]
  },
  {
   "cell_type": "markdown",
   "id": "23049ada",
   "metadata": {},
   "source": [
    "#### Funkcja [`np.max`](https://numpy.org/doc/stable/reference/generated/numpy.amax.html#numpy.amax)\n",
    "\n",
    "Funkcja zwracająca największy element tablicy."
   ]
  },
  {
   "cell_type": "code",
   "execution_count": null,
   "id": "11c01144",
   "metadata": {},
   "outputs": [],
   "source": [
    "# metoda I (funkcja np.max)\n",
    "print(np.max(stats))\n",
    "\n",
    "# metoda II (funkcja np.amax)\n",
    "print(np.amax(stats))\n",
    "\n",
    "# metoda III (metoda max klasy ndarray)\n",
    "print(stats.max())"
   ]
  },
  {
   "cell_type": "markdown",
   "id": "d1b543f9",
   "metadata": {},
   "source": [
    "#### Funkcja [`np.min`](https://numpy.org/doc/stable/reference/generated/numpy.amin.html)\n",
    "\n",
    "Funkcja zwracająca najmniejszy element tablic."
   ]
  },
  {
   "cell_type": "code",
   "execution_count": null,
   "id": "4ff4dffc",
   "metadata": {},
   "outputs": [],
   "source": [
    "# metoda I (funkcja np.min)\n",
    "print(np.min(stats))\n",
    "\n",
    "# metoda II (funkcja np.amin)\n",
    "print(np.amin(stats))\n",
    "\n",
    "# metoda III (metoda min klasy ndaraay)\n",
    "print(stats.min())"
   ]
  },
  {
   "cell_type": "markdown",
   "id": "f9ef7bd0",
   "metadata": {},
   "source": [
    "#### Funkcja [`np.argmax`](https://numpy.org/doc/stable/reference/generated/numpy.argmax.html#numpy.argmax)\n",
    "\n",
    "Funkcja zwraca indeks największego elementu tablicy."
   ]
  },
  {
   "cell_type": "code",
   "execution_count": null,
   "id": "50dc13c9",
   "metadata": {},
   "outputs": [],
   "source": [
    "# metoda I (funkcja np.argmax)\n",
    "print(np.argmax(stats))\n",
    "\n",
    "# metoda III (metoda argmax klasy ndaraay)\n",
    "print(stats.argmax())"
   ]
  },
  {
   "cell_type": "markdown",
   "id": "5cf62738",
   "metadata": {},
   "source": [
    "3 ?\n",
    "\n",
    "Funkcja zwraca tzw. płaski indeks (ang. flatten index). Numpy przechowuje tablice ciągłym bloku pamięci (ang. contiguous block of memory). Oznacza to, że kolejne elementy tablicy są w pamięci ułożone sekwencyjnie, jeden za drugim, a numpy trzyma tylko referencje (adres) do pierwszego elementu tablicy. Tego indeksu używa, żeby zlokalizować konkretny element tablicy w pamięci. Jak zamienić taki indeks na indeks, którym my się posługujemy? Służy do tego funkcja [`np.unravel_index`](https://numpy.org/doc/stable/reference/generated/numpy.unravel_index.html). Funkcja przyjmuje dwa obowiązkowe parametry, płaski indeks oraz kształt tablicy, której ten indeks dotyczy, a zwraca tradycyjny indeks."
   ]
  },
  {
   "cell_type": "code",
   "execution_count": null,
   "id": "eae44b6f",
   "metadata": {},
   "outputs": [],
   "source": [
    "flatten_index = stats.argmax()\n",
    "\n",
    "index = np.unravel_index(flatten_index, stats.shape)\n",
    "print(index)"
   ]
  },
  {
   "cell_type": "markdown",
   "id": "9c48809f",
   "metadata": {},
   "source": [
    "#### Funkcja [`np.argmin`](https://numpy.org/doc/stable/reference/generated/numpy.argmin.html#numpy.argmin)\n",
    "\n",
    "Funkcja zwraca indeks najmniejszego elementu tablicy."
   ]
  },
  {
   "cell_type": "code",
   "execution_count": null,
   "id": "3fc830ec",
   "metadata": {},
   "outputs": [],
   "source": [
    "# metoda I (funkcja np.argmax)\n",
    "print(np.argmin(stats))\n",
    "\n",
    "# metoda III (metoda argmax klasy ndaraay)\n",
    "print(stats.argmin())"
   ]
  },
  {
   "cell_type": "markdown",
   "id": "47517402",
   "metadata": {},
   "source": [
    "Statystyk w bibliotece numpy można znaleźć więcej. Pełna lista znajduje się [tutaj](https://numpy.org/doc/stable/reference/routines.statistics.html)."
   ]
  },
  {
   "cell_type": "markdown",
   "id": "d0a57e06",
   "metadata": {},
   "source": [
    "Powyższe statystyki możemy liczyć zarówno na wszystkich elementach tablicy jak i wzdłuż poszczególnych osi tablicy."
   ]
  },
  {
   "attachments": {
    "Bez%20nazwy.png": {
     "image/png": "[encoded data removed]"
    }
   },
   "cell_type": "markdown",
   "id": "8c15b0f1",
   "metadata": {},
   "source": [
    "![Bez%20nazwy.png](attachment:Bez%20nazwy.png) (źródło: https://www.javatpoint.com/numpy-sum)"
   ]
  },
  {
   "cell_type": "markdown",
   "id": "b41c2139",
   "metadata": {},
   "source": [
    "**Rys. 2** Ilustracja przedstawiająca działanie funkcji sum wzdłuż poszczególnych osi."
   ]
  },
  {
   "cell_type": "code",
   "execution_count": null,
   "id": "963e4c32",
   "metadata": {},
   "outputs": [],
   "source": [
    "# Suma wzdłuż osi wertykalnej (axis0)\n",
    "\n",
    "# metoda I\n",
    "print(np.sum(stats, axis=0))\n",
    "\n",
    "# metoda II\n",
    "print(stats.sum(axis=0))"
   ]
  },
  {
   "cell_type": "code",
   "execution_count": null,
   "id": "0af7f506",
   "metadata": {},
   "outputs": [],
   "source": [
    "# Suma wzdłuż osi horyzontalnej (axis1)\n",
    "\n",
    "# metoda I\n",
    "print(np.sum(stats, axis=1))\n",
    "\n",
    "# metoda II\n",
    "print(stats.sum(axis=1))"
   ]
  },
  {
   "cell_type": "markdown",
   "id": "964e96bf",
   "metadata": {},
   "source": [
    "### Składanie tablic\n",
    "\n",
    "Istniejące tablice możemy ze sobą łączyć."
   ]
  },
  {
   "cell_type": "markdown",
   "id": "16809d48",
   "metadata": {},
   "source": [
    "#### Funkcja [`np.concatenate`](https://numpy.org/doc/stable/reference/generated/numpy.concatenate.html#numpy-concatenate)\n",
    "\n",
    "Funkcja konkatenuje przekazaną sekwencje tablic. Posiada parametr opcjonalny axis oznaczający wzdłuż, której osi tablicy należy dokonać konkatenacji. "
   ]
  },
  {
   "cell_type": "code",
   "execution_count": null,
   "id": "f1e69e95",
   "metadata": {},
   "outputs": [],
   "source": [
    "arr1 = np.array([14, 21, 13, 8])\n",
    "arr2 = np.array([43, 24])"
   ]
  },
  {
   "cell_type": "code",
   "execution_count": null,
   "id": "7757264f",
   "metadata": {},
   "outputs": [],
   "source": [
    "np.concatenate([arr1, arr2])"
   ]
  },
  {
   "cell_type": "code",
   "execution_count": null,
   "id": "d49969ec",
   "metadata": {},
   "outputs": [],
   "source": [
    "arr1 = np.array(\n",
    "    [\n",
    "        [14, 6, 34],\n",
    "        [2, 45, 26]\n",
    "    ]\n",
    ")\n",
    "\n",
    "arr2 = np.array(\n",
    "    [\n",
    "        [36, 0, 11],\n",
    "        [19, 4, 5]\n",
    "    ]\n",
    ")"
   ]
  },
  {
   "cell_type": "code",
   "execution_count": null,
   "id": "72a2824e",
   "metadata": {},
   "outputs": [],
   "source": [
    "np.concatenate([arr1, arr2])  # domyślna konkatenacja - wzdłuż osi wertykalnej (axis0)"
   ]
  },
  {
   "cell_type": "code",
   "execution_count": null,
   "id": "68012b5f",
   "metadata": {},
   "outputs": [],
   "source": [
    "np.concatenate([arr1, arr2], axis=0) # konkatenacja wzdłuż osi wertykalnej (axis0)"
   ]
  },
  {
   "cell_type": "code",
   "execution_count": null,
   "id": "f090e3ac",
   "metadata": {},
   "outputs": [],
   "source": [
    "np.concatenate([arr1, arr2], axis=1)  # konkatenacja wzdłuż osi horyzontalnej (axis1)"
   ]
  },
  {
   "cell_type": "markdown",
   "id": "215665f9",
   "metadata": {},
   "source": [
    "#### Funkcja [`np.stack`](https://numpy.org/doc/stable/reference/generated/numpy.stack.html#numpy.stack)\n",
    "\n",
    "Funkcja robi złączenie przekazanej sekwencji tablic wzdłuż nowej osi. Przyjmuje parametr opcjonalny axis wskazujący indeks nowej osi."
   ]
  },
  {
   "cell_type": "code",
   "execution_count": null,
   "id": "06226523",
   "metadata": {},
   "outputs": [],
   "source": [
    "np.stack([arr1, arr2])"
   ]
  },
  {
   "cell_type": "code",
   "execution_count": null,
   "id": "775b473b",
   "metadata": {},
   "outputs": [],
   "source": [
    "np.stack([arr1, arr2], axis=0)"
   ]
  },
  {
   "cell_type": "code",
   "execution_count": null,
   "id": "b87f292c",
   "metadata": {},
   "outputs": [],
   "source": [
    "np.stack([arr1, arr2], axis=1)"
   ]
  },
  {
   "cell_type": "code",
   "execution_count": null,
   "id": "eb6423fa",
   "metadata": {},
   "outputs": [],
   "source": [
    "np.stack([arr1, arr2], axis=2)"
   ]
  },
  {
   "cell_type": "markdown",
   "id": "013b3c6e",
   "metadata": {},
   "source": [
    "#### Funkcja [`np.vstack`](https://numpy.org/doc/stable/reference/generated/numpy.vstack.html#numpy-vstack)\n",
    "\n",
    "Funkcja robi złączenie przekazanej sekwencji tablic wzdłuż osi wertykalnej."
   ]
  },
  {
   "cell_type": "code",
   "execution_count": null,
   "id": "9e9e50a4",
   "metadata": {},
   "outputs": [],
   "source": [
    "np.vstack([arr1, arr2])"
   ]
  },
  {
   "cell_type": "markdown",
   "id": "4aa0c1fc",
   "metadata": {},
   "source": [
    "#### Funkcja [`np.hstack`](https://numpy.org/doc/stable/reference/generated/numpy.hstack.html#numpy-hstack)\n",
    "\n",
    "Funkcja robi złączenie przekazanej sekwencji tablic wzdłuż osi horyzontalnej."
   ]
  },
  {
   "cell_type": "code",
   "execution_count": null,
   "id": "1134f22c",
   "metadata": {},
   "outputs": [],
   "source": [
    "np.hstack([arr1, arr2])"
   ]
  },
  {
   "cell_type": "markdown",
   "id": "e1e9d284",
   "metadata": {},
   "source": [
    "## Zmiana typu macierzy"
   ]
  },
  {
   "cell_type": "markdown",
   "id": "2bbb1872",
   "metadata": {},
   "source": [
    "#### Metoda [`ndarray.astype`](https://numpy.org/doc/stable/reference/generated/numpy.ndarray.astype.html)"
   ]
  },
  {
   "cell_type": "code",
   "execution_count": null,
   "id": "d1223c80",
   "metadata": {},
   "outputs": [],
   "source": [
    "a = np.array(\n",
    "    [\n",
    "        [1, 2, 3],\n",
    "        [4, 5, 6]\n",
    "    ]\n",
    ")\n",
    "\n",
    "print(a.dtype)"
   ]
  },
  {
   "cell_type": "code",
   "execution_count": null,
   "id": "3dcd6b5a",
   "metadata": {},
   "outputs": [],
   "source": [
    "c = a.astype(np.float32)\n",
    "\n",
    "print(c)\n",
    "print(c.dtype)"
   ]
  },
  {
   "cell_type": "code",
   "execution_count": null,
   "id": "36e3765d",
   "metadata": {},
   "outputs": [],
   "source": [
    "a"
   ]
  },
  {
   "cell_type": "markdown",
   "id": "802f235e",
   "metadata": {},
   "source": [
    "## Operacje I/O na tablicach"
   ]
  },
  {
   "cell_type": "markdown",
   "id": "a674657e",
   "metadata": {},
   "source": [
    "### Funkcja [`np.save`](https://numpy.org/doc/stable/reference/generated/numpy.save.html)"
   ]
  },
  {
   "cell_type": "markdown",
   "id": "b6b4e81c",
   "metadata": {},
   "source": [
    "Zdefiniowaliśmy wiele tablic, wykonaliśmy na nich wiele operacji, otrzymaliśmy wiele wyników. Co jeśli chcielibyśmy któryś z tych wyników zachować ?\n",
    "\n",
    "Powinniśmy zapisać go do pliku.\n",
    "Istnieje kilka metod zapisywania obiektów klasy ndarray do pliku, ale najwygodniejszym z nich jest wbudowana w numpy funkcja [**`np.save`**](https://numpy.org/doc/stable/reference/generated/numpy.save.html). Funkcja przyjmuje dwa parametry obowiązkowe - nazwę pliku do którego ma zostać zapisana tablica oraz zapisywaną tablicę. Tablica zostanie zapisana w formacie bianarnym (używamy formatu **.npy**). Zróbmy przykład"
   ]
  },
  {
   "cell_type": "code",
   "execution_count": null,
   "id": "a845e496",
   "metadata": {},
   "outputs": [],
   "source": [
    "a = np.array([1, 3, 5, 7, 9], dtype=np.float16)\n",
    "print(a)"
   ]
  },
  {
   "cell_type": "code",
   "execution_count": null,
   "id": "ec50f38f",
   "metadata": {},
   "outputs": [],
   "source": [
    "np.save('example', a)"
   ]
  },
  {
   "cell_type": "markdown",
   "id": "c9b2504a",
   "metadata": {},
   "source": [
    "A jak wczytać teraz tak zapisaną tablicę?"
   ]
  },
  {
   "cell_type": "markdown",
   "id": "548736c1",
   "metadata": {},
   "source": [
    "### Funkcja [`np.load`](https://numpy.org/doc/stable/reference/generated/numpy.load.html)"
   ]
  },
  {
   "cell_type": "markdown",
   "id": "67902bec",
   "metadata": {},
   "source": [
    "Żeby załadować zapisaną tablicę do pamięci ram wystarczy użyć funkcji **`np.load`**. Funkcja jako parametr przyjmuje nazwę pliku do wczytania, a zwraca załadowaną tablicę."
   ]
  },
  {
   "cell_type": "code",
   "execution_count": null,
   "id": "ce835565",
   "metadata": {},
   "outputs": [],
   "source": [
    "b = np.load('example.npy')\n",
    "print(b)"
   ]
  },
  {
   "cell_type": "markdown",
   "id": "6662b276",
   "metadata": {},
   "source": [
    "#### Zadanie 13\n",
    "\n",
    "---\n",
    "\n",
    "Wybierz jedną tablicę z poprzednich zadań i zapisz ją do pliku."
   ]
  },
  {
   "cell_type": "code",
   "execution_count": null,
   "id": "782596ac",
   "metadata": {},
   "outputs": [],
   "source": [
    "# rozwiązanie\n"
   ]
  },
  {
   "cell_type": "markdown",
   "id": "4de954b3",
   "metadata": {},
   "source": [
    "#### Zadanie 14\n",
    "\n",
    "---\n",
    "\n",
    "Wczytaj zapisaną przed chwilą tablicę. Nie musisz przypisywać jej do żadnej zmiennej"
   ]
  },
  {
   "cell_type": "code",
   "execution_count": null,
   "id": "0bfeea03",
   "metadata": {},
   "outputs": [],
   "source": [
    "# rozwiązanie\n"
   ]
  },
  {
   "cell_type": "markdown",
   "id": "a25cf7fc",
   "metadata": {},
   "source": [
    "#### Zadanie 15\n",
    "\n",
    "---\n",
    "\n",
    "W folderze `dumps` znajdują się pliki  `dump_1.npy`, `dump_2.npy` oraz `dump_3.npy`. Wczytaj tablice zapisane w tych plikach,\n",
    "sprawdź ile mają wymiarów oraz jaki jest ich kształt. Przypisz wczytane tablice do zmiennych."
   ]
  },
  {
   "cell_type": "code",
   "execution_count": null,
   "id": "03985662",
   "metadata": {},
   "outputs": [],
   "source": [
    "# rozwiązanie\n"
   ]
  },
  {
   "cell_type": "markdown",
   "id": "9dac9f6b",
   "metadata": {},
   "source": [
    "## Kopiowanie tablic"
   ]
  },
  {
   "cell_type": "markdown",
   "id": "5af77227",
   "metadata": {},
   "source": [
    "**Uwaga!**, tablice numpy są typem złożonym w Pythonie, co oznacza że są przekazywane przez referencje (adres). Jednocześnie są typem modyfikowalnym (identycznie jak listy w pythonie). Taki zestaw cech tworzy pułapkę, ponieważ w kodzie \"krążą\", przekazywane są nie kopie samego obiektu, tylko kopie referencji do tego obiektu. Czyli cały czas działamy na obiekcie oryginalnym, chociaż może nam się wydawać, że działamy na jego kopii."
   ]
  },
  {
   "cell_type": "markdown",
   "id": "b5f588f7",
   "metadata": {},
   "source": [
    "#### Funkcja [`np.copy`](https://numpy.org/doc/stable/reference/generated/numpy.copy.html)"
   ]
  },
  {
   "cell_type": "markdown",
   "id": "de51131a",
   "metadata": {},
   "source": [
    "#### Kopiowanie typu prostego (oryginalna wartość pozostaje niezmieniona)"
   ]
  },
  {
   "cell_type": "code",
   "execution_count": null,
   "id": "3a00de12",
   "metadata": {},
   "outputs": [],
   "source": [
    "a = 2\n",
    "b = a\n",
    "\n",
    "b = b + 1\n",
    "\n",
    "print(b)"
   ]
  },
  {
   "cell_type": "code",
   "execution_count": null,
   "id": "3802543a",
   "metadata": {},
   "outputs": [],
   "source": [
    "print(a)"
   ]
  },
  {
   "cell_type": "markdown",
   "id": "20cf4a3b",
   "metadata": {},
   "source": [
    "#### Kopiowanie typu złożonego (działamy cały czas na obiekcie oryginalnym, nadajemy mu tylko kolejną, nową nazwę)"
   ]
  },
  {
   "cell_type": "code",
   "execution_count": null,
   "id": "8c1ff554",
   "metadata": {},
   "outputs": [],
   "source": [
    "a = [1, 2, 3]\n",
    "b = a\n",
    "\n",
    "b += [1]\n",
    "\n",
    "print(b)"
   ]
  },
  {
   "cell_type": "code",
   "execution_count": null,
   "id": "ec124476",
   "metadata": {},
   "outputs": [],
   "source": [
    "print(a)"
   ]
  },
  {
   "cell_type": "markdown",
   "id": "2deafd43",
   "metadata": {},
   "source": [
    "`np.ndarray` to typ złożony"
   ]
  },
  {
   "cell_type": "code",
   "execution_count": null,
   "id": "bc466c94",
   "metadata": {},
   "outputs": [],
   "source": [
    "a = np.array(\n",
    "    [\n",
    "        [1, 2, 3, 4],\n",
    "        [5, 6, 7, 8],\n",
    "        [9, 10, 11, 12]\n",
    "    ]\n",
    ")\n",
    "\n",
    "b = a  # kopia (ale tylko referencji)\n",
    "\n",
    "# tablice numpy są typami modyfikowalnymi, czyli wspierają operator przypisania\n",
    "b[1, 0] = 100\n",
    "\n",
    "# zmieniliśmy tablicę b\n",
    "print(b)"
   ]
  },
  {
   "cell_type": "code",
   "execution_count": null,
   "id": "d650e5ce",
   "metadata": {},
   "outputs": [],
   "source": [
    "# ale czy tylko ?\n",
    "print(a)  \n",
    "\n",
    "# tak na prawdę cały czas działamy na jednym i tym samym obiekcie, a kopiowanie postaci b=a, \n",
    "# to kopiowanie wyłącznie referencji do tego obiektu."
   ]
  },
  {
   "cell_type": "markdown",
   "id": "53d8aab8",
   "metadata": {},
   "source": [
    "To w jaki sposób skopiować tablicę w taki sposób, żeby otrzymać jej pełną kopię ?"
   ]
  },
  {
   "cell_type": "code",
   "execution_count": null,
   "id": "b89fcb2f",
   "metadata": {},
   "outputs": [],
   "source": [
    "a"
   ]
  },
  {
   "cell_type": "markdown",
   "id": "4ba148da",
   "metadata": {},
   "source": [
    "może tak ?"
   ]
  },
  {
   "cell_type": "code",
   "execution_count": null,
   "id": "424f3bcb",
   "metadata": {},
   "outputs": [],
   "source": [
    "b = a[:, :]"
   ]
  },
  {
   "cell_type": "code",
   "execution_count": null,
   "id": "0db0e7e1",
   "metadata": {},
   "outputs": [],
   "source": [
    "b"
   ]
  },
  {
   "cell_type": "code",
   "execution_count": null,
   "id": "1117592c",
   "metadata": {},
   "outputs": [],
   "source": [
    "b[1, 2] = 200\n",
    "b"
   ]
  },
  {
   "cell_type": "code",
   "execution_count": null,
   "id": "22142aa1",
   "metadata": {},
   "outputs": [],
   "source": [
    "a"
   ]
  },
  {
   "cell_type": "markdown",
   "id": "fc30f824",
   "metadata": {},
   "source": [
    "Niestety, nie pomogło. Zmieniamy `b`, a `a` też się zmienia. To jak to należy zrobić ? "
   ]
  },
  {
   "cell_type": "markdown",
   "id": "0dbf52a9",
   "metadata": {},
   "source": [
    "#### Funkcja [`np.copy`](https://numpy.org/doc/stable/reference/generated/numpy.copy.html)"
   ]
  },
  {
   "cell_type": "code",
   "execution_count": null,
   "id": "00585cf7",
   "metadata": {},
   "outputs": [],
   "source": [
    "a = np.array(\n",
    "    [\n",
    "        [1, 2, 3, 4],\n",
    "        [5, 6, 7, 8],\n",
    "        [9, 10, 11, 12]\n",
    "    ]\n",
    ")"
   ]
  },
  {
   "cell_type": "code",
   "execution_count": null,
   "id": "b48b695d",
   "metadata": {},
   "outputs": [],
   "source": [
    "b = np.copy(a)\n",
    "b"
   ]
  },
  {
   "cell_type": "code",
   "execution_count": null,
   "id": "0b5be692",
   "metadata": {},
   "outputs": [],
   "source": [
    "b[1, 2] = 200\n",
    "b"
   ]
  },
  {
   "cell_type": "code",
   "execution_count": null,
   "id": "5ad84494",
   "metadata": {},
   "outputs": [],
   "source": [
    "a"
   ]
  },
  {
   "cell_type": "markdown",
   "id": "c86b074b",
   "metadata": {},
   "source": [
    "Jeżeli nie jesteśmy pewni, czy dwie nazwy wskazują na ten sam obiekt, czy na dwa różne, zawsze możemy porównać id tych obiektów za pomocą wbudowanej w Pythona funkcji `id`. Jeżeli obie nazwy wskazują na ten sam obiekt ich id będą takie same."
   ]
  },
  {
   "cell_type": "code",
   "execution_count": null,
   "id": "1c5e07cb",
   "metadata": {},
   "outputs": [],
   "source": [
    "id(a)"
   ]
  },
  {
   "cell_type": "code",
   "execution_count": null,
   "id": "f5c0370d",
   "metadata": {},
   "outputs": [],
   "source": [
    "id(b)"
   ]
  },
  {
   "cell_type": "markdown",
   "id": "fd1e856f",
   "metadata": {},
   "source": [
    "`a` i `b` mają różne id, czyli są to dwa różne obiekty."
   ]
  },
  {
   "cell_type": "markdown",
   "id": "cb6239ca",
   "metadata": {},
   "source": [
    "## [Funkcje modyfikujące istniejącą tablice](https://numpy.org/doc/stable/reference/routines.array-manipulation.html)"
   ]
  },
  {
   "cell_type": "markdown",
   "id": "559006b3",
   "metadata": {},
   "source": [
    "Przeglądu funkcji modyfikujących istniejące tablice można znaleźć [tutaj](https://numpy.org/doc/stable/reference/routines.array-manipulation.html)"
   ]
  },
  {
   "cell_type": "markdown",
   "id": "fe55eaf7",
   "metadata": {},
   "source": [
    "#### Funkcja [`np.reshape`](https://numpy.org/doc/stable/reference/generated/numpy.reshape.html#numpy.reshape)\n",
    "\n",
    "Funkcja przyjmuje dwa parametry obowiązkowe - tablicę, której kształt chcemy zmienić oraz tuple reprezentującą kształt jaki chcemy tej tablicy nadać. Liczba elementów tablicy (atrybut `size` ndarray) musi pozostać niezmieniona. Funkcja zwraca nową tablicę (oznacza to, że tworzy nową tablicę i zwraca referencje do niej), nie modyfikuje starej."
   ]
  },
  {
   "cell_type": "code",
   "execution_count": null,
   "id": "211a6493",
   "metadata": {},
   "outputs": [],
   "source": [
    "# metoda I (funkcja np.reshape)\n",
    "a = np.array(\n",
    "    [\n",
    "        [1, 2, 3, 4],\n",
    "        [5, 6, 7, 8],\n",
    "        [9, 10, 11, 12]\n",
    "    ]\n",
    ")\n",
    "\n",
    "b = np.reshape(a, (6, 2))\n",
    "b"
   ]
  },
  {
   "cell_type": "code",
   "execution_count": null,
   "id": "64cbfd76",
   "metadata": {},
   "outputs": [],
   "source": [
    "a"
   ]
  },
  {
   "cell_type": "markdown",
   "id": "29f13165",
   "metadata": {},
   "source": [
    "#### Metoda [`np.ndarray.reshape`](https://numpy.org/doc/stable/reference/generated/numpy.ndarray.reshape.html)\n",
    "\n",
    "Metoda klasy `ndarray`, która modyfikuje kształt tablicy w ten sam sposób co funkcja `reshape`."
   ]
  },
  {
   "cell_type": "code",
   "execution_count": null,
   "id": "f2d95f25",
   "metadata": {},
   "outputs": [],
   "source": [
    "# metoda II (metoda reshape)\n",
    "\n",
    "b = a.reshape((6,2))\n",
    "b"
   ]
  },
  {
   "cell_type": "code",
   "execution_count": null,
   "id": "6f2118eb",
   "metadata": {},
   "outputs": [],
   "source": [
    "a"
   ]
  },
  {
   "cell_type": "markdown",
   "id": "808cff22",
   "metadata": {},
   "source": [
    "Przy definiowaniu kształtu nowej tablicy jedną z dopuszczalnych wartości długości osi tej tablicy jest wartość -1. Wartość -1 oznacza, że długość tej konkretnej osi ma zostać dobrana na podstawie długości wszystkich pozostałych osi (-1 można wstawić tylko raz w definicji nowego kształtu). "
   ]
  },
  {
   "cell_type": "code",
   "execution_count": null,
   "id": "eccc7870",
   "metadata": {},
   "outputs": [],
   "source": [
    "b = np.reshape(a, (2, -1))\n",
    "b"
   ]
  },
  {
   "cell_type": "markdown",
   "id": "b94ea0e4",
   "metadata": {},
   "source": [
    "W szczególności podanie w miejscu kształtu (czyli tupli) pojedynczej wartości -1 powoduje spłaszczenie tablicy."
   ]
  },
  {
   "cell_type": "code",
   "execution_count": null,
   "id": "5a79ede1",
   "metadata": {},
   "outputs": [],
   "source": [
    "b = np.reshape(a, -1)\n",
    "b"
   ]
  },
  {
   "cell_type": "code",
   "execution_count": null,
   "id": "408c38d3",
   "metadata": {},
   "outputs": [],
   "source": [
    "a"
   ]
  },
  {
   "cell_type": "markdown",
   "id": "cd1b897b",
   "metadata": {},
   "source": [
    "#### Funkcja [`np.resize`](https://numpy.org/doc/stable/reference/generated/numpy.resize.html)\n",
    "\n",
    "\n",
    "Funkcja resize działa podobnie jak funkcja `np.reshape` z tą różnicą, że funkcja np.resize nie wymaga zachowania rozmiary tablicy. Jeżeli nowy rozmiar jest za mały, numpy obetnie wystające wartości. Jeżęli nowy rozmiar jest za duży, numpy wypełni nadmiarowe 'sloty' powtórzeniami."
   ]
  },
  {
   "cell_type": "code",
   "execution_count": null,
   "id": "03d150e6",
   "metadata": {},
   "outputs": [],
   "source": [
    "# metoda I (funkcja resize)\n",
    "np.resize(a, (1, 3))"
   ]
  },
  {
   "cell_type": "code",
   "execution_count": null,
   "id": "ae4e3000",
   "metadata": {},
   "outputs": [],
   "source": [
    "a = np.array(\n",
    "[\n",
    "    [\n",
    "        [1, 2, 3],\n",
    "        [4, 5, 6],\n",
    "    ],\n",
    "\n",
    "    [\n",
    "        [7, 8, 9],\n",
    "        [10, 11, 12],\n",
    "    ],\n",
    "    ]\n",
    ")\n",
    "\n",
    "a"
   ]
  },
  {
   "cell_type": "code",
   "execution_count": null,
   "id": "2486dfbe",
   "metadata": {},
   "outputs": [],
   "source": [
    "np.resize(a, (2, 6))"
   ]
  },
  {
   "cell_type": "markdown",
   "id": "5cc568bb",
   "metadata": {},
   "source": [
    "#### Metoda [`np.ndarray.resize`](https://numpy.org/doc/stable/reference/generated/numpy.ndarray.resize.html)\n",
    "\n",
    "Metoda klasy `ndarray`, która modyfikuje kształt i rozmiar przekazanej tablicy w ten sam sposób co funkcja resize."
   ]
  },
  {
   "cell_type": "code",
   "execution_count": null,
   "id": "14de0381",
   "metadata": {},
   "outputs": [],
   "source": [
    "# metoda II (metoda resize)\n",
    "a"
   ]
  },
  {
   "cell_type": "code",
   "execution_count": null,
   "id": "d42ded09",
   "metadata": {},
   "outputs": [],
   "source": [
    "a.resize((1, 12))"
   ]
  },
  {
   "cell_type": "code",
   "execution_count": null,
   "id": "419155af",
   "metadata": {},
   "outputs": [],
   "source": [
    "a"
   ]
  },
  {
   "cell_type": "markdown",
   "id": "ee0cde4f",
   "metadata": {},
   "source": [
    "Ale są też inne sposoby na spłaszczenie tablicy."
   ]
  },
  {
   "cell_type": "markdown",
   "id": "e5605c44",
   "metadata": {},
   "source": [
    "#### Funkcja [`np.ravel`](https://numpy.org/doc/stable/reference/generated/numpy.ravel.html#numpy.ravel)"
   ]
  },
  {
   "cell_type": "markdown",
   "id": "f2d7a71d",
   "metadata": {},
   "source": [
    "Funkcja zwraca spłaszczoną postać przekazanej do niej tablicy. Podobnie jak funkcja `np.reshape` funkcja `np.ravel` zwraca nową tablicę, nie modyfikuje starej."
   ]
  },
  {
   "cell_type": "code",
   "execution_count": null,
   "id": "136801c2",
   "metadata": {},
   "outputs": [],
   "source": [
    "# metoda I (funkcja ravel)\n",
    "\n",
    "b = np.ravel(a)\n",
    "b"
   ]
  },
  {
   "cell_type": "code",
   "execution_count": null,
   "id": "6a31891e",
   "metadata": {},
   "outputs": [],
   "source": [
    "a"
   ]
  },
  {
   "cell_type": "code",
   "execution_count": null,
   "id": "7953cd49",
   "metadata": {},
   "outputs": [],
   "source": [
    "# metoda II (metoda ravel)\n",
    "\n",
    "b = a.ravel()\n",
    "b"
   ]
  },
  {
   "cell_type": "code",
   "execution_count": null,
   "id": "a5b30dee",
   "metadata": {},
   "outputs": [],
   "source": [
    "a"
   ]
  },
  {
   "cell_type": "markdown",
   "id": "8d927296",
   "metadata": {},
   "source": [
    "#### Metoda [`np.ndarray.flatten`](https://numpy.org/doc/stable/reference/generated/numpy.ndarray.flatten.html#numpy.ndarray.flatten)\n",
    "\n",
    "Metoda klasy `ndarray`, która zwraca spłaszczoną postać przekazanej do niej tablicy."
   ]
  },
  {
   "cell_type": "code",
   "execution_count": null,
   "id": "2a9d16ac",
   "metadata": {},
   "outputs": [],
   "source": [
    "b = a.flatten()\n",
    "b"
   ]
  },
  {
   "cell_type": "code",
   "execution_count": null,
   "id": "cbfc9f4e",
   "metadata": {},
   "outputs": [],
   "source": [
    "a"
   ]
  },
  {
   "cell_type": "markdown",
   "id": "fb1e15dd",
   "metadata": {},
   "source": [
    "#### Funkcja [`np.asarray`](https://numpy.org/doc/stable/reference/generated/numpy.asarray.html)\n",
    "\n",
    "Funkcja `np.asarray` służy do zmiany typu istniejącej tablicy. Przyjmuje jeden prametr obowiązkowy - tablicę której chcemy zmienić typ oraz parametr opcjonalny - typ na, który tablica będzie zrzutowana."
   ]
  },
  {
   "cell_type": "code",
   "execution_count": null,
   "id": "c770fb21",
   "metadata": {},
   "outputs": [],
   "source": [
    "c = np.array([1, 2])\n",
    "c.dtype"
   ]
  },
  {
   "cell_type": "code",
   "execution_count": null,
   "id": "b16652f5",
   "metadata": {},
   "outputs": [],
   "source": [
    "b = np.asarray(c, dtype=np.float64)\n",
    "b.dtype"
   ]
  },
  {
   "cell_type": "markdown",
   "id": "deaf1575",
   "metadata": {},
   "source": [
    "#### Funkcja [`np.flip`](https://numpy.org/doc/stable/reference/generated/numpy.flip.html#numpy.flip)\n",
    "\n",
    "Funkcja odwraca kolejność elementów tablicy wzdłuż wskazanej osi. Przyjmuje jeden parametr obowiązkowy - listę, której kolejność elementów chcemy odwrócić i jeden parametr opcjonalny - oś wzdłuż której odwracamy."
   ]
  },
  {
   "cell_type": "code",
   "execution_count": null,
   "id": "2a729956",
   "metadata": {},
   "outputs": [],
   "source": [
    "a = np.array(\n",
    "    [\n",
    "        [1, 2, 3],\n",
    "        [4, 5, 6],\n",
    "        [7, 8, 9]\n",
    "    ],\n",
    "\n",
    ")\n",
    "\n",
    "a"
   ]
  },
  {
   "cell_type": "code",
   "execution_count": null,
   "id": "de2832f0",
   "metadata": {},
   "outputs": [],
   "source": [
    "np.flip(a)  # domyślnie funkcja odwraca wzdłuż obu osi"
   ]
  },
  {
   "cell_type": "code",
   "execution_count": null,
   "id": "9db095f9",
   "metadata": {},
   "outputs": [],
   "source": [
    "np.flip(a, 0)  # obrócenie wzdłuż osi wertykalnej"
   ]
  },
  {
   "cell_type": "code",
   "execution_count": null,
   "id": "072faa92",
   "metadata": {},
   "outputs": [],
   "source": [
    "np.flip(a, 1)  # obrócenie wzdłuż osi horyzontalnej"
   ]
  },
  {
   "cell_type": "markdown",
   "id": "50258ffa",
   "metadata": {},
   "source": [
    "#### Funkcja [`np.flipud`](https://numpy.org/doc/stable/reference/generated/numpy.flipud.html#numpy.flipud)\n",
    "\n",
    "Funkcja `flipud` rozwija się do 'flip up and down' Funkcja działa identycznie jak `np.flip` z parametrem axis=0"
   ]
  },
  {
   "cell_type": "code",
   "execution_count": null,
   "id": "00a85dcd",
   "metadata": {},
   "outputs": [],
   "source": [
    "np.flipud(a)"
   ]
  },
  {
   "cell_type": "markdown",
   "id": "f0b95e01",
   "metadata": {},
   "source": [
    "#### Funkcja [`np.fliplr`](https://numpy.org/doc/stable/reference/generated/numpy.fliplr.html)\n",
    "\n",
    "Nazwa funkcja `fliplr` rozwija się do 'flip left and right'. Funkcja działa identycznie jak `np.flip` z parametrem axis=1"
   ]
  },
  {
   "cell_type": "code",
   "execution_count": null,
   "id": "a77e8023",
   "metadata": {},
   "outputs": [],
   "source": [
    "np.fliplr(a)"
   ]
  },
  {
   "cell_type": "markdown",
   "id": "b57e1b76",
   "metadata": {},
   "source": [
    "#### Metoda [`ndarray.sort`](https://numpy.org/doc/stable/reference/generated/numpy.ndarray.sort.html)\n",
    "\n",
    "Metoda `sort` sortuje w miejscu tablicę, na której działa."
   ]
  },
  {
   "cell_type": "code",
   "execution_count": null,
   "id": "78c83ce1",
   "metadata": {},
   "outputs": [],
   "source": [
    "vector = np.array([2, 1, 5, 4, 9])\n",
    "vector"
   ]
  },
  {
   "cell_type": "code",
   "execution_count": null,
   "id": "b77ebcab",
   "metadata": {},
   "outputs": [],
   "source": [
    "vector.sort()"
   ]
  },
  {
   "cell_type": "code",
   "execution_count": null,
   "id": "83e7a631",
   "metadata": {},
   "outputs": [],
   "source": [
    "vector"
   ]
  },
  {
   "cell_type": "markdown",
   "id": "a6f05650",
   "metadata": {},
   "source": [
    "**Uwaga!** Metoda sort działa w miejscu - modyfikuje istniejący obiekt, a nie zwraca nowy"
   ]
  },
  {
   "cell_type": "code",
   "execution_count": null,
   "id": "02170847",
   "metadata": {},
   "outputs": [],
   "source": [
    "A = np.array([[2, 4, 3],\n",
    "              [1, 9, 0],\n",
    "              [3, 6, 1]])"
   ]
  },
  {
   "cell_type": "markdown",
   "id": "e57ab8df",
   "metadata": {},
   "source": [
    "#### Funkcja [`np.sort`](https://numpy.org/doc/stable/reference/generated/numpy.sort.html)\n",
    "\n",
    "Funkcja `sort` sortuje przekazaną jej tablicę."
   ]
  },
  {
   "cell_type": "code",
   "execution_count": null,
   "id": "3d6f4387",
   "metadata": {},
   "outputs": [],
   "source": [
    "np.sort(A)"
   ]
  },
  {
   "cell_type": "code",
   "execution_count": null,
   "id": "9ebbed0f",
   "metadata": {},
   "outputs": [],
   "source": [
    "A"
   ]
  },
  {
   "cell_type": "code",
   "execution_count": null,
   "id": "d9e41640",
   "metadata": {},
   "outputs": [],
   "source": [
    "np.sort(A, axis=0)"
   ]
  },
  {
   "cell_type": "code",
   "execution_count": null,
   "id": "1d1a7830",
   "metadata": {},
   "outputs": [],
   "source": [
    "np.sort(A, axis=1)"
   ]
  },
  {
   "cell_type": "markdown",
   "id": "627c7257",
   "metadata": {},
   "source": [
    "#### Zadanie 16\n",
    "\n",
    "---\n",
    "\n",
    "Utwórz macierz kwadratową za pomocą funkcji reshape na 10-elementowym wektorze z przedziału [20, 45]. Obróć ją lewo-prawo.\n",
    "\n"
   ]
  },
  {
   "cell_type": "markdown",
   "id": "79008a7f",
   "metadata": {},
   "source": [
    "## [Broadcasting](https://numpy.org/doc/stable/user/basics.broadcasting.html)\n",
    "\n",
    "Broadcasting polega na automatycznym dopasowywaniu wymiarów jednej macierzy do drugiej, tak żeby operacji wykonywana z ich udziałem była możliwa. Dopasowanie polega na skopiowaniu mniejszej macierzy wzdłuż kolejnych osi do momentu, w którym obie macierze będą miały ten sam kształt. W określonych warunkach takie automatyczne dopasowanie jest możliwe."
   ]
  },
  {
   "cell_type": "code",
   "execution_count": null,
   "id": "367b7cf2",
   "metadata": {},
   "outputs": [],
   "source": [
    "a = np.array([1.0, 2.0, 3.0])\n",
    "b = 2.0\n",
    "a * b"
   ]
  },
  {
   "cell_type": "code",
   "execution_count": null,
   "id": "584d8540",
   "metadata": {},
   "outputs": [],
   "source": [
    "a = np.array([1.0, 2.0, 3.0])\n",
    "b = np.array([2.0])\n",
    "a * b"
   ]
  },
  {
   "attachments": {
    "broadcasting1.png": {
     "image/png": "[encoded data removed]"
    }
   },
   "cell_type": "markdown",
   "id": "24e066dc",
   "metadata": {},
   "source": [
    "![broadcasting1.png](attachment:broadcasting1.png)"
   ]
  },
  {
   "cell_type": "code",
   "execution_count": null,
   "id": "5f62501f",
   "metadata": {},
   "outputs": [],
   "source": [
    "a = np.array([[ 0.0,  0.0,  0.0],\n",
    "              [10.0, 10.0, 10.0],\n",
    "              [20.0, 20.0, 20.0],\n",
    "              [30.0, 30.0, 30.0]])\n",
    "b = np.array([1.0, 2.0, 3.0])\n",
    "a + b"
   ]
  },
  {
   "attachments": {
    "broadcasting2.png": {
     "image/png": "[encoded data removed]"
    }
   },
   "cell_type": "markdown",
   "id": "70973c95",
   "metadata": {},
   "source": [
    "![broadcasting2.png](attachment:broadcasting2.png) (źródło: https://numpy.org/doc/stable/user/basics.broadcasting.html)"
   ]
  },
  {
   "cell_type": "code",
   "execution_count": null,
   "id": "bcd8913b",
   "metadata": {},
   "outputs": [],
   "source": [
    "b = np.array([1.0, 2.0, 3.0, 4.0])\n",
    "a + b"
   ]
  },
  {
   "attachments": {
    "broadcasting4.png": {
     "image/png": "[encoded data removed]"
    }
   },
   "cell_type": "markdown",
   "id": "c36695db",
   "metadata": {},
   "source": [
    "![broadcasting4.png](attachment:broadcasting4.png) (źródło: https://numpy.org/doc/stable/user/basics.broadcasting.html)"
   ]
  },
  {
   "cell_type": "markdown",
   "id": "dc94239e",
   "metadata": {},
   "source": [
    "Ogólnie"
   ]
  },
  {
   "attachments": {
    "image.png": {
     "image/png": "[encoded data removed]"
    }
   },
   "cell_type": "markdown",
   "id": "63c4c2f2",
   "metadata": {},
   "source": [
    "![image.png](attachment:image.png) (źródło: https://jakevdp.github.io/PythonDataScienceHandbook/02.05-computation-on-arrays-broadcasting.html)"
   ]
  },
  {
   "cell_type": "markdown",
   "id": "d3c5d8ad",
   "metadata": {},
   "source": [
    "#### Zadanie 17\n",
    "\n",
    "---\n",
    "\n",
    "\n",
    "Z zadanej macierzy A wyciągnij korzystając z warunków logicznych następujące slice'y:\n",
    "\n",
    "- `array([25, 26, 27, 28, 29, 30, 31, 32, 33, 34, 35])`\n",
    "- `array([25, 26, 27, 28, 29])`"
   ]
  },
  {
   "cell_type": "code",
   "execution_count": null,
   "id": "e47b98b7",
   "metadata": {},
   "outputs": [],
   "source": [
    "A = np.array([[ 0,  1,  2,  3,  4,  5],\n",
    "       [ 6,  7,  8,  9, 10, 11],\n",
    "       [12, 13, 14, 15, 16, 17],\n",
    "       [18, 19, 20, 21, 22, 23],\n",
    "       [24, 25, 26, 27, 28, 29],\n",
    "       [30, 31, 32, 33, 34, 35]])"
   ]
  },
  {
   "cell_type": "markdown",
   "id": "d5304421",
   "metadata": {},
   "source": [
    "## Generator liczb pseudolosowych\n",
    "\n",
    "Jednym z podmodułów biblioteki `numpy` jest moduł [`np.random`](https://numpy.org/doc/stable/reference/random/index.html#module-numpy.random). Za jego pomocą możemy generować tablice numpy z losowymi wartościami elementów. Listę dostępnych w module funkcji można znaleźć [tutaj](https://numpy.org/doc/stable/reference/random/legacy.html#functions-in-numpy-random)"
   ]
  },
  {
   "cell_type": "code",
   "execution_count": null,
   "id": "0a729f6f",
   "metadata": {},
   "outputs": [],
   "source": [
    "print(dir(np.random))"
   ]
  },
  {
   "cell_type": "markdown",
   "id": "f6b4e562",
   "metadata": {},
   "source": [
    "#### Funkcja [`np.random.randint`](https://numpy.org/doc/stable/reference/random/generated/numpy.random.randint.html)\n",
    "\n",
    "Funkcja zwraca losową liczbę przedziału z zadanego przedziału."
   ]
  },
  {
   "cell_type": "code",
   "execution_count": null,
   "id": "9d100bf6",
   "metadata": {},
   "outputs": [],
   "source": [
    "np.random.randint(11, 17)"
   ]
  },
  {
   "cell_type": "markdown",
   "id": "e8da95f1",
   "metadata": {},
   "source": [
    "Opcjonalnie, jako trzeci parametr można podać liczbę potrzebnych losowań i wtedy funkcja zwróci listę liczb losowych o długości równej liczbie losowań."
   ]
  },
  {
   "cell_type": "code",
   "execution_count": null,
   "id": "39e77f60",
   "metadata": {},
   "outputs": [],
   "source": [
    "np.random.randint(11, 17, 4)"
   ]
  },
  {
   "cell_type": "markdown",
   "id": "7d38bc8a",
   "metadata": {},
   "source": [
    "#### Funkcja [`np.random.choice`](https://numpy.org/doc/stable/reference/random/generated/numpy.random.choice.html)\n",
    "\n",
    "Funkcja zwraca losową liczbę z zadanego zbiory liczb."
   ]
  },
  {
   "cell_type": "code",
   "execution_count": null,
   "id": "ad1436fa",
   "metadata": {},
   "outputs": [],
   "source": [
    "arr = np.array([10, 313, 3, 54, 6])\n",
    "\n",
    "np.random.choice(arr)"
   ]
  },
  {
   "cell_type": "markdown",
   "id": "f843860c",
   "metadata": {},
   "source": [
    "Przyjmuje dwa opcjonalne parametry - size - liczbę zwracanych liczb, replace - czy dopuszczamy powtórzenia (domyślnie przyjmuje wartość `True`)"
   ]
  },
  {
   "cell_type": "code",
   "execution_count": null,
   "id": "2ec86171",
   "metadata": {},
   "outputs": [],
   "source": [
    "np.random.choice(arr, size = 3)"
   ]
  },
  {
   "cell_type": "code",
   "execution_count": null,
   "id": "bad6da00",
   "metadata": {},
   "outputs": [],
   "source": [
    "np.random.choice(arr, size=5, replace=False)  # bez powtórzeń nie da się wygenerować więszkego zbioru liczb niż ten zadany"
   ]
  },
  {
   "cell_type": "markdown",
   "id": "31d2025f",
   "metadata": {},
   "source": [
    "#### Funkcja [`np.random.randn`](https://numpy.org/doc/stable/reference/random/generated/numpy.random.randn.html)\n",
    "\n",
    "Funkcja zwraca tablicę liczb losowych o zadanym kształcie (kształt jest przekazywany do funkcji w postaci pojedynczych parametrów). Losowania pochodzą z ustandaryzowanego rozkładu normalnego (średnia 0 i odchylenie standardowe 1)"
   ]
  },
  {
   "cell_type": "code",
   "execution_count": null,
   "id": "e4a5618a",
   "metadata": {},
   "outputs": [],
   "source": [
    "np.random.randn(11, 3)"
   ]
  },
  {
   "cell_type": "markdown",
   "id": "0b3c87c1",
   "metadata": {},
   "source": [
    "#### Funkcja [`np.random.normal`](https://numpy.org/doc/stable/reference/random/generated/numpy.random.normal.html#numpy.random.normal)\n",
    "\n",
    "Funkcja zwraca liczbę losową z rozkładu normalnego."
   ]
  },
  {
   "cell_type": "code",
   "execution_count": null,
   "id": "721fb70f",
   "metadata": {},
   "outputs": [],
   "source": [
    "np.random.normal()"
   ]
  },
  {
   "cell_type": "markdown",
   "id": "572baf01",
   "metadata": {},
   "source": [
    "W odróżnieniu od funkcji `np.random.randn` w funkcji `np.random.normal` można zdefiniować wartość średniej oraz odchylenia standardowego rozkładu."
   ]
  },
  {
   "cell_type": "code",
   "execution_count": null,
   "id": "cb617a50",
   "metadata": {},
   "outputs": [],
   "source": [
    "np.random.normal(loc=4, scale=2, size=10)"
   ]
  },
  {
   "cell_type": "markdown",
   "id": "1afa490e",
   "metadata": {},
   "source": [
    "#### Funkcja [`np.random.shuffle`](https://numpy.org/doc/stable/reference/random/generated/numpy.random.shuffle.html#numpy.random.shuffle)\n",
    "\n",
    "Funkcja 'tasuje' zawartość tablicy w miejscu."
   ]
  },
  {
   "cell_type": "code",
   "execution_count": null,
   "id": "5513603b",
   "metadata": {},
   "outputs": [],
   "source": [
    "pool = np.array([10, 313, 3, 54, 6])"
   ]
  },
  {
   "cell_type": "code",
   "execution_count": null,
   "id": "99852b46",
   "metadata": {},
   "outputs": [],
   "source": [
    "np.random.shuffle(pool)"
   ]
  },
  {
   "cell_type": "code",
   "execution_count": null,
   "id": "08d6b494",
   "metadata": {},
   "outputs": [],
   "source": [
    "pool"
   ]
  },
  {
   "cell_type": "markdown",
   "id": "6465b726",
   "metadata": {},
   "source": [
    "#### Funkcja [`np.random.seed`](https://numpy.org/doc/stable/reference/random/generated/numpy.random.normal.html#numpy.random.seed)\n",
    "\n",
    "Funkcja ustawia źródło generatora liczb pseudolosowych. Dzięki temu możemy wygnerować powtarzalne przebiegi pseudolosowe."
   ]
  },
  {
   "cell_type": "code",
   "execution_count": null,
   "id": "755eb091",
   "metadata": {},
   "outputs": [],
   "source": [
    "np.random.seed(1)"
   ]
  },
  {
   "cell_type": "markdown",
   "id": "f6028cae",
   "metadata": {},
   "source": [
    "#### Zadanie 18\n",
    "\n",
    "---\n",
    "\n",
    "Utwórz tablicę losowych liczb z przedziału [0, 1] o rozmiarze 2 x 3 x 4"
   ]
  },
  {
   "cell_type": "code",
   "execution_count": null,
   "id": "3ab31c65",
   "metadata": {},
   "outputs": [],
   "source": [
    "np.random.random_sample(24).reshape((2,3,4))"
   ]
  },
  {
   "cell_type": "markdown",
   "id": "a095a06b",
   "metadata": {},
   "source": [
    "#### Zadanie 19\n",
    "\n",
    "---\n",
    "\n",
    "Utwórz wektor ośmiu losowych liczb całkowitych z przedziału [0, 10]"
   ]
  },
  {
   "cell_type": "markdown",
   "id": "4865cc18",
   "metadata": {},
   "source": [
    "#### Zadanie 20\n",
    "\n",
    "---\n",
    "\n",
    "Wylosuj jedną liczbe z rozkładu normalnego standardowego. Zamroź stan losowania ustawiając ziarno o dowolnej wartości."
   ]
  },
  {
   "cell_type": "markdown",
   "id": "a809011c",
   "metadata": {},
   "source": [
    "## Wybieranie elementów na podstawie warunków logicznych (maskowanie)"
   ]
  },
  {
   "cell_type": "markdown",
   "id": "0538f7f2",
   "metadata": {},
   "source": [
    "Czym jest maska? Maska to tablica, którą przykładamy do innej tablicy w celu wyciągnięcia wyłącznie części jej elementów. "
   ]
  },
  {
   "cell_type": "markdown",
   "id": "a678feab",
   "metadata": {},
   "source": [
    "Na tablicach numpy możemy wykonywać operacje logiczne"
   ]
  },
  {
   "cell_type": "code",
   "execution_count": null,
   "id": "b0df1459",
   "metadata": {},
   "outputs": [],
   "source": [
    "a = np.array([21, 18, 19, 19, 15])\n",
    "\n",
    "bool_array = a > 18"
   ]
  },
  {
   "cell_type": "markdown",
   "id": "9ddc3983",
   "metadata": {},
   "source": [
    "W wyniku takiej operacji logicznej dostajemy tablicę typu `boolean` zawierającą wynik wykonywania takiej operacji loginczej \"po współrzędnych\"."
   ]
  },
  {
   "cell_type": "code",
   "execution_count": null,
   "id": "2c31a1ac",
   "metadata": {},
   "outputs": [],
   "source": [
    "bool_array.dtype"
   ]
  },
  {
   "cell_type": "code",
   "execution_count": null,
   "id": "de9192a1",
   "metadata": {},
   "outputs": [],
   "source": [
    "bool_array"
   ]
  },
  {
   "cell_type": "markdown",
   "id": "904b1950",
   "metadata": {},
   "source": [
    "Taką tablicę nazywamy maską. Pomyślmy o masce zorro. Nakładając taką maskę na tablicę w miejscach gdzie mamy `True` znajdują się 'dziury na oczy', w miejscach gdzie jest `False` mamy czarny materiał."
   ]
  },
  {
   "cell_type": "code",
   "execution_count": null,
   "id": "1975c6f5",
   "metadata": {},
   "outputs": [],
   "source": [
    "a[bool_array]"
   ]
  },
  {
   "cell_type": "code",
   "execution_count": null,
   "id": "d6183718",
   "metadata": {},
   "outputs": [],
   "source": [
    "a[a > 18]"
   ]
  },
  {
   "cell_type": "code",
   "execution_count": null,
   "id": "57d69f4b",
   "metadata": {},
   "outputs": [],
   "source": [
    "res = np.random.randint(0, 100, 24).reshape(4, 6)\n",
    "res"
   ]
  },
  {
   "cell_type": "markdown",
   "id": "6ce61462",
   "metadata": {},
   "source": [
    "Warunki logiczne możemy składać."
   ]
  },
  {
   "cell_type": "code",
   "execution_count": null,
   "id": "e7b8a762",
   "metadata": {},
   "outputs": [],
   "source": [
    "res[(res > 50) & (res < 80)]  # and"
   ]
  },
  {
   "cell_type": "code",
   "execution_count": null,
   "id": "583b6189",
   "metadata": {},
   "outputs": [],
   "source": [
    "(res < 20) | (res > 80)  # or"
   ]
  },
  {
   "cell_type": "code",
   "execution_count": null,
   "id": "633fb279",
   "metadata": {},
   "outputs": [],
   "source": [
    "~((res < 20) | (res > 80))"
   ]
  },
  {
   "cell_type": "code",
   "execution_count": null,
   "id": "07db45d3",
   "metadata": {},
   "outputs": [],
   "source": [
    "res[~((res < 20) | (res > 80))]"
   ]
  },
  {
   "cell_type": "code",
   "execution_count": null,
   "id": "8d9cb7d0",
   "metadata": {},
   "outputs": [],
   "source": [
    "np.any(res > 50)"
   ]
  },
  {
   "cell_type": "code",
   "execution_count": null,
   "id": "8d816974",
   "metadata": {},
   "outputs": [],
   "source": [
    "np.all(res > 50)"
   ]
  },
  {
   "cell_type": "code",
   "execution_count": null,
   "id": "7cc900f2",
   "metadata": {},
   "outputs": [],
   "source": [
    "np.any(res > 60, axis=0)"
   ]
  },
  {
   "cell_type": "code",
   "execution_count": null,
   "id": "88abf977",
   "metadata": {},
   "outputs": [],
   "source": [
    "np.any(res > 60, axis=1)"
   ]
  },
  {
   "cell_type": "markdown",
   "id": "c2316433",
   "metadata": {},
   "source": [
    "## Egzotyczne tablice"
   ]
  },
  {
   "cell_type": "markdown",
   "id": "8a51d250",
   "metadata": {},
   "source": [
    "Rzadko takich tablic używamy, ale istnieje w numpy możliwość ich stworzenia."
   ]
  },
  {
   "cell_type": "code",
   "execution_count": null,
   "id": "cd91378f",
   "metadata": {},
   "outputs": [],
   "source": [
    "vector = np.array(['a', 'b', 'c'])\n",
    "\n",
    "vector.dtype"
   ]
  },
  {
   "cell_type": "code",
   "execution_count": null,
   "id": "e5eccdbf",
   "metadata": {},
   "outputs": [],
   "source": [
    "vector = np.array([1, 'b', 'c'])\n",
    "\n",
    "vector.dtype"
   ]
  },
  {
   "cell_type": "code",
   "execution_count": null,
   "id": "d342da1e",
   "metadata": {},
   "outputs": [],
   "source": [
    "vector = np.array([{'a':1}, \"ala\"])\n",
    "vector"
   ]
  },
  {
   "cell_type": "markdown",
   "id": "370d0261",
   "metadata": {},
   "source": [
    "## Algebra liniowa\n",
    "\n",
    "https://www.youtube.com/watch?v=kjBOesZCoqc&list=PL0-GT3co4r2y2YErbmuJw2L5tW4Ew2O5B"
   ]
  },
  {
   "cell_type": "markdown",
   "id": "478ff2db",
   "metadata": {},
   "source": [
    "#### Operacje liniowe\n",
    "\n",
    "Popularnym podmodułem biblioteki numpy jest [`np.linalg`](https://numpy.org/doc/stable/reference/routines.linalg.html#module-numpy.linalg) - moduł z operacjami najczęściej wykonywanymi w algebrze liniowej. Listę dostępnych w module funkcji można znaleźć [tutaj](https://numpy.org/doc/stable/reference/routines.linalg.html)."
   ]
  },
  {
   "cell_type": "code",
   "execution_count": null,
   "id": "31defc88",
   "metadata": {},
   "outputs": [],
   "source": [
    "print(dir(np.linalg))"
   ]
  },
  {
   "cell_type": "markdown",
   "id": "092a8845",
   "metadata": {},
   "source": [
    "#### Mnożenie macierzowe ([`np.matmul`](https://numpy.org/doc/stable/reference/generated/numpy.matmul.html), [`np.dot`](https://numpy.org/doc/stable/reference/generated/numpy.dot.html), [`np.tensordot`](https://numpy.org/doc/stable/reference/generated/numpy.tensordot.html))"
   ]
  },
  {
   "cell_type": "markdown",
   "id": "8c011d7b",
   "metadata": {},
   "source": [
    "<center>\n",
    "$ \\small\n",
    "\\begin{pmatrix}\n",
    "a_{1} & a_{2} & a_{3} \\\\\n",
    "a_{4} & a_{5} & a_{6}\n",
    "\\end{pmatrix}\\cdot\\begin{pmatrix}\n",
    "b_{1} & b_{4} \\\\\n",
    "b_{2} & b_{5} \\\\\n",
    "b_{3} & b_{6} \\\\\n",
    "\\end{pmatrix}= \\begin{pmatrix}\n",
    "a_{1}\\cdot b_{1} + a_{2}\\cdot b_{2} + a_{3}\\cdot b_{3} & a_{1}\\cdot b_{4} + a_{2}\\cdot b_{5} + a_{3}\\cdot b_{6}\\\\\n",
    "a_{4}\\cdot b_{1} + a_{5}\\cdot b_{2} + a_{6}\\cdot b_{3} & a_{4}\\cdot b_{4} + a_{5}\\cdot b_{5} + a_{6}\\cdot b_{6}\n",
    "\\end{pmatrix}\n",
    "$\n",
    "</center>"
   ]
  },
  {
   "cell_type": "code",
   "execution_count": null,
   "id": "ea917b31",
   "metadata": {},
   "outputs": [],
   "source": [
    "# mnożenie macierzowe\n",
    "\n",
    "a = np.array(\n",
    "    [\n",
    "        [1, 2, 3],\n",
    "        [4 ,5, 6]\n",
    "    ]\n",
    ")\n",
    "\n",
    "b = np.array(\n",
    "    [\n",
    "        [1, 2],\n",
    "        [3, 4],\n",
    "        [5, 6]\n",
    "    ]\n",
    ")\n",
    "\n",
    "# metoda I (funkcja matmul)\n",
    "print(np.matmul(a, b))\n",
    "\n",
    "# metoda II (funkcja dot)\n",
    "print(np.dot(a, b))\n",
    "\n",
    "# metoda III (funkcja np.tensordot)\n",
    "print(np.tensordot(a, b, axes=1))\n",
    "\n",
    "# metoda IV (operator @)\n",
    "print(a @ b)\n",
    "\n",
    "# *można też użyć funkcji ogólnego przeznaczenia - tf.einsum"
   ]
  },
  {
   "cell_type": "markdown",
   "id": "495da548",
   "metadata": {},
   "source": [
    "#### Macierz transponowana $D^{T}$ (funkcja [`np.transpose`](https://numpy.org/doc/stable/reference/generated/numpy.transpose.html))"
   ]
  },
  {
   "cell_type": "markdown",
   "id": "f7d38dfa",
   "metadata": {},
   "source": [
    "<center>$ \\small\n",
    "\\begin{pmatrix}\n",
    "a_{1} & a_{2} & a_{3} \\\\\n",
    "a_{4} & a_{5} & a_{6}\n",
    "\\end{pmatrix}^{T}=\\begin{pmatrix}\n",
    "a_{1} & a_{4} \\\\\n",
    "a_{2} & a_{5} \\\\\n",
    "a_{3} & a_{6} \\\\\n",
    "\\end{pmatrix}\n",
    "$\n",
    "</center>"
   ]
  },
  {
   "cell_type": "code",
   "execution_count": null,
   "id": "8de74cf7",
   "metadata": {},
   "outputs": [],
   "source": [
    "# Dla zadanej macierzy d\n",
    "d = np.array(\n",
    "    [\n",
    "        [1., 2., 3.],\n",
    "        [4., 5., 6.],\n",
    "    ]\n",
    ")\n",
    "\n",
    "# macierz transponowana ma postać\n",
    "d_trans = np.transpose(d)\n",
    "d_trans"
   ]
  },
  {
   "cell_type": "markdown",
   "id": "eca69b81",
   "metadata": {},
   "source": [
    "Transpozycja transponowanego macierzy to ta sama macierz\n",
    "\n",
    "<center>$(D^{T})^{T} = D$</center>"
   ]
  },
  {
   "cell_type": "code",
   "execution_count": null,
   "id": "151a80a4",
   "metadata": {},
   "outputs": [],
   "source": [
    "print(np.transpose(d_trans))"
   ]
  },
  {
   "cell_type": "markdown",
   "id": "1323e841",
   "metadata": {},
   "source": [
    "#### Zadanie 21\n",
    "\n",
    "---\n",
    "\n",
    "Utwórz wektor (tablice) o elementach `[1, 2, 3, 4]` i znajdź jego transpozycje."
   ]
  },
  {
   "cell_type": "markdown",
   "id": "f697410a",
   "metadata": {},
   "source": [
    "#### Macierz odwrotna $C^{-1}$ (funkcja [`np.linalg.inv`](https://numpy.org/doc/stable/reference/generated/numpy.linalg.inv.html))"
   ]
  },
  {
   "cell_type": "markdown",
   "id": "21d011be",
   "metadata": {},
   "source": [
    "Macierz odwrotna do zadanej macierzy $C$ to taka macierz $C^{-1}$, że \n",
    "\n",
    "<br>\n",
    "<center>$C \\cdot C^{-1} = I$</center>\n",
    "\n",
    ", gdzie $I$ to macierz identycznościowy."
   ]
  },
  {
   "cell_type": "code",
   "execution_count": null,
   "id": "fa727a12",
   "metadata": {},
   "outputs": [],
   "source": [
    "# Dla zadanej macierzy c\n",
    "c = np.array(\n",
    "    [\n",
    "        [1., 2., -1.], \n",
    "        [2., 1., 2.],\n",
    "        [-1., 2., 1.]\n",
    "    ]\n",
    ")\n",
    "\n",
    "# macierz odwrotna ma postać\n",
    "c_inv = np.linalg.inv(c)\n",
    "c_inv"
   ]
  },
  {
   "cell_type": "code",
   "execution_count": null,
   "id": "451439df",
   "metadata": {},
   "outputs": [],
   "source": [
    "identity = c @ c_inv  # błędy zaokrąglenia float\n",
    "identity"
   ]
  },
  {
   "cell_type": "markdown",
   "id": "70442693",
   "metadata": {},
   "source": [
    "Jak radzić sobie z niedokładnością arytemtyki zmiennoprzecinkowej ?\n",
    "\n",
    "Metoda [`ndarray.round`](https://numpy.org/doc/stable/reference/generated/numpy.ndarray.round.html) (ew. funkcja [`np.around`](https://numpy.org/doc/stable/reference/generated/numpy.around.html#numpy.around) lub `np.round`) z opcjonalnym parametrem decimals - liczbą miejsc po przecinku, do której zaokrąglamy."
   ]
  },
  {
   "cell_type": "code",
   "execution_count": null,
   "id": "0c8ab893",
   "metadata": {},
   "outputs": [],
   "source": [
    "# metoda I (metoda round)\n",
    "\n",
    "identity.round()  # domyślnie decimals=0"
   ]
  },
  {
   "cell_type": "code",
   "execution_count": null,
   "id": "cd72ca1f",
   "metadata": {},
   "outputs": [],
   "source": [
    "# metoda II (funkcja around)\n",
    "\n",
    "np.round(identity)"
   ]
  },
  {
   "cell_type": "code",
   "execution_count": null,
   "id": "75fafa6e",
   "metadata": {},
   "outputs": [],
   "source": [
    "# metoda II\n",
    "\n",
    "np.around(identity)"
   ]
  },
  {
   "cell_type": "markdown",
   "id": "a5675115",
   "metadata": {},
   "source": [
    "#### Rozwiązywanie liniowych układów równań (funkcja [`np.linalg.solve`](https://numpy.org/doc/stable/reference/generated/numpy.linalg.solve.html))"
   ]
  },
  {
   "cell_type": "markdown",
   "id": "339a45c5",
   "metadata": {},
   "source": [
    "$$\\begin{align*} \n",
    "\\begin{cases}\n",
    "2x_1 - 3x_2 &= 8 \\\\ \n",
    "-10x_1 + x_2 &= -12\n",
    "\\end{cases}\n",
    "\\end{align*}$$\n",
    "\n",
    "\n",
    "<br>\n",
    "$$\n",
    "A=\n",
    "  \\begin{bmatrix}\n",
    "    2 & -3 \\\\\n",
    "    -10 & 1\n",
    "  \\end{bmatrix}$$\n",
    "  \n",
    "  \n",
    "$$\\vec x = \\begin{bmatrix}\n",
    "    x_1  \\\\\n",
    "    x_2 \n",
    "  \\end{bmatrix}$$\n",
    "  \n",
    "\n",
    "$$b = \\begin{bmatrix}\n",
    "    8  \\\\\n",
    "    -12 \n",
    "  \\end{bmatrix}$$\n",
    "  \n",
    "$$A \\cdot \\vec x = b = \\begin{bmatrix}\n",
    "    2 & -3 \\\\\n",
    "    -10 & 1\n",
    "  \\end{bmatrix} \\cdot  \\begin{bmatrix}\n",
    "    x_1  \\\\\n",
    "    x_2 \n",
    "  \\end{bmatrix} =  \\begin{bmatrix}\n",
    "    8  \\\\\n",
    "    -12 \n",
    "  \\end{bmatrix}$$\n",
    "  \n",
    "$$\n",
    "A^{-1} \\cdot A \\cdot \\vec x =  A^{-1} \\cdot b \n",
    "$$\n",
    "  \n",
    "$$\n",
    "\\vec x = A^{-1}  \\cdot b\n",
    "$$"
   ]
  },
  {
   "cell_type": "code",
   "execution_count": null,
   "id": "09d5cc40",
   "metadata": {},
   "outputs": [],
   "source": [
    "A = np.array([[2, -3], [-10, 1]])\n",
    "b = np.array([8, -12]).reshape(2, 1)"
   ]
  },
  {
   "cell_type": "code",
   "execution_count": null,
   "id": "8c6a1952",
   "metadata": {},
   "outputs": [],
   "source": [
    "A"
   ]
  },
  {
   "cell_type": "code",
   "execution_count": null,
   "id": "0eeb5cc5",
   "metadata": {},
   "outputs": [],
   "source": [
    "b"
   ]
  },
  {
   "cell_type": "code",
   "execution_count": null,
   "id": "e200702c",
   "metadata": {},
   "outputs": [],
   "source": [
    "np.linalg.solve(A, b)"
   ]
  },
  {
   "cell_type": "markdown",
   "id": "9e7687bd",
   "metadata": {},
   "source": [
    "#### Zadanie 22\n",
    "\n",
    "---\n",
    "\n",
    "Znajdź rozwiązanie układu równań\n",
    "\n",
    "$$\\begin{align*}\n",
    "\\begin{cases}\n",
    "x_2 - x_1 &=  -3 \\\\ \n",
    "2x_1 + 2x_2 &=  10\n",
    "\\end{cases}\n",
    "\\end{align*}$$"
   ]
  },
  {
   "cell_type": "markdown",
   "id": "62172ff7",
   "metadata": {},
   "source": [
    "#### Zadanie 23\n",
    "\n",
    "---\n",
    "\n",
    "Znajdź rozwiązanie układu równań\n",
    "\n",
    "$$\\begin{align*}\n",
    "\\begin{cases}\n",
    "x_1 + x_2 + x_3 &=  6 \\\\ \n",
    "2x_1 - x_2 + 3x_3 &=  9 \\\\\n",
    "-x_1 + x_2 - x_3 &= -2\n",
    "\\end{cases}\n",
    "\\end{align*}$$"
   ]
  },
  {
   "cell_type": "markdown",
   "id": "bdbd3061",
   "metadata": {},
   "source": [
    "**Ciekawostka:** A co możemy reprezentować za pomocą trójwymiarowej tablicy?"
   ]
  },
  {
   "cell_type": "code",
   "execution_count": null,
   "id": "921a7f56",
   "metadata": {},
   "outputs": [],
   "source": [
    "# Co może reprezentować poniższa tablica?\n",
    "\n",
    "n = np.array(\n",
    "    [\n",
    "        [\n",
    "            [0, 1, 2, 3, 4],\n",
    "            [5, 6, 7, 8, 9]\n",
    "        ],\n",
    "        [\n",
    "            [10, 11, 12, 13, 14],\n",
    "            [15, 16, 17, 18, 19]\n",
    "        ],\n",
    "        [\n",
    "            [20, 21, 22, 23, 24],\n",
    "            [25, 26, 27, 28, 29]\n",
    "        ]\n",
    "    ]\n",
    ")\n",
    "\n",
    "print(n.shape)"
   ]
  },
  {
   "cell_type": "markdown",
   "id": "c93b7c3a",
   "metadata": {},
   "source": [
    "Doinstalujmy bibliotekę matplotlib"
   ]
  },
  {
   "cell_type": "code",
   "execution_count": null,
   "id": "19acb3e6",
   "metadata": {},
   "outputs": [],
   "source": [
    "!pip install matplotlib"
   ]
  },
  {
   "cell_type": "code",
   "execution_count": null,
   "id": "4ad7a23a",
   "metadata": {},
   "outputs": [],
   "source": [
    "import matplotlib.pyplot as plt\n",
    "\n",
    "img = plt.imread('cat.jpeg')\n",
    "print(img)"
   ]
  },
  {
   "cell_type": "code",
   "execution_count": null,
   "id": "d0224e3e",
   "metadata": {},
   "outputs": [],
   "source": [
    "print(type(img))"
   ]
  },
  {
   "cell_type": "code",
   "execution_count": null,
   "id": "3118ac7e",
   "metadata": {},
   "outputs": [],
   "source": [
    "print(img.shape)"
   ]
  },
  {
   "cell_type": "code",
   "execution_count": null,
   "id": "a74589d3",
   "metadata": {},
   "outputs": [],
   "source": [
    "plt.imshow(img)"
   ]
  },
  {
   "cell_type": "code",
   "execution_count": null,
   "id": "1385d1da",
   "metadata": {},
   "outputs": [],
   "source": [
    "output_img = img.copy()  # oryginalny (wczytany) obraz nie jest modyfikowalny\n",
    "output_img[:, :, :-1] = 0  # zerujemy wszystkie kanały prócz ostatniego (niebieskiego)"
   ]
  },
  {
   "cell_type": "code",
   "execution_count": null,
   "id": "a6270a64",
   "metadata": {},
   "outputs": [],
   "source": [
    "plt.imshow(output_img)"
   ]
  },
  {
   "cell_type": "code",
   "execution_count": null,
   "id": "6e530ca7",
   "metadata": {},
   "outputs": [],
   "source": [
    "output_img2 = img.copy()\n",
    "output_img2[:, :, 0] = 0  # zerujemy pierwszy kanał (zerujemy czerwony, zielony i niebieski zostają niezmienione)"
   ]
  },
  {
   "cell_type": "code",
   "execution_count": null,
   "id": "14c7dd53",
   "metadata": {},
   "outputs": [],
   "source": [
    "plt.imshow(output_img2)"
   ]
  },
  {
   "cell_type": "code",
   "execution_count": null,
   "id": "d17e4303",
   "metadata": {},
   "outputs": [],
   "source": [
    "output_img = img.copy()\n",
    "modified_img = np.flipud(output_img)"
   ]
  },
  {
   "cell_type": "code",
   "execution_count": null,
   "id": "ebb847ba",
   "metadata": {},
   "outputs": [],
   "source": [
    "plt.imshow(modified_img)"
   ]
  },
  {
   "cell_type": "code",
   "execution_count": null,
   "id": "09cb233c",
   "metadata": {},
   "outputs": [],
   "source": [
    "output_img = np.abs(img.copy() - np.array([255]))  # negatyw"
   ]
  },
  {
   "cell_type": "code",
   "execution_count": null,
   "id": "7810d808",
   "metadata": {},
   "outputs": [],
   "source": [
    "plt.imshow(output_img)"
   ]
  },
  {
   "cell_type": "markdown",
   "id": "7dbe0eea",
   "metadata": {},
   "source": [
    "#### Zadanie 24\n",
    "\n",
    "---\n",
    "\n",
    "Wykorzystując poznane narzędzia załaduj jakiś obraz () a następnie zmodyfikuj go na kilka sposobów. Wykonując modyfikacje\n",
    "myśl o nich w kategori operacji na macierzach / tablicach numpy. Na koniec zapisz zdjęcie do pliku."
   ]
  }
 ],
 "metadata": {
  "kernelspec": {
   "display_name": "Python 3 (ipykernel)",
   "language": "python",
   "name": "python3"
  },
  "language_info": {
   "codemirror_mode": {
    "name": "ipython",
    "version": 3
   },
   "file_extension": ".py",
   "mimetype": "text/x-python",
   "name": "python",
   "nbconvert_exporter": "python",
   "pygments_lexer": "ipython3",
   "version": "3.11.1"
  }
 },
 "nbformat": 4,
 "nbformat_minor": 5
}
