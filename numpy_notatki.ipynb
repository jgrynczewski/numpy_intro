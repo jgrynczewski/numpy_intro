{
 "cells": [
  {
   "cell_type": "markdown",
   "id": "450f725c",
   "metadata": {},
   "source": [
    "# Biblioteka Numpy"
   ]
  },
  {
   "cell_type": "markdown",
   "id": "a82a73bf",
   "metadata": {},
   "source": [
    "## Wstęp"
   ]
  },
  {
   "cell_type": "markdown",
   "id": "f48e207d",
   "metadata": {},
   "source": [
    "Instalacja biblioteki\n",
    "\n",
    "Na [oficjalnej stronie](https://numpy.org/) biblioteki numpy możemy znaleźć [instrukcje instalacji](https://numpy.org/install/). Chociaż istnieje więcej możliwości twórcy numpy zalecają tylko dwa sposoby instalacji:\n",
    "* za pomocą menadżera pakietów pythona **conda** $\\Rightarrow$ `conda install numpy`\n",
    "* za pomocą menadżera pakietów pythona **pip** $\\Rightarrow$ `pip install numpy`"
   ]
  },
  {
   "cell_type": "markdown",
   "id": "0e354518",
   "metadata": {},
   "source": [
    "Importowanie biblioteki"
   ]
  },
  {
   "cell_type": "code",
   "execution_count": null,
   "id": "7aa94bda",
   "metadata": {},
   "outputs": [],
   "source": [
    "import numpy as np\n",
    "\n",
    "print(np.__version__)"
   ]
  },
  {
   "cell_type": "markdown",
   "id": "b2ce4202",
   "metadata": {},
   "source": [
    "Numpy (ang. **Num**erical **py**thon) - pythonowa biblioteka do obliczeń numerycznych. Jest jedną z najczęściej wykorzystywanych bibliotek w Pythonie. Ze względu na bardzo wysoką wydajność obliczeniową (czyli szybkość obliczeń) korzysta z niej wiele innych popularnych bibliotek w pythonie takich jak: scikit-learn, scipy, seaborn, matplotlib, pandas, tensorflow, openCV, ...\n",
    "\n",
    "Biblioteka numpy posiada wiele funkcji."
   ]
  },
  {
   "cell_type": "code",
   "execution_count": null,
   "id": "2e1b36d8",
   "metadata": {},
   "outputs": [],
   "source": [
    "print(dir(np))"
   ]
  },
  {
   "cell_type": "markdown",
   "id": "ed92bdc2",
   "metadata": {},
   "source": [
    "Podstawową klasą używaną w numpy jest `ndarray` (*ang. n-dimensional array*)."
   ]
  },
  {
   "cell_type": "code",
   "execution_count": null,
   "id": "38d20003",
   "metadata": {},
   "outputs": [],
   "source": [
    "print(np.ndarray)"
   ]
  },
  {
   "cell_type": "markdown",
   "id": "04b083bc",
   "metadata": {},
   "source": [
    "Obiekty klasy `ndarray` nazywane są potocznie tablicami numpy (*ang. numpy array*) lub po prostu tablicami (*ang. array*). \n",
    "\n",
    "Twórcy numpy nie zalecają bezpośredniego inicjalizowania obiektów klasy `ndarray`. Zamiast tego udostęniają rodzinę funkcji fabrykujących (takich tak `np.array`, `np.zeros`, ...), które odpowiadają za tworzenie obiektów klasy `ndarray`. Na początku popatrzmy na funkcję `np.array`."
   ]
  },
  {
   "cell_type": "code",
   "execution_count": null,
   "id": "3fbfe9f9",
   "metadata": {},
   "outputs": [],
   "source": [
    "# Obiekty klasy ndarray (czyli tablice numpy) możemy tworzyć za pomocą funkcji np.array\n",
    "\n",
    "n1 = np.array([1, 2, 3, 4, 5])  # funkcja jako parametr przyjmuje najczęściej listę (ale możemy przekazywać też różne \n",
    "# innych typy- o tym później), a zwraca zainicjalizowany obiekt klasy ndarray o wartości odpowiadającej wartości \n",
    "# przekazanej listy.\n",
    "\n",
    "print(type(n1))\n",
    "print(n1)"
   ]
  },
  {
   "cell_type": "markdown",
   "id": "f9f4c11e",
   "metadata": {},
   "source": [
    "A co potrafią obiekty klasy `ndarray` ?"
   ]
  },
  {
   "cell_type": "code",
   "execution_count": null,
   "id": "78e6450f",
   "metadata": {},
   "outputs": [],
   "source": [
    "print(dir(np.ndarray))"
   ]
  },
  {
   "cell_type": "markdown",
   "id": "14244c7f",
   "metadata": {},
   "source": [
    "Wśród dostępnych atrybutów mamy, np. kształt. "
   ]
  },
  {
   "cell_type": "code",
   "execution_count": null,
   "id": "a679a771",
   "metadata": {},
   "outputs": [],
   "source": [
    "print(n1.shape)"
   ]
  },
  {
   "cell_type": "markdown",
   "id": "ad7eed68",
   "metadata": {},
   "source": [
    "O pozostałych polach tablicy numpy powiemy sobie za chwilę."
   ]
  },
  {
   "cell_type": "markdown",
   "id": "24b58d9a",
   "metadata": {},
   "source": [
    "Na tablicach numpy działa wiele funkcji biblioteki numpy, np. funkcja `np.shape`."
   ]
  },
  {
   "cell_type": "code",
   "execution_count": null,
   "id": "115b6c45",
   "metadata": {},
   "outputs": [],
   "source": [
    "print(np.shape(n1))"
   ]
  },
  {
   "cell_type": "markdown",
   "id": "d1376e71",
   "metadata": {},
   "source": [
    "Zanim zaczniemy poznawać szczegóły biblioteki numpy, zastanówmy się po co jej w ogóle używać. Czy nie wystarczą nam listy pythonowe? Przecież to co zrobiliśmy powyżej możemy równie dobrze zrobić za pomocą zwykłych list."
   ]
  },
  {
   "cell_type": "code",
   "execution_count": null,
   "id": "f1be3c83",
   "metadata": {},
   "outputs": [],
   "source": [
    "l1 = [1, 2, 3, 4, 5]\n",
    "\n",
    "print(l1)\n",
    "print(len(l1))  # shape"
   ]
  },
  {
   "cell_type": "markdown",
   "id": "b340b9ab",
   "metadata": {},
   "source": [
    "### Listy vs ndarray"
   ]
  },
  {
   "cell_type": "markdown",
   "id": "cfa09a2c",
   "metadata": {},
   "source": [
    "Jest kilka powodów, dla których moglibyśmy chcieć użyć `ndarray` zamiast list:\n",
    "    \n",
    "1. obiekty klasy ndarray potrafią znacznie więcej rzeczy niż zwykłe pythonowe listy \n",
    "2. ndarray są znacznie szybsze od list\n",
    "\n",
    "Wyświetlając zawartość biblioteki numpy oraz atrybuty obiektu ndarray zobaczyliśmy, że punkt 1 jest prawdziwy. Spójrzmy jeszcze na konretny przykład. \n",
    "\n",
    "Dodawania 'po współrzędnych' (*ang. element-wise addition*) to dodawanie do siebie dwóch kolekcji poprzez dodawanie do siebie takich elementów tych dwóch kolekcji, które znajdują się na odpowiadających sobie pozycjach:\n",
    "\n",
    "\n",
    "#### <center>$[ 1, 2, 3, 4, 5] + [6, 7, 8, 9,10] = [1+6, 2+7, 3+8, 4+9, 5+10] = [7, 9, 11, 13, 15]$</center>\n",
    "\n",
    "Jak zrobilibyśmy to za pomocą zwykłych list?"
   ]
  },
  {
   "cell_type": "code",
   "execution_count": null,
   "id": "71e6cbb5",
   "metadata": {},
   "outputs": [],
   "source": [
    "l1 = [1, 2, 3, 4, 5]\n",
    "l2 = [6, 7, 8 , 9, 10]"
   ]
  },
  {
   "cell_type": "markdown",
   "id": "d7c956d3",
   "metadata": {},
   "source": [
    "Operator `+` na listach jest operatorem konkatencji, więc użycie go tutaj nic nam nie pomoże."
   ]
  },
  {
   "cell_type": "code",
   "execution_count": null,
   "id": "8129fa87",
   "metadata": {},
   "outputs": [],
   "source": [
    "result = l1 + l2\n",
    "print(result)"
   ]
  },
  {
   "cell_type": "markdown",
   "id": "87f42476",
   "metadata": {},
   "source": [
    "Używając list jesteśmy zmuszeni takie dodawanie po współrzędnych zaimplementować samodzielnie."
   ]
  },
  {
   "cell_type": "code",
   "execution_count": null,
   "id": "f6122ef1",
   "metadata": {},
   "outputs": [],
   "source": [
    "result = []\n",
    "\n",
    "for item1, item2 in zip(l1, l2):\n",
    "    result.append(item1 + item2)\n",
    "    \n",
    "print(result)"
   ]
  },
  {
   "cell_type": "markdown",
   "id": "f02e9d52",
   "metadata": {},
   "source": [
    "W odróżnieniu od list, operator `+` w działaniu na tablicach numpy pełni rolę właśnie operatora dodawania po współrzędnych."
   ]
  },
  {
   "cell_type": "code",
   "execution_count": null,
   "id": "8aaf94cf",
   "metadata": {},
   "outputs": [],
   "source": [
    "n1 = np.array(l1)\n",
    "n2 = np.array(l2)\n",
    "\n",
    "result = n1+n2\n",
    "print(result)"
   ]
  },
  {
   "cell_type": "markdown",
   "id": "f0e8b9d5",
   "metadata": {},
   "source": [
    "Ale wobec tego, co gdybyśmy chcieli 'skonkatenować' ze sobą dwie tablice numpy? \n",
    "\n",
    "Należy użyć funkcji `np.concatenate`."
   ]
  },
  {
   "cell_type": "code",
   "execution_count": null,
   "id": "f8cdba4a",
   "metadata": {},
   "outputs": [],
   "source": [
    "result = np.concatenate([l1, l2])\n",
    "print(result)"
   ]
  },
  {
   "cell_type": "markdown",
   "id": "8eeb40a2",
   "metadata": {},
   "source": [
    "Podsumowując, tablice numpy umieją robić znacznie więcej rzeczy niż pythonowe listy. A jak jest z tą wydajnością obliczeniową?"
   ]
  },
  {
   "cell_type": "markdown",
   "id": "24cca105",
   "metadata": {},
   "source": [
    "### Benchmarking (analiza porównawcza)"
   ]
  },
  {
   "cell_type": "markdown",
   "id": "9b4b74e7",
   "metadata": {},
   "source": [
    "Dodamy teraz do siebie dwie 1000-elementowe listy pythonowe oraz dwie 1000-elementowe tablice numpy i porównamy czas, potrzebny na wykonanie tych operacji."
   ]
  },
  {
   "cell_type": "markdown",
   "id": "2808986d",
   "metadata": {},
   "source": [
    "Do porównywania czasu wykonywania fragmentów kodu w pythonie najczęściej wykorzystuje się znajdującą się w standardowej bibliotece pythona, bibliotekę `timeit`."
   ]
  },
  {
   "cell_type": "code",
   "execution_count": null,
   "id": "b52d853b",
   "metadata": {},
   "outputs": [],
   "source": [
    "import timeit"
   ]
  },
  {
   "cell_type": "code",
   "execution_count": null,
   "id": "79ce6b30",
   "metadata": {},
   "outputs": [],
   "source": [
    "setup_code = \"\"\"\n",
    "result = []\n",
    "l1 = range(1100, 2100)\n",
    "l2 = range(500, 1500)\n",
    "\"\"\"\n",
    "\n",
    "code = \"\"\"\n",
    "for item1, item2 in zip(l1, l2):\n",
    "    result.append(item1+item2)\n",
    "\"\"\"\n",
    "\n",
    "t = timeit.timeit(code, setup=setup_code, number=1000)  # default number = 1.000.000\n",
    "print(t)"
   ]
  },
  {
   "cell_type": "markdown",
   "id": "be2a4b05",
   "metadata": {},
   "source": [
    "Ten sam kod możemy uruchomić jeszcze w inny sposób, za pomocą dostępnej z poziomu Jupyter-a magicznej komendy `timeit`"
   ]
  },
  {
   "cell_type": "code",
   "execution_count": null,
   "id": "9e8a32b8",
   "metadata": {},
   "outputs": [],
   "source": [
    "l1 = range(1100, 2100)\n",
    "l2 = range(500, 1500)\n",
    "result = []"
   ]
  },
  {
   "cell_type": "code",
   "execution_count": null,
   "id": "928efa95",
   "metadata": {},
   "outputs": [],
   "source": [
    "%%timeit  # magiczna komenda\n",
    "\n",
    "for item1, item2 in zip(l1, l2):\n",
    "    result.append(item1+item2)\n",
    "    \n",
    "# widzimy, że komenda została wykonana 1000 razy, a wynik uśredniony. Magiczna komenda timeit w zależności od tego \n",
    "# ile zajmuje wykonanie komendy, wykonuje ją mniej lub więcej razy. Liczbę powtórzeń dobiera dynamicznie na podstawie \n",
    "# czasu trwania pierwszych iteracji."
   ]
  },
  {
   "cell_type": "markdown",
   "id": "5466a2c4",
   "metadata": {},
   "source": [
    "A jak to będzie wyglądało z wykorzystaniem tablic numpy?"
   ]
  },
  {
   "cell_type": "code",
   "execution_count": null,
   "id": "f7eacc49",
   "metadata": {},
   "outputs": [],
   "source": [
    "n1 = np.array(l1)\n",
    "n2 = np.array(l2)"
   ]
  },
  {
   "cell_type": "code",
   "execution_count": null,
   "id": "b58a30f1",
   "metadata": {},
   "outputs": [],
   "source": [
    "%%timeit\n",
    "\n",
    "result = n1 + n2"
   ]
  },
  {
   "cell_type": "markdown",
   "id": "b525013b",
   "metadata": {},
   "source": [
    "Widzimy, że z użyciem tablic numpy kod wykonał się około 100 razy szybciej. To jest ogromna różnica. \n",
    "\n",
    "Wyobraźmy sobie, że użytkownik musi czekać 0.5 sekundy na odpowiedź. Raczej tego nie zauważy. 50 sekund już raczej boleśnie odczuje. A wraz ze wzrostem wielkości zbioru danych ta różnica będzie się jeszcze powiększała."
   ]
  },
  {
   "cell_type": "markdown",
   "id": "b42157f4",
   "metadata": {},
   "source": [
    "##### Co powoduje, że tablice numpy są znacznie szybsze od list pythona (informacje uzupełniające) ?\n",
    "\n",
    "Wysoka wydajność obliczeniowa tablic numpy wynika ze sposobu ich implementacji. Tablice numpy implementują strukturę danych nazywaną tablicą lub wektorem (*ang. array aka vector*), czyli ciągły blok pamięci (*ang. contiguous block of memory*) zawierający elementy jednego typu. Listy pythonowe implementują tzw. dynamiczną tablicę (*ang. dynamic array*) zawierającą wskaźniki.\n",
    "\n",
    "W skrócie możemy wymienić cztery podstawowe cechy, dzięki którym tablice numpy są szybkie:\n",
    "* elementami tablic numpy są proste typy (int16, float32, ...), w listach są to obiekty (int, float, ...)\n",
    "* elementy tablicy numpy mają ten sam typ, listy mogą mieć elementy różnych typów\n",
    "* tablice numpy przechowują swoje elementy jeden obok drugiego w ciągłym bloku pamięci (ang. contingous block of memory), a listy pythonowe przechowują wskaźniki do fragmentu pamięci, w którym zapisany jest dany element listy\n",
    "* funkcje i metody działające na tablicach numpy są zaimplementowane w języku C z wykorzystaniem najszybszych znanych algorytmów i w związku z tym będą znacznie szybsze niż ich odpowiedniki napisane przez nas z wykorzystaniem wysokopoziomych struktur takich jak listy, warunki i pętle\n",
    "\n",
    "Więcej o tablicach numpy można przeczytać [tutaj](https://numpy.org/devdocs/user/whatisnumpy.html)"
   ]
  },
  {
   "cell_type": "markdown",
   "id": "18f98141",
   "metadata": {},
   "source": [
    "Biblioteka numpy swoją popularność zawdzięcza właśnie tablicom numpy. W związaku z tym poznajmy je lepiej."
   ]
  },
  {
   "cell_type": "markdown",
   "id": "c3e3e7f6",
   "metadata": {},
   "source": [
    "---"
   ]
  },
  {
   "cell_type": "markdown",
   "id": "95e95f13",
   "metadata": {},
   "source": [
    "## [Tworzenie tablic numpy](https://numpy.org/doc/stable/reference/routines.array-creation.html)"
   ]
  },
  {
   "cell_type": "markdown",
   "id": "871ccd23",
   "metadata": {},
   "source": [
    "Jak już wcześniej powiedzieliśmy, twórcy numpy nie zalecają bezpośredniego inicjalizowania tablic numpy i proponują ponad 40 funkcji do ich tworzenia. Nie będziemy oczywiście wszystkich omawiać. Listę wszystkich funkcji można znaleźć [tutaj](https://numpy.org/doc/stable/reference/routines.array-creation.html#routines-array-creation)"
   ]
  },
  {
   "cell_type": "markdown",
   "id": "e21b7348",
   "metadata": {},
   "source": [
    "Wyróżnia się 6 podstawowych mechanizmów tworzenia tablicy numpy. Każdą z tych 40 funkcji można przyporządkować do jednego z tych mechanizmów:\n",
    "1. funkcje tworzące tablicę numpy poprzez zrzutowanie na ndarray pythonowych struktur podstawowych takich jak lista lub krotka\n",
    "2. funkcje tworzące tabclię numpy na podstawie zadanej wartości lub kształtu, takie jak arange, ones, fill\n",
    "3. funkcje tworzące tablicę numpy poprzez modyfikacje już istniejących tablic numpy\n",
    "4. funkcje tworzące tablicę numpy na podstawie danych załadowanych z zasobów zewnętrznych (pliku, api, bazy)\n",
    "5. funkcje tworzące tablicę numpy z danych binarnych (poprzez użycie stringów lub bufferów)\n",
    "6. funkcje specjalne (czyli takie, które nie zaliczają się do żadnej z powyższych grup)"
   ]
  },
  {
   "cell_type": "markdown",
   "id": "9e1731f0",
   "metadata": {},
   "source": [
    "### 1. Funkcje tworzące tablicę numpy na podstawie podstawowej sekwencji pythonowej"
   ]
  },
  {
   "cell_type": "markdown",
   "id": "cbb86d20",
   "metadata": {},
   "source": [
    "#### Funkcja [`np.array`](https://numpy.org/doc/stable/reference/generated/numpy.array.html)"
   ]
  },
  {
   "cell_type": "code",
   "execution_count": null,
   "id": "864d5468",
   "metadata": {},
   "outputs": [],
   "source": [
    "# na podstawie listy powstanie jedno-wymiarowa tablica numpy (1-D ndarray)\n",
    "array_1d = np.array([1, 2, 3, 4])\n",
    "array_1d"
   ]
  },
  {
   "cell_type": "code",
   "execution_count": null,
   "id": "333cd9ee",
   "metadata": {},
   "outputs": [],
   "source": [
    "# na podstawie zagnieżdżonej listy powstanie dwu-wymiarowa tablica numpy (2-D ndarray)\n",
    "array_2d = np.array([[1., 2., 3.], [4., 5., 6.]])\n",
    "array_2d"
   ]
  },
  {
   "cell_type": "code",
   "execution_count": null,
   "id": "f1ee09b7",
   "metadata": {},
   "outputs": [],
   "source": [
    "# dalsze zagnieżdżanie spowoduje zwiększanie wymiarowości tablicy. \n",
    "# Poniżej przykład trój-wymiarowej tablicy numpy (3-D ndarray)\n",
    "array_3d = np.array(\n",
    "    [\n",
    "        [\n",
    "            [1, 2], \n",
    "            [3, 4],\n",
    "            [5, 6]\n",
    "        ], \n",
    "        [\n",
    "            [7, 8], \n",
    "            [9, 10], \n",
    "            [11, 12], \n",
    "        ],\n",
    "        [\n",
    "            [13, 14], \n",
    "            [15, 16], \n",
    "            [17, 18], \n",
    "        ],\n",
    "        [\n",
    "            [19, 20], \n",
    "            [21, 22], \n",
    "            [23, 24], \n",
    "        ],\n",
    "    ]\n",
    ")\n",
    "\n",
    "array_3d"
   ]
  },
  {
   "cell_type": "markdown",
   "id": "c4aeb74a",
   "metadata": {},
   "source": [
    "Co możemy powiedzieć o takiej tablicy?"
   ]
  },
  {
   "attachments": {
    "array-2.png": {
     "image/png": "[encoded data removed]"
    }
   },
   "cell_type": "markdown",
   "id": "3c465893",
   "metadata": {},
   "source": [
    "![array-2.png](attachment:array-2.png)"
   ]
  },
  {
   "cell_type": "markdown",
   "id": "d4a8bd68",
   "metadata": {},
   "source": [
    "Na powyższej ilustracji warto zwrócić uwagę na orientacje osi poszczególnych tablic."
   ]
  },
  {
   "cell_type": "markdown",
   "id": "3d22b1b2",
   "metadata": {},
   "source": [
    "#### Zadanie 1.\n",
    "\n",
    "---\n",
    "\n",
    "Utwórz niżej opisane tablice numpy. Wartości możesz wpisać ręcznie.\n",
    "\n",
    "- wektor zawierający 6 kolejnych liczb ciągu Fibonacciego \n",
    "- macierz 3x3 zawierającą 9 kolejnych potęg liczby 2 (zaczynając od wykładnika = 0)\n",
    "- tensor 2x3x3 zawierający kolejne liczby całkowite (zaczynając od 1)"
   ]
  },
  {
   "cell_type": "code",
   "execution_count": null,
   "id": "1820ed6a",
   "metadata": {},
   "outputs": [],
   "source": [
    "# rozwiązanie"
   ]
  },
  {
   "cell_type": "markdown",
   "id": "e9501336",
   "metadata": {},
   "source": [
    "### Podstawowe właściwości obiektów klasy ndarray"
   ]
  },
  {
   "cell_type": "markdown",
   "id": "81298448",
   "metadata": {},
   "source": [
    "Do podstawowych właściwości tablicy numpy możemy zaliczyć:\n",
    "\n",
    "* wymiar tablicy\n",
    "* kształt tablicy\n",
    "* typ tablicy\n",
    "* rozmiar tablicy\n",
    "* ilośc pamięci zajmowana przez pojedynczego element tablicy"
   ]
  },
  {
   "cell_type": "markdown",
   "id": "be60fe0b",
   "metadata": {},
   "source": [
    "#### Wymiar tablicy *(ndim)*\n",
    "\n",
    "Wymiarem tablicy nazywamy najgłębszy poziom zagnieżdżenia jej elementów. \n",
    "\n",
    "$2$ - wymiar 0\n",
    "\n",
    "$[2,2,2]$ - wymiar 1\n",
    "\n",
    "$[[2,2,2], [2,2,2]]$ - wymiar 2\n"
   ]
  },
  {
   "cell_type": "code",
   "execution_count": null,
   "id": "04607e61",
   "metadata": {},
   "outputs": [],
   "source": [
    "# wymiar tablicy\n",
    "\n",
    "# sposób I (za pomocą atrybutu ndim obiektu klasy ndarray)\n",
    "array_3d_dim = array_3d.ndim\n",
    "print(array_3d_dim)\n",
    "\n",
    "# sposób II (za pomocą funkcji ndim biblioteki numpy)\n",
    "array_3d_dim = np.ndim(array_3d)\n",
    "print(array_3d_dim)"
   ]
  },
  {
   "cell_type": "markdown",
   "id": "8a7c3285",
   "metadata": {},
   "source": [
    "Wymiar tablicy możemy również utożsamić z liczbą osi potrzebnych do opisania jego kształtu."
   ]
  },
  {
   "cell_type": "markdown",
   "id": "a23ce09f",
   "metadata": {},
   "source": [
    "#### Kształt tablicy *(shape)*"
   ]
  },
  {
   "cell_type": "markdown",
   "id": "c1faa21f",
   "metadata": {},
   "source": [
    "Kształtem tablicy nazywamy zestaw liczb opisujący liczbę elementów na poszczególnych osiach tablicy (tzw. długość osi)"
   ]
  },
  {
   "cell_type": "code",
   "execution_count": null,
   "id": "1a3a78e0",
   "metadata": {},
   "outputs": [],
   "source": [
    "# kształt tablicy\n",
    "\n",
    "# wersja I (atrybut shape klasy ndarray)\n",
    "array_3d_shape = array_3d.shape\n",
    "print(array_3d_shape)\n",
    "\n",
    "# wersja II (funkcja shape biblioteki numpy)\n",
    "array_3d_shape = np.shape(array_3d)\n",
    "print(array_3d_shape)"
   ]
  },
  {
   "cell_type": "markdown",
   "id": "872c1dea",
   "metadata": {},
   "source": [
    "#### Typ tablicy *(dtype)*\n",
    "\n",
    "Typem tablicy nazywamy typ elementów zawartych w tej tablicy. Tablica numpy nie może posiadać wartości różnych typów."
   ]
  },
  {
   "cell_type": "code",
   "execution_count": null,
   "id": "60927d0a",
   "metadata": {},
   "outputs": [],
   "source": [
    "# typ tablicy\n",
    "\n",
    "# sposób I (atrybut dtype klasy ndarray)\n",
    "array_3d_type = array_3d.dtype\n",
    "print(array_3d_type)\n",
    "\n",
    "array_2d_type = array_2d.dtype\n",
    "print(array_2d_type)"
   ]
  },
  {
   "cell_type": "markdown",
   "id": "a5247a50",
   "metadata": {},
   "source": [
    "Numpy posiada 19 wbudowyanych typów danych"
   ]
  },
  {
   "cell_type": "markdown",
   "id": "f180faf6",
   "metadata": {},
   "source": [
    "| Typ        | Opis                       |\n",
    "| --------------------- |:---------------------------|\n",
    "| bool_   | domyślny typ reprezentujący wartość logiczną prawda lub fałsz o rozmiarze 1 bajta |\n",
    "| int_   | domyślny typ reprezentujący wartość całkowitoliczbową. Identyczny z typem long w C (32 lub 64-bitowy) |\n",
    "| intc | typ podobny do int w C (32 lub 64-bitowy) |\n",
    "| intp | typ reprezentujacy wartość całkowitoliczbową używany do indeksowania |\n",
    "| int8 | typ reprezentujący 8-bitową (jeden bajt) wartość całkowitoliczbową. Zakres wartości od -128 do 127 |\n",
    "| int16 | typ reprezentujący wartość 16-bitową (dwa bajty) wartość całkowitoliczbową. Zakres wartości od -32768 do 32767 |\n",
    "| int32 | typ reprezentujący wartość 32-bitową (cztery bajty) wartość całkowitoliczbową. Zakres wartości od -2147483648 to2147483647 |\n",
    "| int64 | typ reprezentujący wartość 64-bitową (osiem bajtów) wartość całkowitoliczbową. Zakres wartości od -9223372036854775808 do 9223372036854775807 |\n",
    "| uint8 | typ reprezentujący 8-bitową (jeden bajt) wartość całkowitoliczbową bez znaku |\n",
    "| uint16 | typ reprezentujący 16-bitową (dwa bajty) wartość całkowitoliczbową bez znaku |\n",
    "| uint32 | typ reprezentujący 32-bitową (cztery bajty) całkowitoliczbową bez znaku |\n",
    "| uint64 | typ reprezentujący 64-bitową (osiem bajtów) wartość całkowitoliczbową bez znaku |\n",
    "| float_ | domyślny typ reprezentujący wartość zmiennoprzecinkową. Typ identyczny do float64 |\n",
    "| float16 | typ reprezentujący wartość zmiennoprzecinkową połówkowej precyzji. 5-bitowy wykładnik, 10-bitowa mantysa + bit znaku |\n",
    "| float32 | typ reprezentujący wartość zmiennoprzecinkową pojedynczej precyzji. 8-bitowy wykładnik, 23-bitowa mantysa + bit znaku |\n",
    "| float64 | typ reprezentujący wartość zmiennoprzecinkową podwójnej precyzji. 11-bitowy wykładnik, 52-bitowa mantysa + bit znaku |\n",
    "| complex_ | domyślny typ reprezentujący wartość zespoloną. Typ identyczny z complex 128 |\n",
    "| complex64 | typ reprezentujący wartość zespoloną. 32-bitowa część rzeczywista + 32-bitowa część urojona |\n",
    "| complex128 | typ reprezentujący wartość zespoloną. 64-bitowa część rzeczywista + 64-bitowa część urojona |"
   ]
  },
  {
   "cell_type": "markdown",
   "id": "84eec8ff",
   "metadata": {},
   "source": [
    "Zakresy poszczególnych typów danych możemy łatwo sprawdzić za pomocą funkcji `np.iinfo`, `np.finfo`."
   ]
  },
  {
   "cell_type": "code",
   "execution_count": null,
   "id": "b6cef377",
   "metadata": {},
   "outputs": [],
   "source": [
    "print(np.iinfo(np.int32))"
   ]
  },
  {
   "cell_type": "code",
   "execution_count": null,
   "id": "8fb3a537",
   "metadata": {},
   "outputs": [],
   "source": [
    "print(np.finfo(np.float32))"
   ]
  },
  {
   "cell_type": "code",
   "execution_count": null,
   "id": "3bf7bdc8",
   "metadata": {},
   "outputs": [],
   "source": [
    "print(np.iinfo(np.int8))"
   ]
  },
  {
   "cell_type": "markdown",
   "id": "8238e512",
   "metadata": {},
   "source": [
    "A co jeżeli przekroczymy dopuszczalny zakres?"
   ]
  },
  {
   "cell_type": "code",
   "execution_count": null,
   "id": "0aff7a92",
   "metadata": {},
   "outputs": [],
   "source": [
    "res = np.array([128], dtype=np.int8)"
   ]
  },
  {
   "cell_type": "markdown",
   "id": "90a51f29",
   "metadata": {},
   "source": [
    "Dostaniemy **Warning (ale nie błąd!)** o przekroczeniu zakresu (overflow). w numpy efektem będzie **obcięcie** (truncate) wartości do dostępnej liczby bitów (wartość będzie zachowywała sie tak jakby obowiązywała ją arytmetka modulo)"
   ]
  },
  {
   "cell_type": "code",
   "execution_count": null,
   "id": "f5d4064c",
   "metadata": {},
   "outputs": [],
   "source": [
    "print(res)"
   ]
  },
  {
   "cell_type": "code",
   "execution_count": null,
   "id": "6e03b27c",
   "metadata": {},
   "outputs": [],
   "source": [
    "print(np.array([129], dtype=np.int8))"
   ]
  },
  {
   "cell_type": "code",
   "execution_count": null,
   "id": "967e87f4",
   "metadata": {},
   "outputs": [],
   "source": [
    "print(np.array([999999], dtype=np.int8))"
   ]
  },
  {
   "cell_type": "markdown",
   "id": "94d85d2e",
   "metadata": {},
   "source": [
    "#### Rozmiar tablicy *(size)*"
   ]
  },
  {
   "cell_type": "markdown",
   "id": "62ced5b7",
   "metadata": {},
   "source": [
    "Rozmiarem tablicy nazywamy liczbę jej elementów."
   ]
  },
  {
   "cell_type": "code",
   "execution_count": null,
   "id": "f9c41dfe",
   "metadata": {},
   "outputs": [],
   "source": [
    "# rozmiar tablicy\n",
    "\n",
    "# sposób I (atrybut size klasy ndarray)\n",
    "array_3d_size = array_3d.size\n",
    "print(array_3d_size)\n",
    "\n",
    "# sposób II (funkcja size biblioteki numpy)\n",
    "array_3d_size = np.size(array_3d)\n",
    "print(array_3d_size)"
   ]
  },
  {
   "cell_type": "markdown",
   "id": "743c8cdb",
   "metadata": {},
   "source": [
    "#### Ilośc pamięci zajmowana przez pojedynczy element tablicy *(itemsize)*\n",
    "\n",
    "Ilość pamięci zajmowana przez pojedynczy element podawana jest w **bajtach**. \n",
    "\n",
    "`1 bajt = 8 bitów`"
   ]
  },
  {
   "cell_type": "code",
   "execution_count": null,
   "id": "f25f1bd8",
   "metadata": {},
   "outputs": [],
   "source": [
    "# ilośc pamięci zajmowana przez pojedynczy element tablicy\n",
    "\n",
    "# sposób I (atrybut itemsize klasy ndarray)\n",
    "array_3d_itemsize = array_3d.itemsize\n",
    "print(array_3d_itemsize)"
   ]
  },
  {
   "cell_type": "code",
   "execution_count": null,
   "id": "ab6b6d94",
   "metadata": {},
   "outputs": [],
   "source": [
    "# ilośc pamięci zajmowana przez całą tablicę\n",
    "\n",
    "# sposób I (atrybut nbytes klasy ndarray)\n",
    "array_3d_nbytes = array_3d.nbytes\n",
    "print(array_3d_nbytes)"
   ]
  },
  {
   "cell_type": "markdown",
   "id": "740c6154",
   "metadata": {},
   "source": [
    "### Zadanie 2\n",
    "\n",
    "---\n",
    "\n",
    "Znajdź ile miejsca w pamięci komputera zajmuje zmienna array_2d. Wykorzystaj rozmiar tablicy oraz ilość miejsca zajmowanego przez jeden element tablicy. Następnie porównaj wynik z wartością przechowywaną w atrybucie nbytes obiektu array_2d."
   ]
  },
  {
   "cell_type": "code",
   "execution_count": null,
   "id": "632986dd",
   "metadata": {},
   "outputs": [],
   "source": [
    "# rozwiązanie\n"
   ]
  },
  {
   "cell_type": "markdown",
   "id": "8bf07a44",
   "metadata": {},
   "source": [
    "### Zadanie 3\n",
    "\n",
    "---\n",
    "\n",
    "Porównaj ze sobą typ tablic array_2d i array_3d."
   ]
  },
  {
   "cell_type": "code",
   "execution_count": null,
   "id": "5ca33e67",
   "metadata": {},
   "outputs": [],
   "source": [
    "# rozwiązanie\n"
   ]
  },
  {
   "cell_type": "markdown",
   "id": "575d8c5c",
   "metadata": {},
   "source": [
    "### Zadanie 4\n",
    "\n",
    "---\n",
    "\n",
    "Przedstaw poniższą macierz za pomocą tablicy numpy, a następnie wyświetl informacje o jej wymiarze, rozmiarze, typie oraz kształcie.\n",
    "\n",
    "<br>\n",
    "<center>\n",
    "$\n",
    "\\begin{pmatrix}\n",
    "2 & 7 & 17 & 29 \\\\\n",
    "3 & 11 & 19 & 31 \\\\\n",
    "5 & 13 & 23 & 37 \\\\\n",
    "\\end{pmatrix}\n",
    "$\n",
    "</center>"
   ]
  },
  {
   "cell_type": "code",
   "execution_count": null,
   "id": "f742cabe",
   "metadata": {},
   "outputs": [],
   "source": [
    "# rozwiązanie\n"
   ]
  },
  {
   "cell_type": "markdown",
   "id": "7d8689d8",
   "metadata": {},
   "source": [
    "---"
   ]
  },
  {
   "cell_type": "markdown",
   "id": "0f3521ef",
   "metadata": {},
   "source": [
    "Wróćmy do sposobów tworzenia tablic. Jesteśmy w trakcie poznawania funkcję `np.array`. \n",
    "\n",
    "Za pomocą opcjonalnego parametru `dtype` funkcji `np.array` możemy narzucić typ tablicy."
   ]
  },
  {
   "cell_type": "code",
   "execution_count": null,
   "id": "31a2ff2c",
   "metadata": {},
   "outputs": [],
   "source": [
    "n1 = np.array(\n",
    "    [\n",
    "        [1, 2 ,3],\n",
    "        [4, 5, 6]\n",
    "    ]\n",
    ")  # tablica np.int32\n",
    "\n",
    "print(n1.dtype)\n",
    "print(n1)"
   ]
  },
  {
   "cell_type": "code",
   "execution_count": null,
   "id": "f0dc9ebc",
   "metadata": {},
   "outputs": [],
   "source": [
    "n2 = np.array(\n",
    "    [\n",
    "        [1., 2., 3.],\n",
    "        [4., 5., 6.]\n",
    "    ]\n",
    ")  # tablica np.float64\n",
    "print(n2.dtype)\n",
    "print(n2)"
   ]
  },
  {
   "cell_type": "code",
   "execution_count": null,
   "id": "7fb54861",
   "metadata": {},
   "outputs": [],
   "source": [
    "n3 = np.array(\n",
    "    [\n",
    "        [1, 2, 3],\n",
    "        [4, 5, 6]\n",
    "    ],\n",
    "    dtype=np.float32\n",
    ")  # tablica np.float64\n",
    "print(n2.dtype)\n",
    "print(n2)"
   ]
  },
  {
   "cell_type": "markdown",
   "id": "5068708a",
   "metadata": {},
   "source": [
    "Popatrzmy teraz na inne mechanizmy tworzenia tablic numpy."
   ]
  },
  {
   "cell_type": "markdown",
   "id": "205ef62a",
   "metadata": {},
   "source": [
    "### 2. funkcje tworzące tabclię numpy na podstawie zadanej wartości lub kształtu"
   ]
  },
  {
   "cell_type": "markdown",
   "id": "ba91279b",
   "metadata": {},
   "source": [
    "#### Funkcja [`np.ones`](https://numpy.org/doc/stable/reference/generated/numpy.ones.html#numpy.ones)"
   ]
  },
  {
   "cell_type": "code",
   "execution_count": null,
   "id": "8fd84f70",
   "metadata": {},
   "outputs": [],
   "source": [
    "# Obiekt klasy ndarray składający się wyłącznie z jedynek możemy stworzyć za pomocą funkcji np.ones. \n",
    "# Funkcja przyjmuje jeden obowiązkowy, pozycyjny parametr - kształt tworzonej macierzy\n",
    "\n",
    "n1 = np.ones(shape=3)\n",
    "print(n1)\n",
    "\n",
    "print()\n",
    "n1 = np.ones(shape=(1,3))\n",
    "print(n1)\n",
    "\n",
    "print()\n",
    "n1 = np.ones((3,1))\n",
    "print(n1)\n",
    "\n",
    "print()\n",
    "n1 = np.ones((3,5))\n",
    "print(n1)"
   ]
  },
  {
   "cell_type": "markdown",
   "id": "bb680e3f",
   "metadata": {},
   "source": [
    "#### Funkcja [`np.zeros`](https://numpy.org/doc/stable/reference/generated/numpy.zeros.html)"
   ]
  },
  {
   "cell_type": "code",
   "execution_count": null,
   "id": "66143ca3",
   "metadata": {},
   "outputs": [],
   "source": [
    "# Obiekt klasy ndarray składający się wyłącznie z zer możemy stworzyć za pomocą funkcji np.zeros. \n",
    "# Funkcja przyjmuje jeden obowiązkowy, pozycyjny parametr - kształt tworzonej macierzy.\n",
    "\n",
    "n0 = np.zeros((2,3))\n",
    "\n",
    "print(n0)"
   ]
  },
  {
   "cell_type": "markdown",
   "id": "1f23609c",
   "metadata": {},
   "source": [
    "#### Funkcja [`np.full`](https://numpy.org/doc/stable/reference/generated/numpy.full.html)"
   ]
  },
  {
   "cell_type": "markdown",
   "id": "c3efb712",
   "metadata": {},
   "source": [
    "Obiekty klasy ndarray o zadanym kształcie wypełnione konkretną wartością możemy tworzyć za pomocą funkcji `np.full`. Funkcja przyjmuje dwa obowiązkowy parametry pozycyjne: shape - rozmiar tablicy i fill_value - wartość, którą tablica ma zostać wypełniona."
   ]
  },
  {
   "cell_type": "code",
   "execution_count": null,
   "id": "ab16d761",
   "metadata": {},
   "outputs": [],
   "source": [
    "n = np.full(shape=3, fill_value=5)\n",
    "print(n)"
   ]
  },
  {
   "cell_type": "code",
   "execution_count": null,
   "id": "34bb931c",
   "metadata": {},
   "outputs": [],
   "source": [
    "n = np.full((2,5),4)\n",
    "print(n)"
   ]
  },
  {
   "cell_type": "code",
   "execution_count": null,
   "id": "662244a4",
   "metadata": {},
   "outputs": [],
   "source": [
    "n = np.full((3,5,2), 2)\n",
    "print(n)"
   ]
  },
  {
   "cell_type": "markdown",
   "id": "666e8761",
   "metadata": {},
   "source": [
    "### Zadanie 5\n",
    "\n",
    "---\n",
    "\n",
    "- Utwórz tablicę samych zer o wymiarze 2x5x3\n",
    "- Utwórz tablicę 1x2x3 której wartościami będą wyłącznie 7"
   ]
  },
  {
   "cell_type": "code",
   "execution_count": null,
   "id": "8370b49f",
   "metadata": {},
   "outputs": [],
   "source": [
    "# rozwiązanie\n"
   ]
  },
  {
   "cell_type": "markdown",
   "id": "1487d5aa",
   "metadata": {},
   "source": [
    "### Przykłady funkcji generujących jednowymiarowe tablice (aka wektory)"
   ]
  },
  {
   "cell_type": "markdown",
   "id": "173ef897",
   "metadata": {},
   "source": [
    "#### Funkcja [`np.arange`](https://numpy.org/doc/stable/reference/generated/numpy.arange.html)"
   ]
  },
  {
   "cell_type": "code",
   "execution_count": null,
   "id": "555006eb",
   "metadata": {},
   "outputs": [],
   "source": [
    "# Obiekt klasy ndarray wygenerowany na podstawie zadanego zakresu możemy stworzyć za pomocą funkcji np.arange. \n",
    "# Funkcja przyjmuje jeden, obowiązkowy parametr pozycyjny - stop (koniec zakresu). Na podstawie przekazanego parametru,\n",
    "# funkcja generuje tablicę liczb od 0 do wartości parametru. Ponadto  Przyjmuje również jeden parametr opcjonalny krok (identycznie jak pythonowa funkcja range)\n",
    "\n",
    "n = np.arange(10)\n",
    "print(n)\n",
    "\n",
    "print()\n",
    "n = np.arange(stop=5)\n",
    "print(n)\n",
    "\n",
    "print()\n",
    "n = np.arange(start=3, stop=10, step=3)\n",
    "print(n)\n",
    "\n",
    "print()\n",
    "n = np.arange(9, 2, -2)\n",
    "print(n)"
   ]
  },
  {
   "cell_type": "markdown",
   "id": "12b0a310",
   "metadata": {},
   "source": [
    "#### Funkcja [`np.linespace`](https://numpy.org/doc/stable/reference/generated/numpy.linspace.html)"
   ]
  },
  {
   "cell_type": "code",
   "execution_count": null,
   "id": "57bf94f2",
   "metadata": {},
   "outputs": [],
   "source": [
    "# Obiekt klasy ndarray wygenerowany na podstawie zadanego zakresu możemy również stworzyć za pomocą funkcji np.linespace.\n",
    "# Funkcja np.linespace różni się od funkcji np.arange tym, że przyjmuj 2 obowiązkowe parametry - start i stop oraz tym, że\n",
    "# trzeci parametr (num) to nieujemna liczba całkowita przedstawiająca liczbę równoodległych elementów pomiędzy start i stop \n",
    "# (a nie długość kroku).\n",
    "\n",
    "n = np.linspace(start= 0, stop=10)  # domyślna wartość num=50\n",
    "print(n)\n",
    "\n",
    "print()\n",
    "n = np.linspace(1, 5)\n",
    "print(n)\n",
    "\n",
    "print()\n",
    "n = np.linspace(start=3, stop=20, num=3)\n",
    "print(n)\n",
    "\n",
    "print()\n",
    "n = np.linspace(2, 9, 2)\n",
    "print(n)"
   ]
  },
  {
   "cell_type": "markdown",
   "id": "9a9c8516",
   "metadata": {},
   "source": [
    "### Zadanie 6\n",
    "\n",
    "---\n",
    "\n",
    "Utwórz:\n",
    "\n",
    "- wektor zawierający co trzecią liczbę z przedziału [5, 39)\n",
    "- wektor zawierający 28 równomiernie rozłożonych wartości z przedziału [20, 40]"
   ]
  },
  {
   "cell_type": "code",
   "execution_count": null,
   "id": "6f0aca8a",
   "metadata": {},
   "outputs": [],
   "source": [
    "# rozwiązanie\n"
   ]
  },
  {
   "cell_type": "markdown",
   "id": "020de7b7",
   "metadata": {},
   "source": [
    "### Przykłady funkcji generujących dwuwymiarowe tablice (aka macierze)"
   ]
  },
  {
   "cell_type": "markdown",
   "id": "9a4678bb",
   "metadata": {},
   "source": [
    "#### Funkcja [`np.eye`](https://numpy.org/doc/stable/reference/generated/numpy.eye.html#numpy.eye)"
   ]
  },
  {
   "cell_type": "markdown",
   "id": "9c5c1936",
   "metadata": {},
   "source": [
    "Macierz diagonalną o wymiarach nxm, możemy stworzyć za pomocą funkcji np.eye. Funkcja przyjmuje jeden, obowiązkowy parametr pozycyjny N - liczba wierszy, oraz dwa opcjonalne parametry pozycyjne M - liczba kolumn (domyślnie równa N),  k - indeks diagonali (domyślnie 0)"
   ]
  },
  {
   "cell_type": "code",
   "execution_count": null,
   "id": "ab9927a1",
   "metadata": {},
   "outputs": [],
   "source": [
    "n = np.eye(N=3)\n",
    "print(n)"
   ]
  },
  {
   "cell_type": "code",
   "execution_count": null,
   "id": "2ed885a1",
   "metadata": {},
   "outputs": [],
   "source": [
    "n = np.eye(5)\n",
    "print(n)"
   ]
  },
  {
   "cell_type": "code",
   "execution_count": null,
   "id": "f055d43d",
   "metadata": {},
   "outputs": [],
   "source": [
    "n = np.eye(3, 5)\n",
    "print(n)"
   ]
  },
  {
   "cell_type": "code",
   "execution_count": null,
   "id": "343f2130",
   "metadata": {},
   "outputs": [],
   "source": [
    "n = np. eye(N=3, M=5, k=2)\n",
    "print(n)"
   ]
  },
  {
   "cell_type": "markdown",
   "id": "848a4230",
   "metadata": {},
   "source": [
    "#### Funkcja [`np.indentity`](https://numpy.org/doc/stable/reference/generated/numpy.identity.html#numpy.identity)"
   ]
  },
  {
   "cell_type": "markdown",
   "id": "e392a2fc",
   "metadata": {},
   "source": [
    "Macierz identycznościową możemy stworzyć za pomocą funkcji `np.identity`. Funkcja przyjmuje jeden obowiązkowy parametr pozycyjny n - rozmiar macierzy."
   ]
  },
  {
   "cell_type": "code",
   "execution_count": null,
   "id": "d04d9b71",
   "metadata": {},
   "outputs": [],
   "source": [
    "n = np.identity(4)\n",
    "print(n)"
   ]
  },
  {
   "cell_type": "code",
   "execution_count": null,
   "id": "0acd71ed",
   "metadata": {},
   "outputs": [],
   "source": [
    "n = np.identity(n=2)\n",
    "print(n)"
   ]
  },
  {
   "cell_type": "markdown",
   "id": "244f8307",
   "metadata": {},
   "source": [
    "Wszystkie powyższe funkcje przyjmują parametr opcjonalny `dtype`, który pozwala narzucić typ tablicy."
   ]
  },
  {
   "cell_type": "code",
   "execution_count": null,
   "id": "bdad34f8",
   "metadata": {},
   "outputs": [],
   "source": [
    "n = np.arange(2, 8, 2)\n",
    "print(n)"
   ]
  },
  {
   "cell_type": "code",
   "execution_count": null,
   "id": "4160aef5",
   "metadata": {},
   "outputs": [],
   "source": [
    "n = np.arange(2, 8, 2, np.float64)\n",
    "print(n)"
   ]
  },
  {
   "cell_type": "code",
   "execution_count": null,
   "id": "28bc3133",
   "metadata": {},
   "outputs": [],
   "source": [
    "n = np.arange(start=2, stop=8, step=2, dtype=np.float64)\n",
    "print(n)"
   ]
  },
  {
   "cell_type": "markdown",
   "id": "8b83fb69",
   "metadata": {},
   "source": [
    "Jest dużo więcej sposobów na tworzenie tablic numpy. Opis wszystkich można znaleźć [tutaj](https://numpy.org/doc/stable/user/basics.creation.html) i [tutaj](https://numpy.org/doc/stable/reference/routines.array-creation.html#routines-array-creation)"
   ]
  },
  {
   "cell_type": "markdown",
   "id": "c6056e5f",
   "metadata": {},
   "source": [
    "### Zadanie 7\n",
    "\n",
    "---\n",
    "\n",
    "- Utwórz macierz jednostkową o wymiarze 4x4"
   ]
  },
  {
   "cell_type": "code",
   "execution_count": null,
   "id": "2127dc06",
   "metadata": {},
   "outputs": [],
   "source": [
    "# rozwiązanie\n"
   ]
  },
  {
   "cell_type": "markdown",
   "id": "a5aeb229",
   "metadata": {},
   "source": [
    "---"
   ]
  },
  {
   "cell_type": "markdown",
   "id": "24a9855d",
   "metadata": {},
   "source": [
    "## Podstawowe operacje na tablicach numpy"
   ]
  },
  {
   "cell_type": "markdown",
   "id": "d826a7b5",
   "metadata": {},
   "source": [
    "#### 1-d array"
   ]
  },
  {
   "cell_type": "code",
   "execution_count": null,
   "id": "1bb0a285",
   "metadata": {},
   "outputs": [],
   "source": [
    "# Przykładowa 1-wymiarowa tablica numpy \n",
    "array_1d = np.array([0, 1, 2, 3, 4, 5, 6, 7, 8, 9, 10, 11])\n",
    "print(array_1d)"
   ]
  },
  {
   "cell_type": "markdown",
   "id": "3a4dcbb8",
   "metadata": {},
   "source": [
    "* Indeksowanie"
   ]
  },
  {
   "cell_type": "code",
   "execution_count": null,
   "id": "0bb0d23d",
   "metadata": {},
   "outputs": [],
   "source": [
    "# Indeksowanie od zera\n",
    "print(f\"Pierwszy element tablicy numpy to {array_1d[0]}\")  # pierwszy element ma indeks 0"
   ]
  },
  {
   "cell_type": "code",
   "execution_count": null,
   "id": "7d237fc4",
   "metadata": {},
   "outputs": [],
   "source": [
    "# Obsługa ujemnych indeksów\n",
    "print(f\"Ostatni element tablicy numpy to {array_1d[-1]}\")"
   ]
  },
  {
   "cell_type": "markdown",
   "id": "ed497d4b",
   "metadata": {},
   "source": [
    "* Wycinki (slice)"
   ]
  },
  {
   "cell_type": "code",
   "execution_count": null,
   "id": "9e2cefba",
   "metadata": {},
   "outputs": [],
   "source": [
    "# przedział domknięty z prawej strony i otwarty z lewej (z początkowym indeksem, bez końcowego indeksu)\n",
    "print(f\"Elementy tablicy numpy pomiędzy 2, a 5 indeksem to {array_1d[2:5]}\")"
   ]
  },
  {
   "cell_type": "code",
   "execution_count": null,
   "id": "8a3bd068",
   "metadata": {},
   "outputs": [],
   "source": [
    "print(f\"Wszystkie elementy tablicy numpy do piątego indeksu (bez piątego) to {array_1d[:5]}\")"
   ]
  },
  {
   "cell_type": "code",
   "execution_count": null,
   "id": "0e7fad59",
   "metadata": {},
   "outputs": [],
   "source": [
    "print(f\"Wszystkie elementy tablicy numpy od drugiego indeksu (włącznie) to {array_1d[2:]}\")"
   ]
  },
  {
   "cell_type": "code",
   "execution_count": null,
   "id": "238ffe99",
   "metadata": {},
   "outputs": [],
   "source": [
    "# Przedział z krokiem\n",
    "print(f\"Co drugi element tablicy numpy pomiędzy drugim i siódmym indeksem to {array_1d[2:7:2]}\")"
   ]
  },
  {
   "cell_type": "code",
   "execution_count": null,
   "id": "b0597ae1",
   "metadata": {},
   "outputs": [],
   "source": [
    "# Ujemny krok\n",
    "print(f\"Co drugi element tablicy numpy pomiędzy drugim i siódmym indeksem od tyłu to {array_1d[7:2:-2]}\")"
   ]
  },
  {
   "cell_type": "code",
   "execution_count": null,
   "id": "08a477cd",
   "metadata": {},
   "outputs": [],
   "source": [
    "print(f\"Co trzeci element tablicy numpy to {array_1d[::3]}\")"
   ]
  },
  {
   "cell_type": "code",
   "execution_count": null,
   "id": "ea5ac86f",
   "metadata": {},
   "outputs": [],
   "source": [
    "print(f\"Wszystkie elementy tablicy numpy w odwrotnej kolejności to: {array_1d[::-1]}\")"
   ]
  },
  {
   "cell_type": "code",
   "execution_count": null,
   "id": "1d683ebc",
   "metadata": {},
   "outputs": [],
   "source": [
    "Numpy wprowadza aleternatywny sposób indeksowania elementów, który nazywa [fancy indexing]()"
   ]
  },
  {
   "cell_type": "markdown",
   "id": "c0631287",
   "metadata": {},
   "source": [
    "### Zadanie 8\n",
    "\n",
    "---\n",
    "\n",
    "Z zadanej tablicy `exe8` wyciągnij następujące fragmenty (wycinki):\n",
    "\n",
    "\n",
    "- `array([ 4, -2])`\n",
    "- `array([ 3,  4, -2,  0,  7,  9, -4])`\n",
    "- `array([ 9, -4])` (użyj ujemnych indeksów)\n",
    "- `array([ 1, -2,  9])`"
   ]
  },
  {
   "cell_type": "code",
   "execution_count": null,
   "id": "bee5f211",
   "metadata": {},
   "outputs": [],
   "source": [
    "# rozwiązanie\n",
    "exe8 = np.array([1, 3, 4, -2, 0, 7, 9, -4, 5])"
   ]
  },
  {
   "cell_type": "markdown",
   "id": "6f22758a",
   "metadata": {},
   "source": [
    "#### 2-d array"
   ]
  },
  {
   "cell_type": "code",
   "execution_count": null,
   "id": "1de68d43",
   "metadata": {},
   "outputs": [],
   "source": [
    "# Przykładowy 2-wymiarowa tablica numpy\n",
    "array_2d = np.array(\n",
    "    [\n",
    "        [0, 1, 2, 3, 4, 5],\n",
    "        [6, 7, 8, 9, 10, 11],\n",
    "        [12, 13, 14, 15, 16, 17],\n",
    "        [18, 19, 20, 21, 22, 23],\n",
    "    ]\n",
    ")\n",
    "print(array_2d)"
   ]
  },
  {
   "cell_type": "markdown",
   "id": "a0f6f43b",
   "metadata": {},
   "source": [
    "Indeksowanie po axis0 (wierszach)"
   ]
  },
  {
   "cell_type": "code",
   "execution_count": null,
   "id": "ff751933",
   "metadata": {},
   "outputs": [],
   "source": [
    "print(f\"Pierwszy element (pierwszy wiersz) tablicy to {array_2d[0]}\")  # wiersz o indeksie 0\n",
    "# Dla tablicy dwuwymiarowej, wyciągnięcie elementu o wskazanym indeksie zwraca tablicę jednowymiarową."
   ]
  },
  {
   "cell_type": "code",
   "execution_count": null,
   "id": "8cbb7fd9",
   "metadata": {},
   "outputs": [],
   "source": [
    "print(f\"Wiersze od drugiego do czwartego tablicy to {array_2d[1:3]}\")"
   ]
  },
  {
   "cell_type": "code",
   "execution_count": null,
   "id": "a26bff5a",
   "metadata": {},
   "outputs": [],
   "source": [
    "print(f\"Co drugi wiersz {array_2d[::2]}\")"
   ]
  },
  {
   "cell_type": "markdown",
   "id": "feac767c",
   "metadata": {},
   "source": [
    "Indeksowanie po axis1 (kolumnach)"
   ]
  },
  {
   "cell_type": "code",
   "execution_count": null,
   "id": "6ea7e14d",
   "metadata": {},
   "outputs": [],
   "source": [
    "# Zwróconą za pomocą pierwszego indeksu tablicę jednowymiarową możemy dalej indeksować wskazując w ten sposób \n",
    "# kolumny w tej jednoelementowej tablicy\n",
    "\n",
    "# Wyświetl trzeci element drugiego wiersza tablicy\n",
    "\n",
    "# Sposób I (tradycyjne indeksowanie)\n",
    "print(f\"Trzeci element drugiego wiersza tablicy to {array_2d[1][2]}\")  # element o indeksie 2 w wierszu o indeksie 1\n",
    "\n",
    "# array_1d[idx1][idx2] = array_2d[idx1] -> 1d array[idx2] -> element o indeksie idx2 wyciągnięty z wiersza o indeksie idx1\n",
    "\n",
    "# Sposób II (fancy indexing)\n",
    "print(f\"Trzeci element drugiego wiersza tablicy to {array_2d[1, 2]}\")  # element o indeksie 2 w wierszu o indeksie 1"
   ]
  },
  {
   "cell_type": "code",
   "execution_count": null,
   "id": "05416390",
   "metadata": {},
   "outputs": [],
   "source": [
    "# Wyświetl trzeci wiersz, elementy od 2 do 4 to\n",
    "\n",
    "# Sposób I (tradycyjne indeksowanie)\n",
    "print(f\"Trzeci wiersz, elementy od 2 do 4 to {array_2d[2][1:3]}\")\n",
    "\n",
    "# Sposób II (fancy indexing)\n",
    "print(f\"Trzeci wiersz, elementy od 2 do 4 to {array_2d[2, 1:3]}\")"
   ]
  },
  {
   "cell_type": "code",
   "execution_count": null,
   "id": "338de93b",
   "metadata": {},
   "outputs": [],
   "source": [
    "# Wyświetl pierwsze dwa wiersze, kolumna druga\n",
    "\n",
    "# fancy indexing\n",
    "print(f\"Pierwsze dwa wiersze, kolumna druga {array_2d[:2, 1]}\")"
   ]
  },
  {
   "cell_type": "code",
   "execution_count": null,
   "id": "26402c14",
   "metadata": {},
   "outputs": [],
   "source": [
    "# Wyświetl pierwszy i czwarty wiersz\n",
    "\n",
    "print(f\"Pierwszy i czwarty wiersz {array_2d[1::2]}\")"
   ]
  },
  {
   "cell_type": "code",
   "execution_count": null,
   "id": "b239f07f",
   "metadata": {},
   "outputs": [],
   "source": [
    "# Wyświetl wszystkie wiersze, kolumna 0\n",
    "\n",
    "print(f\"Pierwsze dwa wiersze, kolumna druga {array_2d[:, 0]}\")"
   ]
  },
  {
   "cell_type": "code",
   "execution_count": null,
   "id": "d7206e52",
   "metadata": {},
   "outputs": [],
   "source": [
    "# Wyświetl wszystkie kolumny, wiersz 0\n",
    "\n",
    "# fancy indexing\n",
    "print(f\"Pierwsze dwa wiersze, kolumna druga {array_2d[0, :]}\")"
   ]
  },
  {
   "cell_type": "code",
   "execution_count": null,
   "id": "6dce5962",
   "metadata": {},
   "outputs": [],
   "source": [
    "# Wyświetl co drugą kolumnę w wiersz 0\n",
    "\n",
    "# fancy indexing\n",
    "print(f\"Co druga kolumna w wierszu 0 to {array_2d[0, ::2]}\")"
   ]
  },
  {
   "cell_type": "code",
   "execution_count": null,
   "id": "a1a05a7f",
   "metadata": {},
   "outputs": [],
   "source": [
    "# Wyświetl co drugą kolumnę co drugiego wiersza\n",
    "\n",
    "# Sposób II fancy indexing\n",
    "print(f\"Pierwsze dwa wiersze, kolumna druga {array_2d[0, ::2]}\")"
   ]
  },
  {
   "cell_type": "markdown",
   "id": "4ee8d014",
   "metadata": {},
   "source": [
    "### Zadanie 9\n",
    "\n",
    "---\n",
    "\n",
    "Z zadanej tablicy `exe9` wyciągnij następujące fragmenty (wycinki)\n",
    "\n",
    "- `array([-3,  1,  0,  1,  4])`\n",
    "- `array([1, 0])`\n",
    "- `array([[-2,  4], [6,  8]])`\n",
    "- `array([0, 1, 4])`"
   ]
  },
  {
   "cell_type": "code",
   "execution_count": null,
   "id": "78fd3c38",
   "metadata": {},
   "outputs": [],
   "source": [
    "# rozwiązanie\n",
    "exe9 = np.array(\n",
    "    [\n",
    "        [ 3,  0, -2,  4,  5],\n",
    "        [ 1,  4,  6,  8, -1],\n",
    "        [-3,  1,  0,  1,  4]\n",
    "    ]\n",
    ")\n"
   ]
  },
  {
   "cell_type": "markdown",
   "id": "b2c99747",
   "metadata": {},
   "source": [
    "### Zadanie 10\n",
    "\n",
    "---\n",
    "\n",
    "Z zadanej tablicy `exe10` wyciągnij następujące fragmenty (wycinki)\n",
    "\n",
    "- `array([3, 4])`\n",
    "- `array([[19, 20, 21], [25, 26, 27]])`"
   ]
  },
  {
   "cell_type": "code",
   "execution_count": null,
   "id": "c7e566a2",
   "metadata": {},
   "outputs": [],
   "source": [
    "# rozwiązanie\n",
    "exe10 = np.array(\n",
    "    [\n",
    "        [\n",
    "            [ 0,  1,  2,  3,  4,  5],\n",
    "            [ 6,  7,  8,  9, 10, 11],\n",
    "            [12, 13, 14, 15, 16, 17]\n",
    "        ],\n",
    "        [\n",
    "            [18, 19, 20, 21, 22, 23],\n",
    "            [24, 25, 26, 27, 28, 29],\n",
    "            [30, 31, 32, 33, 34, 35]\n",
    "        ]\n",
    "    ]\n",
    ")\n"
   ]
  },
  {
   "cell_type": "code",
   "execution_count": null,
   "id": "7987df50",
   "metadata": {},
   "outputs": [],
   "source": [
    "# Uwaga! ndarray jest typem modyfikowalnym (jak lista)\n",
    "\n",
    "array_2d[-1, 3] = 100\n",
    "print(array_2d)"
   ]
  },
  {
   "cell_type": "markdown",
   "id": "a32575db",
   "metadata": {},
   "source": [
    "### Podstawowe operacje arytmetyczne"
   ]
  },
  {
   "cell_type": "code",
   "execution_count": null,
   "id": "a2eb0d58",
   "metadata": {},
   "outputs": [],
   "source": [
    "# Tworzymy dwie tablice\n",
    "a = np.array(\n",
    "    [\n",
    "     [2, 4], \n",
    "     [6, 8]\n",
    "    ], dtype=np.float32\n",
    ")\n",
    "\n",
    "b = np.array(\n",
    "    [\n",
    "     [1, 3], \n",
    "     [5, 7]\n",
    "    ], dtype=np.float32\n",
    ")"
   ]
  },
  {
   "cell_type": "markdown",
   "id": "d3cb657a",
   "metadata": {},
   "source": [
    "#### Dodawanie \"po współrzędnych\" ([`np.add`](https://numpy.org/doc/stable/reference/generated/numpy.add.html))"
   ]
  },
  {
   "cell_type": "code",
   "execution_count": null,
   "id": "2883f31a",
   "metadata": {},
   "outputs": [],
   "source": [
    "# metoda I (metoda add)\n",
    "print(np.add(a,b))\n",
    "\n",
    "# metoda II (operator +)\n",
    "print(a+b)"
   ]
  },
  {
   "cell_type": "markdown",
   "id": "d4888834",
   "metadata": {},
   "source": [
    "#### Odejmowanie \"po współrzędnych\" ([`np.subtract`](https://numpy.org/doc/stable/reference/generated/numpy.subtract.html))"
   ]
  },
  {
   "cell_type": "code",
   "execution_count": null,
   "id": "141ad65a",
   "metadata": {},
   "outputs": [],
   "source": [
    "# metoda I (metoda subtract)\n",
    "print(np.subtract(a,b))\n",
    "\n",
    "# metoda II (operator -)\n",
    "print(a-b)"
   ]
  },
  {
   "cell_type": "markdown",
   "id": "dc451323",
   "metadata": {},
   "source": [
    "#### Mnożenie \"po współrzędnych\" ([`np.multiply`](https://numpy.org/doc/stable/reference/generated/numpy.multiply.html))"
   ]
  },
  {
   "cell_type": "code",
   "execution_count": null,
   "id": "887435c4",
   "metadata": {},
   "outputs": [],
   "source": [
    "# metoda I (funkcja multiply)\n",
    "print(np.multiply(a, b))\n",
    "\n",
    "# metoda II (operator *)\n",
    "print(a*b)"
   ]
  },
  {
   "cell_type": "markdown",
   "id": "b88e1682",
   "metadata": {},
   "source": [
    "#### Dzielenie \"po współrzędnych\" ([`np.divide`](https://numpy.org/doc/stable/reference/generated/numpy.divide.html))"
   ]
  },
  {
   "cell_type": "code",
   "execution_count": null,
   "id": "4ffb27c7",
   "metadata": {},
   "outputs": [],
   "source": [
    "# metoda I (funkcja divide)\n",
    "print(np.divide(a, b))\n",
    "\n",
    "# metoda II (operator /)\n",
    "print(a/b)"
   ]
  },
  {
   "cell_type": "markdown",
   "id": "9f83b9eb",
   "metadata": {},
   "source": [
    "#### Dzielenie całkowitoliczbowe \"po współrzędnych\" ([`np.floor_divide`](https://numpy.org/doc/stable/reference/generated/numpy.floor_divide.html))"
   ]
  },
  {
   "cell_type": "code",
   "execution_count": null,
   "id": "f7bb6384",
   "metadata": {},
   "outputs": [],
   "source": [
    "# metoda I (funkcja floor_divide)\n",
    "print(np.floor_divide(a, b))\n",
    "\n",
    "# metoda II (operator //)\n",
    "print(a//b)"
   ]
  },
  {
   "cell_type": "markdown",
   "id": "6b535778",
   "metadata": {},
   "source": [
    "#### Modulo \"po współrzędnych\" ([`np.mod`](https://numpy.org/doc/stable/reference/generated/numpy.mod.html), [`np.remainder`](https://numpy.org/doc/stable/reference/generated/numpy.remainder.html))"
   ]
  },
  {
   "cell_type": "code",
   "execution_count": null,
   "id": "69362ecb",
   "metadata": {},
   "outputs": [],
   "source": [
    "# modulo = reszta z dzielenia\n",
    "\n",
    "# metoda 1 (funckja mod)\n",
    "print(np.mod(a, b))\n",
    "\n",
    "# metoda II (funkcja remainder)\n",
    "print(np.remainder(a, b))\n",
    "\n",
    "# metoda III (operator %)\n",
    "print(a%b)"
   ]
  },
  {
   "cell_type": "markdown",
   "id": "4a23b943",
   "metadata": {},
   "source": [
    "#### Potęgowanie \"po współrzędnych\" ([`np.power`](https://numpy.org/doc/stable/reference/generated/numpy.power.html))"
   ]
  },
  {
   "cell_type": "code",
   "execution_count": null,
   "id": "21f329a0",
   "metadata": {},
   "outputs": [],
   "source": [
    "# metoda I (funkcja power)\n",
    "print(np.power(a, 3))\n",
    "\n",
    "# metoda II (operator **)\n",
    "print(a**3)"
   ]
  },
  {
   "cell_type": "markdown",
   "id": "f1e92ca5",
   "metadata": {},
   "source": [
    "W numpy istniej dużo więcej funkcji matematycznych działających \"po wspólrzędnych\". Można o nich przeczytać [tutaj](https://numpy.org/doc/stable/reference/routines.math.html). \n",
    "\n",
    "Poniżej kilka przykładów."
   ]
  },
  {
   "cell_type": "code",
   "execution_count": null,
   "id": "003842a4",
   "metadata": {},
   "outputs": [],
   "source": [
    "# sin (wartości w radianch)\n",
    "print(np.sin(a))"
   ]
  },
  {
   "cell_type": "code",
   "execution_count": null,
   "id": "9a3947c9",
   "metadata": {},
   "outputs": [],
   "source": [
    "# cos (wartości w radianach)\n",
    "print(np.cos(a))"
   ]
  },
  {
   "cell_type": "code",
   "execution_count": null,
   "id": "64bfa52d",
   "metadata": {},
   "outputs": [],
   "source": [
    "# tanh (wartości w radianach)\n",
    "print(np.tanh(a))"
   ]
  },
  {
   "cell_type": "code",
   "execution_count": null,
   "id": "68d651d1",
   "metadata": {},
   "outputs": [],
   "source": [
    "# podłoga\n",
    "print(np.sin(a))\n",
    "\n",
    "print()\n",
    "\n",
    "print(np.floor(np.sin(a)))"
   ]
  },
  {
   "cell_type": "code",
   "execution_count": null,
   "id": "a520b505",
   "metadata": {},
   "outputs": [],
   "source": [
    "# sufit\n",
    "print(np.sin(a))\n",
    "\n",
    "print()\n",
    "\n",
    "print(np.ceil(np.sin(a)))"
   ]
  },
  {
   "cell_type": "code",
   "execution_count": null,
   "id": "33279f83",
   "metadata": {},
   "outputs": [],
   "source": [
    "# wartość absolutna\n",
    "\n",
    "# metoda I\n",
    "print(np.absolute(a))\n",
    "\n",
    "# metoda II\n",
    "print(np.abs(a))"
   ]
  },
  {
   "cell_type": "code",
   "execution_count": null,
   "id": "df59f62e",
   "metadata": {},
   "outputs": [],
   "source": [
    "# pierwiastek\n",
    "print(np.sqrt(a))"
   ]
  },
  {
   "cell_type": "code",
   "execution_count": null,
   "id": "44cb9b15",
   "metadata": {},
   "outputs": [],
   "source": [
    "# exponent\n",
    "print(np.exp(a))"
   ]
  },
  {
   "cell_type": "code",
   "execution_count": null,
   "id": "56cc8bd5",
   "metadata": {},
   "outputs": [],
   "source": [
    "# logarytm (naturalny)\n",
    "print(np.log(a))"
   ]
  },
  {
   "cell_type": "code",
   "execution_count": null,
   "id": "aec162b1",
   "metadata": {},
   "outputs": [],
   "source": [
    "# logarytm o podstawie 10\n",
    "print(np.log10(a))"
   ]
  },
  {
   "cell_type": "markdown",
   "id": "bf5cc037",
   "metadata": {},
   "source": [
    "### Zadanie 11\n",
    "\n",
    "---\n",
    "\n",
    "Dla zadanej macierzy `exe11`, znajdź:\n",
    "- macierz jej pierwiastków kwadratowych\n",
    "- macierz jej exponentów\n",
    "- macierz jej wartości bezwzględnych"
   ]
  },
  {
   "cell_type": "code",
   "execution_count": null,
   "id": "615fc45b",
   "metadata": {},
   "outputs": [],
   "source": [
    "# rozwiązanie\n",
    "exe11 = np.array(\n",
    "    [\n",
    "        [-1,  0,  1,  2],\n",
    "        [10, 20, 30, 40],\n",
    "        [ 2, -4,  6, -8]\n",
    "    ]\n",
    ")\n"
   ]
  },
  {
   "cell_type": "markdown",
   "id": "8244b2a7",
   "metadata": {},
   "source": [
    "### Zadanie 12\n",
    "\n",
    "---\n",
    "\n",
    "Z zadanej macierzy `exe12` wyciągnij dwa pierwsze wiersze do zmiennych jako wektory. Następnie policz logarytm dziesiętny \n",
    "elementów pierwszego wektora oraz logarytm naturalny elementów drugiego wektora. Dodaj do siebie te dwa wektory logarytmów."
   ]
  },
  {
   "cell_type": "code",
   "execution_count": null,
   "id": "880b4f24",
   "metadata": {},
   "outputs": [],
   "source": [
    "# rozwiązanie\n",
    "exe12 = [\n",
    "    [-1,  0,  1,  2],\n",
    "    [10, 20, 30, 40],\n",
    "    [ 2, -4,  6, -8]\n",
    "]\n"
   ]
  },
  {
   "cell_type": "markdown",
   "id": "48d15a04",
   "metadata": {},
   "source": [
    "## Funkcje agregujące (statystyki)"
   ]
  },
  {
   "cell_type": "markdown",
   "id": "65cd7675",
   "metadata": {},
   "source": [
    "Funkcje agregujące to funkcje zwracające statystkę dotyczącą wszystkich lub części elementów tablicy. Do podstawowych funkcji agregujących należą: "
   ]
  },
  {
   "cell_type": "code",
   "execution_count": null,
   "id": "a5588a8a",
   "metadata": {},
   "outputs": [],
   "source": [
    "stats = np.array(\n",
    "    [\n",
    "        [0, 1],\n",
    "        [2, 3]\n",
    "    ]\n",
    ")"
   ]
  },
  {
   "cell_type": "markdown",
   "id": "89b786dd",
   "metadata": {},
   "source": [
    "#### Funkcja [`np.sum`](https://numpy.org/doc/stable/reference/generated/numpy.sum.html#numpy.sum)\n",
    "\n",
    "Funkcja zwracająca sumę wszystkich elementów tablicy. Sumę elementów możemy otrzymać na dwa sposoby."
   ]
  },
  {
   "cell_type": "code",
   "execution_count": null,
   "id": "b9cde807",
   "metadata": {},
   "outputs": [],
   "source": [
    "# metoda I (funkcja np.sum)\n",
    "print(np.sum(stats))\n",
    "\n",
    "# metoda II (metoda stats.sum klasy ndarray)\n",
    "print(stats.sum())"
   ]
  },
  {
   "cell_type": "markdown",
   "id": "e5d1cc58",
   "metadata": {},
   "source": [
    "#### Funkcja [`np.mean`](https://numpy.org/doc/stable/reference/generated/numpy.mean.html#numpy.mean), [`np.average`](https://numpy.org/doc/stable/reference/generated/numpy.average.html#numpy.average)\n",
    "\n",
    "Funkcje zwracające średnią wszystkich elementów tablicy."
   ]
  },
  {
   "cell_type": "code",
   "execution_count": null,
   "id": "39a04efd",
   "metadata": {},
   "outputs": [],
   "source": [
    "# metoda I (funkcja np.mean)\n",
    "print(np.mean(stats))\n",
    "\n",
    "# metoda II (metoda mean)\n",
    "print(stats.mean())\n",
    "\n",
    "# metoda III (funkcja np.average)\n",
    "print(np.average(stats))"
   ]
  },
  {
   "cell_type": "markdown",
   "id": "aa4b4881",
   "metadata": {},
   "source": [
    "#### Funkcja [`np.std`](https://numpy.org/doc/stable/reference/generated/numpy.var.html#numpy.var)\n",
    "\n",
    "Funkcja zwracająca standardowe odchylenie elementów tablicy.\n",
    "\n",
    "<br>\n",
    "<center>\n",
    "$std = \\sqrt{\\frac{\\Sigma^{n}_{i=1}(x_{i} - \\bar x)}{n-1}}$\n",
    "</center>"
   ]
  },
  {
   "cell_type": "code",
   "execution_count": null,
   "id": "4816c770",
   "metadata": {},
   "outputs": [],
   "source": [
    "# metoda I (funkcja np.std)\n",
    "print(np.std(stats))\n",
    "\n",
    "# metoda II (metoda std klasy ndarray)\n",
    "print(stats.std())"
   ]
  },
  {
   "cell_type": "markdown",
   "id": "10b6c718",
   "metadata": {},
   "source": [
    "#### Funkcja [`np.var`]()\n",
    "\n",
    "Funkcje zwracające wariancję elementów tablicy.\n",
    "\n",
    "<br>\n",
    "<center>\n",
    "$var = std^{2} = \\frac{\\Sigma^{n}_{i=1}(x_{i} - \\bar x)}{n-1}$\n",
    "</center>"
   ]
  },
  {
   "cell_type": "code",
   "execution_count": null,
   "id": "9e29b357",
   "metadata": {},
   "outputs": [],
   "source": [
    "# metoda I (funkcja np.var)\n",
    "print(np.var(stats))\n",
    "\n",
    "# metoda II (metoda var klasy ndarray)\n",
    "print(stats.var())"
   ]
  },
  {
   "cell_type": "markdown",
   "id": "23049ada",
   "metadata": {},
   "source": [
    "#### Funkcja [`np.max`](https://numpy.org/doc/stable/reference/generated/numpy.amax.html#numpy.amax)\n",
    "\n",
    "Funkcja zwracająca największy element tablicy."
   ]
  },
  {
   "cell_type": "code",
   "execution_count": null,
   "id": "11c01144",
   "metadata": {},
   "outputs": [],
   "source": [
    "# metoda I (funkcja np.max)\n",
    "print(np.max(stats))\n",
    "\n",
    "# metoda II (funkcja np.amax)\n",
    "print(np.amax(stats))\n",
    "\n",
    "# metoda III (metoda max klasy ndarray)\n",
    "print(stats.max())"
   ]
  },
  {
   "cell_type": "markdown",
   "id": "d1b543f9",
   "metadata": {},
   "source": [
    "#### Funkcja np.min\n",
    "\n",
    "Funkcja zwracająca najmniejszy element tablic."
   ]
  },
  {
   "cell_type": "code",
   "execution_count": null,
   "id": "4ff4dffc",
   "metadata": {},
   "outputs": [],
   "source": [
    "# metoda I (funkcja np.min)\n",
    "print(np.min(stats))\n",
    "\n",
    "# metoda II (funkcja np.amin)\n",
    "print(np.amin(stats))\n",
    "\n",
    "# metoda III (metoda min klasy ndaraay)\n",
    "print(stats.min())"
   ]
  },
  {
   "cell_type": "markdown",
   "id": "f9ef7bd0",
   "metadata": {},
   "source": [
    "#### Funkcja [`np.argmax`](https://numpy.org/doc/stable/reference/generated/numpy.argmax.html#numpy.argmax)\n",
    "\n",
    "Funkcja zwraca indeks największego elementu tablicy."
   ]
  },
  {
   "cell_type": "code",
   "execution_count": null,
   "id": "50dc13c9",
   "metadata": {},
   "outputs": [],
   "source": [
    "# metoda I (funkcja np.argmax)\n",
    "print(np.argmax(stats))\n",
    "\n",
    "# metoda III (metoda argmax klasy ndaraay)\n",
    "print(stats.argmax())"
   ]
  },
  {
   "cell_type": "markdown",
   "id": "5cf62738",
   "metadata": {},
   "source": [
    "3 ?\n",
    "\n",
    "Funkcja zwraca tzw. płaski indeks (ang. flatten index). Numpy przechowuje tablice ciągłym bloku pamięci (ang. contiguous block of memory). Oznacza to, że kolejne elementy tablicy są w pamięci ułożone sekwencyjnie, jeden za drugim, a numpy trzyma tylko referencje (adres) do pierwszego elementu tablicy. Tego indeksu używa, żeby zlokalizować konkretny element tablicy w pamięci. Jak zamienić taki indeks na indeks, którym my się posługujemy? Służy do tego funkcja [`np.unravel_index`](https://numpy.org/doc/stable/reference/generated/numpy.unravel_index.html). Funkcja przyjmuje dwa obowiązkowe parametry, płaski indeks oraz kształt tablicy, której ten indeks dotyczy, a zwraca tradycyjny indeks."
   ]
  },
  {
   "cell_type": "code",
   "execution_count": null,
   "id": "eae44b6f",
   "metadata": {},
   "outputs": [],
   "source": [
    "flatten_index = stats.argmax()\n",
    "\n",
    "index = np.unravel_index(flatten_index, stats.shape)\n",
    "print(index)"
   ]
  },
  {
   "cell_type": "markdown",
   "id": "9c48809f",
   "metadata": {},
   "source": [
    "#### Funkcja [`np.argmin`](https://numpy.org/doc/stable/reference/generated/numpy.argmin.html#numpy.argmin)\n",
    "\n",
    "Funkcja zwraca indeks najmniejszego elementu tablicy."
   ]
  },
  {
   "cell_type": "code",
   "execution_count": null,
   "id": "3fc830ec",
   "metadata": {},
   "outputs": [],
   "source": [
    "# metoda I (funkcja np.argmax)\n",
    "print(np.argmin(stats))\n",
    "\n",
    "# metoda III (metoda argmax klasy ndaraay)\n",
    "print(stats.argmin())"
   ]
  },
  {
   "cell_type": "markdown",
   "id": "47517402",
   "metadata": {},
   "source": [
    "Statystyk w bibliotece numpy można znaleźć więcej. Pełna lista znajduje się [tutaj](https://numpy.org/doc/stable/reference/routines.statistics.html)."
   ]
  },
  {
   "cell_type": "markdown",
   "id": "d0a57e06",
   "metadata": {},
   "source": [
    "Powyższe statystyki możemy liczyć zarówno na wszystkich elementach tablicy jak i wzdłuż poszczególnych osi tablicy."
   ]
  },
  {
   "attachments": {
    "Bez%20nazwy.png": {
     "image/png": "[encoded data removed]"
    }
   },
   "cell_type": "markdown",
   "id": "8c15b0f1",
   "metadata": {},
   "source": [
    "![Bez%20nazwy.png](attachment:Bez%20nazwy.png)"
   ]
  },
  {
   "cell_type": "markdown",
   "id": "b41c2139",
   "metadata": {},
   "source": [
    "**Rys. 2** Ilustracja przedstawiająca działanie funkcji sum wzdłuż poszczególnych osi."
   ]
  },
  {
   "cell_type": "code",
   "execution_count": null,
   "id": "963e4c32",
   "metadata": {},
   "outputs": [],
   "source": [
    "# Suma wzdłuż osi wertykalnej (axis0)\n",
    "\n",
    "# metoda I\n",
    "print(np.sum(stats, axis=0))\n",
    "\n",
    "# metoda II\n",
    "print(stats.sum(axis=0))"
   ]
  },
  {
   "cell_type": "code",
   "execution_count": null,
   "id": "0af7f506",
   "metadata": {},
   "outputs": [],
   "source": [
    "# Suma wzdłuż osi horyzontalnej (axis1)\n",
    "\n",
    "# metoda I\n",
    "print(np.sum(stats, axis=1))\n",
    "\n",
    "# metoda II\n",
    "print(stats.sum(axis=1))"
   ]
  },
  {
   "cell_type": "markdown",
   "id": "964e96bf",
   "metadata": {},
   "source": [
    "### Składanie tablic\n",
    "\n",
    "Istniejące tablice możemy ze sobą łączyć."
   ]
  },
  {
   "cell_type": "markdown",
   "id": "16809d48",
   "metadata": {},
   "source": [
    "#### Funkcja [`np.concatenate`](https://numpy.org/doc/stable/reference/generated/numpy.concatenate.html#numpy-concatenate)\n",
    "\n",
    "Funkcja konkatenuje przekazaną sekwencje tablic. Posiada parametr opcjonalny axis oznaczający wzdłuż, której osi tablicy należy dokonać konkatenacji. "
   ]
  },
  {
   "cell_type": "code",
   "execution_count": null,
   "id": "f1e69e95",
   "metadata": {},
   "outputs": [],
   "source": [
    "arr1 = np.array([14, 21, 13, 8])\n",
    "arr2 = np.array([43, 24])"
   ]
  },
  {
   "cell_type": "code",
   "execution_count": null,
   "id": "d49969ec",
   "metadata": {},
   "outputs": [],
   "source": [
    "arr1 = np.array(\n",
    "    [\n",
    "        [14, 6, 34],\n",
    "        [2, 45, 26]\n",
    "    ]\n",
    ")\n",
    "\n",
    "arr2 = np.array(\n",
    "    [\n",
    "        [36, 0, 11],\n",
    "        [19, 4, 5]\n",
    "    ]\n",
    ")"
   ]
  },
  {
   "cell_type": "code",
   "execution_count": null,
   "id": "72a2824e",
   "metadata": {},
   "outputs": [],
   "source": [
    "np.concatenate([arr1, arr2])  # konkatenacja nastąpiła wzdłuż osi wertykalnej (axis0)"
   ]
  },
  {
   "cell_type": "code",
   "execution_count": null,
   "id": "68012b5f",
   "metadata": {},
   "outputs": [],
   "source": [
    "np.concatenate([arr1, arr2], axis=0)"
   ]
  },
  {
   "cell_type": "code",
   "execution_count": null,
   "id": "f090e3ac",
   "metadata": {},
   "outputs": [],
   "source": [
    "np.concatenate([arr1, arr2], axis=1)  # konkatenacja wzdłuż osi horyzontalnej (axis1)"
   ]
  },
  {
   "cell_type": "markdown",
   "id": "215665f9",
   "metadata": {},
   "source": [
    "#### Funkcja [`np.stack`](https://numpy.org/doc/stable/reference/generated/numpy.stack.html#numpy.stack)\n",
    "\n",
    "Funkcja robi złączenie (ang. join) przekazanej sekwencji tablic wzdłuż nowej osi. Przyjmuje parametr opcjonalny axis wskazujący indeks nowej osi."
   ]
  },
  {
   "cell_type": "code",
   "execution_count": null,
   "id": "06226523",
   "metadata": {},
   "outputs": [],
   "source": [
    "np.stack([arr1, arr2])"
   ]
  },
  {
   "cell_type": "code",
   "execution_count": null,
   "id": "775b473b",
   "metadata": {},
   "outputs": [],
   "source": [
    "np.stack([arr1, arr2], axis=0)"
   ]
  },
  {
   "cell_type": "code",
   "execution_count": null,
   "id": "b87f292c",
   "metadata": {},
   "outputs": [],
   "source": [
    "np.stack([arr1, arr2], axis=1)"
   ]
  },
  {
   "cell_type": "code",
   "execution_count": null,
   "id": "eb6423fa",
   "metadata": {},
   "outputs": [],
   "source": [
    "np.stack([arr1, arr2], axis=2)"
   ]
  },
  {
   "cell_type": "markdown",
   "id": "013b3c6e",
   "metadata": {},
   "source": [
    "#### Funkcja [`np.vstack`](https://numpy.org/doc/stable/reference/generated/numpy.vstack.html#numpy-vstack)\n",
    "\n",
    "Funkcja robi złączenie przekazanej sekwencji tablic wzdłuż osi wertykalnej."
   ]
  },
  {
   "cell_type": "code",
   "execution_count": null,
   "id": "9e9e50a4",
   "metadata": {},
   "outputs": [],
   "source": [
    "np.vstack([arr1, arr2])"
   ]
  },
  {
   "cell_type": "markdown",
   "id": "4aa0c1fc",
   "metadata": {},
   "source": [
    "#### Funkcja [`np.hstack`](https://numpy.org/doc/stable/reference/generated/numpy.hstack.html#numpy-hstack)\n",
    "\n",
    "Funkcja robi złączenie przekazanej sekwencji tablic wzdłuż osi horyzontalnej."
   ]
  },
  {
   "cell_type": "code",
   "execution_count": null,
   "id": "1134f22c",
   "metadata": {},
   "outputs": [],
   "source": [
    "np.hstack([arr1, arr2])"
   ]
  },
  {
   "cell_type": "markdown",
   "id": "e1e9d284",
   "metadata": {},
   "source": [
    "## Zmiana typu macierzy"
   ]
  },
  {
   "cell_type": "markdown",
   "id": "2bbb1872",
   "metadata": {},
   "source": [
    "#### Metoda `ndarray`.astype"
   ]
  },
  {
   "cell_type": "markdown",
   "id": "802f235e",
   "metadata": {},
   "source": [
    "## Operacje I/O na tablicach"
   ]
  },
  {
   "cell_type": "markdown",
   "id": "a674657e",
   "metadata": {},
   "source": [
    "### Funkcja [`np.save`](https://numpy.org/doc/stable/reference/generated/numpy.save.html)"
   ]
  },
  {
   "cell_type": "markdown",
   "id": "b6b4e81c",
   "metadata": {},
   "source": [
    "Zdefiniowaliśmy wiele tablic, wykonaliśmy na nich wiele operacji, otrzymaliśmy wiele wyników. Co jeśli chcielibyśmy któryś z tych wyników zachować ?\n",
    "\n",
    "Powinniśmy zapisać go do pliku.\n",
    "Istnieje kilka metod zapisywania obiektów klasy ndarray do pliku, ale najwygodniejszym z nich jest wbudowana w numpy funkcja [**`np.save`**](https://numpy.org/doc/stable/reference/generated/numpy.save.html). Funkcja przyjmuje dwa parametry obowiązkowe - nazwę pliku do którego ma zostać zapisana tablica oraz zapisywaną tablicę. Tablica zostanie zapisana w formacie bianarnym (używamy formatu **.npy**). Zróbmy przykład"
   ]
  },
  {
   "cell_type": "code",
   "execution_count": null,
   "id": "a845e496",
   "metadata": {},
   "outputs": [],
   "source": [
    "a = np.array([1, 3, 5, 7, 9], dtype=np.float16)\n",
    "print(a)"
   ]
  },
  {
   "cell_type": "code",
   "execution_count": null,
   "id": "ec50f38f",
   "metadata": {},
   "outputs": [],
   "source": [
    "np.save('example.npy', a)"
   ]
  },
  {
   "cell_type": "markdown",
   "id": "c9b2504a",
   "metadata": {},
   "source": [
    "A jak wczytać teraz tak zapisaną tablicę?"
   ]
  },
  {
   "cell_type": "markdown",
   "id": "548736c1",
   "metadata": {},
   "source": [
    "### Funkcja [`np.load`](https://numpy.org/doc/stable/reference/generated/numpy.load.html)"
   ]
  },
  {
   "cell_type": "markdown",
   "id": "67902bec",
   "metadata": {},
   "source": [
    "Żeby załadować zapisaną tablicę do pamięci ram wystarczy użyć funkcji **`np.load`**. Funkcja jako parametr przyjmuje nazwę pliku do wczytania, a zwraca załadowaną tablicę."
   ]
  },
  {
   "cell_type": "code",
   "execution_count": null,
   "id": "ce835565",
   "metadata": {},
   "outputs": [],
   "source": [
    "b = np.load('example.npy')\n",
    "print(b)"
   ]
  },
  {
   "cell_type": "markdown",
   "id": "6662b276",
   "metadata": {},
   "source": [
    "### Zadanie 13\n",
    "\n",
    "---\n",
    "\n",
    "Wybierz jedną tablicę z poprzednich zadań i zapisz ją do pliku."
   ]
  },
  {
   "cell_type": "code",
   "execution_count": null,
   "id": "782596ac",
   "metadata": {},
   "outputs": [],
   "source": [
    "# rozwiązanie\n"
   ]
  },
  {
   "cell_type": "markdown",
   "id": "4de954b3",
   "metadata": {},
   "source": [
    "### Zadanie 14\n",
    "\n",
    "---\n",
    "\n",
    "Wczytaj zapisaną przed chwilą tablicę. Nie musisz przypisywać jej do żadnej zmiennej"
   ]
  },
  {
   "cell_type": "code",
   "execution_count": null,
   "id": "0bfeea03",
   "metadata": {},
   "outputs": [],
   "source": [
    "# rozwiązanie\n"
   ]
  },
  {
   "cell_type": "markdown",
   "id": "a25cf7fc",
   "metadata": {},
   "source": [
    "### Zadanie 15\n",
    "\n",
    "---\n",
    "\n",
    "W folderze `dumps` znajdują się pliki  `dump_1.npy`, `dump_2.npy` oraz `dump_3.npy`. Wczytaj tablice zapisane w tych plikach,\n",
    "sprawdź ile mają wymiarów oraz jaki jest ich kształt. Przypisz wczytane tablice do zmiennych."
   ]
  },
  {
   "cell_type": "code",
   "execution_count": null,
   "id": "03985662",
   "metadata": {},
   "outputs": [],
   "source": [
    "# rozwiązanie\n"
   ]
  },
  {
   "cell_type": "markdown",
   "id": "9dac9f6b",
   "metadata": {},
   "source": [
    "## Kopiowanie tablic"
   ]
  },
  {
   "cell_type": "markdown",
   "id": "5af77227",
   "metadata": {},
   "source": [
    "**Uwaga!**, tablice numpy są typem złożonym w Pythonie, co oznacza że są przekazywane przez referencje (adres). Jednocześnie są typem modyfikowalnym (identycznie listy w pythonie). Taki zestaw cech tworzy pułapkę, ponieważ w kodzie \"krążą\"/przekazywane są nie kopie samego obiektu, tylko kopie referencji do tego obiektu. Czyli cały czas działamy na obiekcie oryginalnym, chociaż może nam się wydawać, że działamy na jego kopii."
   ]
  },
  {
   "cell_type": "markdown",
   "id": "b5f588f7",
   "metadata": {},
   "source": [
    "#### Funkcja np.copy"
   ]
  },
  {
   "cell_type": "code",
   "execution_count": null,
   "id": "bc466c94",
   "metadata": {},
   "outputs": [],
   "source": [
    "a = np.array(\n",
    "    [\n",
    "        [1, 2, 3, 4],\n",
    "        [5, 6, 7, 8],\n",
    "        [9, 10, 11, 12]\n",
    "    ]\n",
    ")\n",
    "\n",
    "b = a  # kopia (ale tylko referencji)\n",
    "\n",
    "# tablice numpy są typami modyfikowalnymi, czyli wspierają operator przypisania\n",
    "b[1, 0] = 100\n",
    "\n",
    "# zmieniliśmy tablicę b\n",
    "print(b)"
   ]
  },
  {
   "cell_type": "code",
   "execution_count": null,
   "id": "d650e5ce",
   "metadata": {},
   "outputs": [],
   "source": [
    "# ale czy tylko ?\n",
    "print(a)  \n",
    "\n",
    "# tak na prawdę cały czas działamy na jednym i tym samym obiekcie, a kopiowanie postaci b=a, \n",
    "# to kopiowanie wyłącznie referencji do tego obiektu."
   ]
  },
  {
   "cell_type": "markdown",
   "id": "53d8aab8",
   "metadata": {},
   "source": [
    "To w jaki sposób skopiować tablicę w taki sposób, żeby otrzymać jej pełną kopię ?"
   ]
  },
  {
   "cell_type": "markdown",
   "id": "0dbf52a9",
   "metadata": {},
   "source": [
    "#### Funkcja `np.copy`"
   ]
  },
  {
   "cell_type": "markdown",
   "id": "cb6239ca",
   "metadata": {},
   "source": [
    "## [Funkcje modyfikujące istniejącą tablice](https://numpy.org/doc/stable/reference/routines.array-manipulation.html)"
   ]
  },
  {
   "cell_type": "markdown",
   "id": "559006b3",
   "metadata": {},
   "source": [
    "Przeglądu funkcji modyfikujących istniejące tablice można znaleźć [tutaj](https://numpy.org/doc/stable/reference/routines.array-manipulation.html)"
   ]
  },
  {
   "cell_type": "markdown",
   "id": "fe55eaf7",
   "metadata": {},
   "source": [
    "#### Funkcja [`np.reshape`](https://numpy.org/doc/stable/reference/generated/numpy.reshape.html#numpy.reshape)\n",
    "\n",
    "Funkcja przyjmuje dwa parametry obowiązkowe, tablicę, której kształt chcemy zmienić oraz tuple reprezentującą kształt jaki chcemy tej tablicy nadać. Liczba elementów tablicy (atrybut `size` ndarray) musi pozostać niezmieniona. Funkcja zwraca nową tablicę (oznacza to, że tworzy nową tablicę i zwraca referencje do niej), nie modyfikuje starej."
   ]
  },
  {
   "cell_type": "code",
   "execution_count": null,
   "id": "211a6493",
   "metadata": {},
   "outputs": [],
   "source": [
    "# metoda I (funkcja np.reshape)\n",
    "\n",
    "b = np.reshape(a, (6, 2))\n",
    "print(b)"
   ]
  },
  {
   "cell_type": "code",
   "execution_count": null,
   "id": "64cbfd76",
   "metadata": {},
   "outputs": [],
   "source": [
    "print(a)"
   ]
  },
  {
   "cell_type": "code",
   "execution_count": null,
   "id": "f2d95f25",
   "metadata": {},
   "outputs": [],
   "source": [
    "# metoda II (metoda reshape)\n",
    "\n",
    "b = a.reshape((6,2))\n",
    "print(b)"
   ]
  },
  {
   "cell_type": "code",
   "execution_count": null,
   "id": "6f2118eb",
   "metadata": {},
   "outputs": [],
   "source": [
    "print(a)"
   ]
  },
  {
   "cell_type": "markdown",
   "id": "808cff22",
   "metadata": {},
   "source": [
    "Przy definiowaniu kształtu nowej tablicy jedną z dopuszczalnych wartości długości osi tej tablicy jest wartość -1. Wartość -1 oznacza, że długość tej konkretnej osi ma zostać dobrana na podstawie długości wszystkich pozostałych osi (-1 można wstawić tylko raz w definicji nowego kształtu). "
   ]
  },
  {
   "cell_type": "code",
   "execution_count": null,
   "id": "eccc7870",
   "metadata": {},
   "outputs": [],
   "source": [
    "b = np.reshape(a, (2, -1))\n",
    "print(b)"
   ]
  },
  {
   "cell_type": "markdown",
   "id": "b94ea0e4",
   "metadata": {},
   "source": [
    "W szczególności podanie w miejscu kształtu wartości -1 powoduje spłaszczenie tablicy."
   ]
  },
  {
   "cell_type": "code",
   "execution_count": null,
   "id": "5a79ede1",
   "metadata": {},
   "outputs": [],
   "source": [
    "b = np.reshape(a, -1)\n",
    "print(b)"
   ]
  },
  {
   "cell_type": "markdown",
   "id": "ee0cde4f",
   "metadata": {},
   "source": [
    "Ale są też inne sposoby na spłaszczenie tablicy."
   ]
  },
  {
   "cell_type": "markdown",
   "id": "e5605c44",
   "metadata": {},
   "source": [
    "#### Funkcja [`np.ravel`](https://numpy.org/doc/stable/reference/generated/numpy.ravel.html#numpy.ravel)"
   ]
  },
  {
   "cell_type": "markdown",
   "id": "f2d7a71d",
   "metadata": {},
   "source": [
    "Funkcja zwraca spłaszczoną postać przekazanej do niej tablicy. Podobnie jak funkcja `np.reshape` funkcja `np.ravel` zwraca nową tablicę, nie modyfikuje starej."
   ]
  },
  {
   "cell_type": "code",
   "execution_count": null,
   "id": "136801c2",
   "metadata": {},
   "outputs": [],
   "source": [
    "# metoda I (funkcja ravel)\n",
    "\n",
    "b = np.ravel(a)\n",
    "print(b)"
   ]
  },
  {
   "cell_type": "code",
   "execution_count": null,
   "id": "6a31891e",
   "metadata": {},
   "outputs": [],
   "source": [
    "print(a)"
   ]
  },
  {
   "cell_type": "code",
   "execution_count": null,
   "id": "7953cd49",
   "metadata": {},
   "outputs": [],
   "source": [
    "# metoda II (atrybut ravel)\n",
    "\n",
    "b = a.ravel()\n",
    "print(b)"
   ]
  },
  {
   "cell_type": "code",
   "execution_count": null,
   "id": "a5b30dee",
   "metadata": {},
   "outputs": [],
   "source": [
    "print(a)"
   ]
  },
  {
   "cell_type": "markdown",
   "id": "8d927296",
   "metadata": {},
   "source": [
    "#### Metoda [`np.flatten`](https://numpy.org/doc/stable/reference/generated/numpy.ndarray.flatten.html#numpy.ndarray.flatten)\n",
    "\n",
    "Metoda klasy `ndarray`, która zwraca spłaszczoną postać przekazanej do niej tablicy."
   ]
  },
  {
   "cell_type": "code",
   "execution_count": null,
   "id": "2a9d16ac",
   "metadata": {},
   "outputs": [],
   "source": [
    "b = a.flatten()\n",
    "print(b)"
   ]
  },
  {
   "cell_type": "code",
   "execution_count": null,
   "id": "cbfc9f4e",
   "metadata": {},
   "outputs": [],
   "source": [
    "print(a)"
   ]
  },
  {
   "cell_type": "code",
   "execution_count": null,
   "id": "a1eebb42",
   "metadata": {},
   "outputs": [],
   "source": []
  },
  {
   "cell_type": "markdown",
   "id": "fb1e15dd",
   "metadata": {},
   "source": [
    "#### Funkcja [`np.asarray`](https://numpy.org/doc/stable/reference/generated/numpy.asarray.html#numpy.asarray)\n",
    "\n",
    "Funkcja działa bardzo podobnie do funkcji `np.array`."
   ]
  },
  {
   "cell_type": "code",
   "execution_count": null,
   "id": "c770fb21",
   "metadata": {},
   "outputs": [],
   "source": [
    "b = np.asarray([1 ,2], dtype=np.float64)\n",
    "print(b)"
   ]
  },
  {
   "cell_type": "code",
   "execution_count": null,
   "id": "a3c7fa69",
   "metadata": {},
   "outputs": [],
   "source": []
  },
  {
   "cell_type": "markdown",
   "id": "deaf1575",
   "metadata": {},
   "source": [
    "#### Funkcja [`np.flip`](https://numpy.org/doc/stable/reference/generated/numpy.flip.html#numpy.flip)\n",
    "\n",
    "Funkcja odwraca kolejność elementów tablicy wzdłuż wskazanej osi. Przyjmuje jeden parametr obowiązkowy - listę, której kolejność elementów chcemy odwrócić i jeden parametr opcjonalny - oś wzdłuż której odwracamy."
   ]
  },
  {
   "cell_type": "code",
   "execution_count": null,
   "id": "de2832f0",
   "metadata": {},
   "outputs": [],
   "source": [
    "np.flip(a)  # domyślnie funkcja odwraca wzdłuż obu osi"
   ]
  },
  {
   "cell_type": "code",
   "execution_count": null,
   "id": "9db095f9",
   "metadata": {},
   "outputs": [],
   "source": [
    "np.flip(a, 0)  # obrócenie wzdłuż osi wertykalnej"
   ]
  },
  {
   "cell_type": "code",
   "execution_count": null,
   "id": "072faa92",
   "metadata": {},
   "outputs": [],
   "source": [
    "np.flip(a, 1)  # obrócenie wzdłuż osi horyzontalnej"
   ]
  },
  {
   "cell_type": "markdown",
   "id": "50258ffa",
   "metadata": {},
   "source": [
    "#### Funkcja [`np.flipup`](https://numpy.org/doc/stable/reference/generated/numpy.flipud.html#numpy.flipud)\n",
    "\n",
    "flipud rozwija się do 'flip up and down' Funkcja działa identycznie jak `np.flip` z parametrem axis=0"
   ]
  },
  {
   "cell_type": "code",
   "execution_count": null,
   "id": "00a85dcd",
   "metadata": {},
   "outputs": [],
   "source": [
    "np.flipud(a)"
   ]
  },
  {
   "cell_type": "markdown",
   "id": "f0b95e01",
   "metadata": {},
   "source": [
    "#### Funkcja [`np.fliplr`](https://numpy.org/doc/stable/reference/generated/numpy.fliplr.html#numpy.fliplr)\n",
    "\n",
    "fliplr rozwija się do 'flip left and right`. Funkcja działa identycznie jak `np.flip` z parametrem axis=1"
   ]
  },
  {
   "cell_type": "code",
   "execution_count": null,
   "id": "a77e8023",
   "metadata": {},
   "outputs": [],
   "source": [
    "np.fliplr(a)"
   ]
  },
  {
   "cell_type": "markdown",
   "id": "b57e1b76",
   "metadata": {},
   "source": [
    "#### Metoda `ndarray.sort`"
   ]
  },
  {
   "cell_type": "code",
   "execution_count": null,
   "id": "78c83ce1",
   "metadata": {},
   "outputs": [],
   "source": [
    "vector = np.array([2, 1, 5, 4, 9])\n",
    "vector"
   ]
  },
  {
   "cell_type": "code",
   "execution_count": null,
   "id": "b77ebcab",
   "metadata": {},
   "outputs": [],
   "source": [
    "vector.sort()"
   ]
  },
  {
   "cell_type": "markdown",
   "id": "a6f05650",
   "metadata": {},
   "source": [
    "**Uwaga!** Metoda sort działa w miejscu"
   ]
  },
  {
   "cell_type": "code",
   "execution_count": null,
   "id": "2c5099f1",
   "metadata": {},
   "outputs": [],
   "source": [
    "vector"
   ]
  },
  {
   "cell_type": "code",
   "execution_count": null,
   "id": "02170847",
   "metadata": {},
   "outputs": [],
   "source": [
    "A = np.array([[2, 4, 3],\n",
    "              [1, 9, 0],\n",
    "              [3, 6, 1]])"
   ]
  },
  {
   "cell_type": "code",
   "execution_count": null,
   "id": "3d6f4387",
   "metadata": {},
   "outputs": [],
   "source": [
    "np.sort(A)"
   ]
  },
  {
   "cell_type": "code",
   "execution_count": null,
   "id": "d9e41640",
   "metadata": {},
   "outputs": [],
   "source": [
    "np.sort(A, axis=0)"
   ]
  },
  {
   "cell_type": "code",
   "execution_count": null,
   "id": "1d1a7830",
   "metadata": {},
   "outputs": [],
   "source": [
    "np.sort(A, axis=1)"
   ]
  },
  {
   "cell_type": "markdown",
   "id": "79008a7f",
   "metadata": {},
   "source": [
    "## [Broadcasting](https://numpy.org/doc/stable/user/basics.broadcasting.html)"
   ]
  },
  {
   "cell_type": "code",
   "execution_count": null,
   "id": "367b7cf2",
   "metadata": {},
   "outputs": [],
   "source": [
    "a = np.array([1.0, 2.0, 3.0])\n",
    "b = 2.0\n",
    "a * b"
   ]
  },
  {
   "cell_type": "code",
   "execution_count": null,
   "id": "584d8540",
   "metadata": {},
   "outputs": [],
   "source": [
    "a = np.array([1.0, 2.0, 3.0])\n",
    "b = np.array([2.0])\n",
    "a * b"
   ]
  },
  {
   "attachments": {
    "broadcasting1.png": {
     "image/png": "[encoded data removed]"
    }
   },
   "cell_type": "markdown",
   "id": "24e066dc",
   "metadata": {},
   "source": [
    "![broadcasting1.png](attachment:broadcasting1.png)"
   ]
  },
  {
   "cell_type": "code",
   "execution_count": null,
   "id": "5f62501f",
   "metadata": {},
   "outputs": [],
   "source": [
    "a = np.array([[ 0.0,  0.0,  0.0],\n",
    "              [10.0, 10.0, 10.0],\n",
    "              [20.0, 20.0, 20.0],\n",
    "              [30.0, 30.0, 30.0]])\n",
    "b = np.array([1.0, 2.0, 3.0])\n",
    "a + b"
   ]
  },
  {
   "attachments": {
    "broadcasting2.png": {
     "image/png": "[encoded data removed]"
    }
   },
   "cell_type": "markdown",
   "id": "70973c95",
   "metadata": {},
   "source": [
    "![broadcasting2.png](attachment:broadcasting2.png)"
   ]
  },
  {
   "cell_type": "code",
   "execution_count": null,
   "id": "bcd8913b",
   "metadata": {},
   "outputs": [],
   "source": [
    "b = np.array([1.0, 2.0, 3.0, 4.0])\n",
    "a + b"
   ]
  },
  {
   "attachments": {
    "broadcasting4.png": {
     "image/png": "[encoded data removed]"
    }
   },
   "cell_type": "markdown",
   "id": "c36695db",
   "metadata": {},
   "source": [
    "![broadcasting4.png](attachment:broadcasting4.png)"
   ]
  },
  {
   "cell_type": "markdown",
   "id": "dc94239e",
   "metadata": {},
   "source": [
    "Ogólnie"
   ]
  },
  {
   "attachments": {
    "image.png": {
     "image/png": "[encoded data removed]"
    }
   },
   "cell_type": "markdown",
   "id": "63c4c2f2",
   "metadata": {},
   "source": [
    "![image.png](attachment:image.png)"
   ]
  },
  {
   "cell_type": "markdown",
   "id": "367b2a58",
   "metadata": {},
   "source": [
    "## Wybieranie elementów na podstawie warunków logicznych"
   ]
  },
  {
   "cell_type": "code",
   "execution_count": null,
   "id": "47f42f59",
   "metadata": {},
   "outputs": [],
   "source": []
  },
  {
   "cell_type": "markdown",
   "id": "d3c5d8ad",
   "metadata": {},
   "source": [
    "###### Zadanie\n",
    "\n",
    "---\n",
    "\n",
    "\n",
    "Z zadanej macierzy A wyciągnij korzystając z warunków logicznych następujące slice'y:\n",
    "\n",
    "- `array([25, 26, 27, 28, 29, 30, 31, 32, 33, 34, 35])`\n",
    "- `array([25, 26, 27, 28, 29])`"
   ]
  },
  {
   "cell_type": "code",
   "execution_count": null,
   "id": "e47b98b7",
   "metadata": {},
   "outputs": [],
   "source": [
    "A = np.array([[ 0,  1,  2,  3,  4,  5],\n",
    "       [ 6,  7,  8,  9, 10, 11],\n",
    "       [12, 13, 14, 15, 16, 17],\n",
    "       [18, 19, 20, 21, 22, 23],\n",
    "       [24, 25, 26, 27, 28, 29],\n",
    "       [30, 31, 32, 33, 34, 35]])"
   ]
  },
  {
   "cell_type": "markdown",
   "id": "d5304421",
   "metadata": {},
   "source": [
    "## Generator liczb pseudolosowych\n",
    "\n",
    "Jednym z podmodułów biblioteki `numpy` jest moduł [`np.random`](https://numpy.org/doc/stable/reference/random/index.html#module-numpy.random). Za jego pomocą możemy generować tablice numpy z losowymi wartościami elementów. Listę dostępnych w module funkcji można znaleźć [tutaj](https://numpy.org/doc/stable/reference/random/legacy.html#functions-in-numpy-random)"
   ]
  },
  {
   "cell_type": "code",
   "execution_count": null,
   "id": "0a729f6f",
   "metadata": {},
   "outputs": [],
   "source": [
    "print(dir(np.random))"
   ]
  },
  {
   "cell_type": "markdown",
   "id": "f6b4e562",
   "metadata": {},
   "source": [
    "#### Funkcja [`np.random.randint`](https://numpy.org/doc/stable/reference/random/generated/numpy.random.randint.html)\n",
    "\n",
    "Funkcja zwraca losową liczbę przedziału z zadanego przedziału."
   ]
  },
  {
   "cell_type": "code",
   "execution_count": null,
   "id": "9d100bf6",
   "metadata": {},
   "outputs": [],
   "source": [
    "np.random.randint(11, 17)"
   ]
  },
  {
   "cell_type": "markdown",
   "id": "e8da95f1",
   "metadata": {},
   "source": [
    "Opcjonalnie, jako trzeci parametr można podać liczbę potrzebnych losowań i wtedy funkcja zwróci listę liczb losowych o długości równej liczbie losowań."
   ]
  },
  {
   "cell_type": "code",
   "execution_count": null,
   "id": "39e77f60",
   "metadata": {},
   "outputs": [],
   "source": [
    "np.random.randint(11, 17, 4)"
   ]
  },
  {
   "cell_type": "markdown",
   "id": "7d38bc8a",
   "metadata": {},
   "source": [
    "#### Funkcja [`np.random.choice`](https://numpy.org/doc/stable/reference/random/generated/numpy.random.choice.html)\n",
    "\n",
    "Funkcja zwraca losową liczbę z zadanego zbiory liczb."
   ]
  },
  {
   "cell_type": "code",
   "execution_count": null,
   "id": "ad1436fa",
   "metadata": {},
   "outputs": [],
   "source": [
    "arr = np.array([10, 313, 3, 54, 6])\n",
    "\n",
    "np.random.choice(arr)"
   ]
  },
  {
   "cell_type": "markdown",
   "id": "f843860c",
   "metadata": {},
   "source": [
    "Przyjmuje dwa opcjonalne parametry - size - liczbę zwracanych liczb, replace - czy dopuszczamy powtórzenia (domyślnie przyjmuje wartość `True`)"
   ]
  },
  {
   "cell_type": "code",
   "execution_count": null,
   "id": "2ec86171",
   "metadata": {},
   "outputs": [],
   "source": [
    "np.random.choice(arr, size = 5)"
   ]
  },
  {
   "cell_type": "code",
   "execution_count": null,
   "id": "bad6da00",
   "metadata": {},
   "outputs": [],
   "source": [
    "np.random.choice(pool, size=3, replace=False)  # bez powtórzeń nie da się wygenerować więszkego zbioru liczb niż ten zadany"
   ]
  },
  {
   "cell_type": "markdown",
   "id": "31d2025f",
   "metadata": {},
   "source": [
    "#### Funkcja [`np.random.randn`](https://numpy.org/doc/stable/reference/random/generated/numpy.random.randn.html)\n",
    "\n",
    "Funkcja zwraca tablicę liczb losowych o zadanym kształcie (kształt jest przekazywany do funkcji w postaci pojedynczych parametrów). Losowania pochodzą z ustandaryzowanego rozkładu normalnego (średnia 0 i odchylenie standardowe 1)"
   ]
  },
  {
   "cell_type": "code",
   "execution_count": null,
   "id": "e4a5618a",
   "metadata": {},
   "outputs": [],
   "source": [
    "np.random.randn(11, 3)"
   ]
  },
  {
   "cell_type": "markdown",
   "id": "0b3c87c1",
   "metadata": {},
   "source": [
    "#### Funkcja [`np.random.normal`](https://numpy.org/doc/stable/reference/random/generated/numpy.random.normal.html#numpy.random.normal)\n",
    "\n",
    "Funkcja zwraca liczbę losową z rozkładu normalnego."
   ]
  },
  {
   "cell_type": "code",
   "execution_count": null,
   "id": "721fb70f",
   "metadata": {},
   "outputs": [],
   "source": [
    "np.random.normal()"
   ]
  },
  {
   "cell_type": "markdown",
   "id": "572baf01",
   "metadata": {},
   "source": [
    "W odróżnieniu od funkcji `np.random.randn` w funkcji `np.random.normal` można zdefiniować wartość średniej oraz odchylenia standardowego rozkładu."
   ]
  },
  {
   "cell_type": "code",
   "execution_count": null,
   "id": "cb617a50",
   "metadata": {},
   "outputs": [],
   "source": [
    "np.random.normal(loc=4, scale=2, size=10)"
   ]
  },
  {
   "cell_type": "markdown",
   "id": "1afa490e",
   "metadata": {},
   "source": [
    "#### Funkcja [`np.random.shuffle`](https://numpy.org/doc/stable/reference/random/generated/numpy.random.shuffle.html#numpy.random.shuffle)\n",
    "\n",
    "Funkcja 'tasuje' zawartość tablicy w miejscu."
   ]
  },
  {
   "cell_type": "code",
   "execution_count": null,
   "id": "5513603b",
   "metadata": {},
   "outputs": [],
   "source": [
    "pool"
   ]
  },
  {
   "cell_type": "code",
   "execution_count": null,
   "id": "99852b46",
   "metadata": {},
   "outputs": [],
   "source": [
    "np.random.shuffle(pool)"
   ]
  },
  {
   "cell_type": "code",
   "execution_count": null,
   "id": "08d6b494",
   "metadata": {},
   "outputs": [],
   "source": [
    "pool"
   ]
  },
  {
   "cell_type": "markdown",
   "id": "6465b726",
   "metadata": {},
   "source": [
    "#### Funkcja [`np.random.seed`](https://numpy.org/doc/stable/reference/random/generated/numpy.random.normal.html#numpy.random.seed)\n",
    "\n",
    "Funkcja ustawia źródło generatora liczb pseudolosowych. Dzięki temu możemy wygnerować powtarzalne przebiegi pseudolosowe."
   ]
  },
  {
   "cell_type": "code",
   "execution_count": null,
   "id": "755eb091",
   "metadata": {},
   "outputs": [],
   "source": [
    "# np.random.seed(1)"
   ]
  },
  {
   "cell_type": "markdown",
   "id": "f6028cae",
   "metadata": {},
   "source": [
    "###### Zadanie 1:\n",
    "\n",
    "---\n",
    "\n",
    "Utwórz tablicę losowych liczb z przedziału [0, 1] o rozmiarze 2 x 3 x 4"
   ]
  },
  {
   "cell_type": "markdown",
   "id": "a095a06b",
   "metadata": {},
   "source": [
    "###### Zadanie 2:\n",
    "\n",
    "---\n",
    "\n",
    "Utwórz wektor ośmiu losowych liczb całkowitych z przedziału [0, 10]"
   ]
  },
  {
   "cell_type": "markdown",
   "id": "4865cc18",
   "metadata": {},
   "source": [
    "###### Zadanie 3\n",
    "\n",
    "---\n",
    "\n",
    "Wylosuj jedną liczbe z rozkładu normalnego standardowego. Zamroź stan losowania ustawiając ziarno o dowolnej wartości."
   ]
  },
  {
   "cell_type": "markdown",
   "id": "c2316433",
   "metadata": {},
   "source": [
    "## Egzotyczne tablice"
   ]
  },
  {
   "cell_type": "code",
   "execution_count": null,
   "id": "cd91378f",
   "metadata": {},
   "outputs": [],
   "source": [
    "vector = np.array(['a', 'b', 'c'])\n",
    "\n",
    "vector.dtype"
   ]
  },
  {
   "cell_type": "code",
   "execution_count": null,
   "id": "e5eccdbf",
   "metadata": {},
   "outputs": [],
   "source": [
    "vector = np.array([1, 'b', 'c'])\n",
    "\n",
    "vector.dtype"
   ]
  },
  {
   "cell_type": "code",
   "execution_count": null,
   "id": "726c501f",
   "metadata": {},
   "outputs": [],
   "source": [
    "vector = np.array([True, False, True])\n",
    "\n",
    "vector.dtype"
   ]
  },
  {
   "cell_type": "code",
   "execution_count": null,
   "id": "d342da1e",
   "metadata": {},
   "outputs": [],
   "source": [
    "vector = np.array([{'a':1}, \"ala\"])\n",
    "vector"
   ]
  },
  {
   "cell_type": "markdown",
   "id": "9569ce6c",
   "metadata": {},
   "source": [
    "## Nietypowe wartości"
   ]
  },
  {
   "cell_type": "code",
   "execution_count": null,
   "id": "270d8df6",
   "metadata": {},
   "outputs": [],
   "source": []
  },
  {
   "cell_type": "markdown",
   "id": "370d0261",
   "metadata": {},
   "source": [
    "## Algebra liniowa"
   ]
  },
  {
   "cell_type": "markdown",
   "id": "478ff2db",
   "metadata": {},
   "source": [
    "#### Operacje liniowe\n",
    "\n",
    "Innym popularnym podmodułem biblioteki numpy jest [`np.linalg`](https://numpy.org/doc/stable/reference/routines.linalg.html#module-numpy.linalg) - moduł z najpopularniejszymi operacjami wykonywanymi w algebrze liniowej. Listę dostępnych w modul funkcji można znaleźć [tutaj](https://numpy.org/doc/stable/reference/routines.linalg.html)."
   ]
  },
  {
   "cell_type": "code",
   "execution_count": null,
   "id": "31defc88",
   "metadata": {},
   "outputs": [],
   "source": [
    "print(dir(np.linalg))"
   ]
  },
  {
   "cell_type": "markdown",
   "id": "092a8845",
   "metadata": {},
   "source": [
    "#### Mnożenie macierzowe ([`np.matmul`](https://numpy.org/doc/stable/reference/generated/numpy.matmul.html), [`np.dot`](https://numpy.org/doc/stable/reference/generated/numpy.dot.html), [`np.tensordot`](https://numpy.org/doc/stable/reference/generated/numpy.tensordot.html))"
   ]
  },
  {
   "cell_type": "markdown",
   "id": "8c011d7b",
   "metadata": {},
   "source": [
    "$ \\small\n",
    "\\begin{pmatrix}\n",
    "a_{1} & a_{2} & a_{3} \\\\\n",
    "a_{4} & a_{5} & a_{6}\n",
    "\\end{pmatrix}\\cdot\\begin{pmatrix}\n",
    "b_{1} & b_{4} \\\\\n",
    "b_{2} & b_{5} \\\\\n",
    "b_{3} & b_{6} \\\\\n",
    "\\end{pmatrix}= \\begin{pmatrix}\n",
    "a_{1}\\cdot b_{1} + a_{2}\\cdot b_{2} + a_{3}\\cdot b_{3} & a_{1}\\cdot b_{4} + a_{2}\\cdot b_{5} + a_{3}\\cdot b_{6}\\\\\n",
    "a_{4}\\cdot b_{1} + a_{5}\\cdot b_{2} + a_{6}\\cdot b_{3} & a_{4}\\cdot b_{4} + a_{5}\\cdot b_{5} + a_{6}\\cdot b_{6}\n",
    "\\end{pmatrix}\n",
    "$ "
   ]
  },
  {
   "cell_type": "code",
   "execution_count": null,
   "id": "ea917b31",
   "metadata": {},
   "outputs": [],
   "source": [
    "# mnożenie macierzowe\n",
    "\n",
    "# metoda I (funkcja matmul)\n",
    "print(np.matmul(a, b))\n",
    "\n",
    "# metoda II (funkcja dot)\n",
    "print(np.dot(a, b))\n",
    "\n",
    "# metoda III (funkcja np.tensordot)\n",
    "print(np.tensordot(a, b, axes=1))\n",
    "\n",
    "# metoda IV (operator @)\n",
    "print(a @ b)\n",
    "\n",
    "# *można też użyć funkcji ogólnego przeznaczenia - tf.einsum"
   ]
  },
  {
   "cell_type": "markdown",
   "id": "495da548",
   "metadata": {},
   "source": [
    "#### Macierz transponowana $D^{T}$ (funkcja [`np.linalg.transpose`]())"
   ]
  },
  {
   "cell_type": "markdown",
   "id": "f7d38dfa",
   "metadata": {},
   "source": [
    "<center>$ \\small\n",
    "\\begin{pmatrix}\n",
    "a_{1} & a_{2} & a_{3} \\\\\n",
    "a_{4} & a_{5} & a_{6}\n",
    "\\end{pmatrix}^{T}=\\begin{pmatrix}\n",
    "a_{1} & a_{4} \\\\\n",
    "a_{2} & a_{5} \\\\\n",
    "a_{3} & a_{6} \\\\\n",
    "\\end{pmatrix}\n",
    "$\n",
    "</center>"
   ]
  },
  {
   "cell_type": "code",
   "execution_count": null,
   "id": "8de74cf7",
   "metadata": {},
   "outputs": [],
   "source": [
    "# Dla zadanej macierzy d\n",
    "d = np.array(\n",
    "    [\n",
    "        [1., 2., 3.],\n",
    "        [4., 5., 6.],\n",
    "    ]\n",
    ")\n",
    "\n",
    "# macierz transponowana ma postać\n",
    "d_trans = np.transpose(d)\n",
    "d_trans"
   ]
  },
  {
   "cell_type": "markdown",
   "id": "eca69b81",
   "metadata": {},
   "source": [
    "Transpozycja transponowanego tensora to ten sam tensor\n",
    "\n",
    "<center>$(D^{T})^{T} = D$</center>"
   ]
  },
  {
   "cell_type": "code",
   "execution_count": null,
   "id": "151a80a4",
   "metadata": {},
   "outputs": [],
   "source": [
    "print(np.transpose(d_trans))"
   ]
  },
  {
   "cell_type": "markdown",
   "id": "1323e841",
   "metadata": {},
   "source": [
    "### Zadanie 16\n",
    "\n",
    "---\n",
    "\n",
    "Utwórz wektor (tablice) o elementach `[1, 2, 3, 4]` i znajdź jego transpozycje."
   ]
  },
  {
   "cell_type": "markdown",
   "id": "f697410a",
   "metadata": {},
   "source": [
    "#### Macierz odwrotna $C^{-1}$ (funkcja [`np.linalg.inv`](https://numpy.org/doc/stable/reference/generated/numpy.linalg.inv.html))"
   ]
  },
  {
   "cell_type": "markdown",
   "id": "21d011be",
   "metadata": {},
   "source": [
    "Macierz odwrotna do zadanej macierzy $C$ to taka macierz $C^{-1}$, że \n",
    "\n",
    "<br>\n",
    "<center>$C \\cdot C^{-1} = I$</center>\n",
    "\n",
    ", gdzie $I$ to macierz identycznościowy."
   ]
  },
  {
   "cell_type": "code",
   "execution_count": null,
   "id": "fa727a12",
   "metadata": {},
   "outputs": [],
   "source": [
    "# Dla zadanej macierzy c\n",
    "c = np.array(\n",
    "    [\n",
    "        [1., 2., -1.], \n",
    "        [2., 1., 2.],\n",
    "        [-1., 2., 1.]\n",
    "    ]\n",
    ")\n",
    "\n",
    "# macierz odwrotna ma postać\n",
    "c_inv = np.linalg.inv(c)\n",
    "print(c_inv)"
   ]
  },
  {
   "cell_type": "code",
   "execution_count": null,
   "id": "451439df",
   "metadata": {},
   "outputs": [],
   "source": [
    "identity = c @ c_inv  # błędy zaokrąglenia float\n",
    "identity"
   ]
  },
  {
   "cell_type": "markdown",
   "id": "70442693",
   "metadata": {},
   "source": [
    "Jak radzić sobie z niedokładnością arytemtyki zmiennoprzecinkowej ?\n",
    "\n",
    "Metoda [`ndarray.round`](https://numpy.org/doc/stable/reference/generated/numpy.ndarray.round.html) (ew. funkcja [`np.around`](https://numpy.org/doc/stable/reference/generated/numpy.around.html#numpy.around) lub `np.round`) z opcjonalnym parametrem decimals"
   ]
  },
  {
   "cell_type": "code",
   "execution_count": null,
   "id": "0c8ab893",
   "metadata": {},
   "outputs": [],
   "source": [
    "# metoda I (metoda round)\n",
    "\n",
    "identity.round()  # domyślnie decimals=0"
   ]
  },
  {
   "cell_type": "code",
   "execution_count": null,
   "id": "cd72ca1f",
   "metadata": {},
   "outputs": [],
   "source": [
    "# metoda II (funkcja around)\n",
    "\n",
    "np.round(identity)"
   ]
  },
  {
   "cell_type": "code",
   "execution_count": null,
   "id": "75fafa6e",
   "metadata": {},
   "outputs": [],
   "source": [
    "# metoda II\n",
    "\n",
    "np.around(identity)"
   ]
  },
  {
   "cell_type": "markdown",
   "id": "a5675115",
   "metadata": {},
   "source": [
    "#### Liniowe układy równań"
   ]
  },
  {
   "cell_type": "markdown",
   "id": "339a45c5",
   "metadata": {},
   "source": [
    "$$\\begin{align*} \n",
    "\\begin{cases}\n",
    "2x_1 - 3x_2 &= 8 \\\\ \n",
    "-10x_1 + x_2 &= -12\n",
    "\\end{cases}\n",
    "\\end{align*}$$\n",
    "\n",
    "\n",
    "<br>\n",
    "$$\n",
    "A=\n",
    "  \\begin{bmatrix}\n",
    "    2 & -3 \\\\\n",
    "    -10 & 1\n",
    "  \\end{bmatrix}$$\n",
    "  \n",
    "  \n",
    "$$\\vec x = \\begin{bmatrix}\n",
    "    x_1  \\\\\n",
    "    x_2 \n",
    "  \\end{bmatrix}$$\n",
    "  \n",
    "\n",
    "$$b = \\begin{bmatrix}\n",
    "    8  \\\\\n",
    "    -12 \n",
    "  \\end{bmatrix}$$\n",
    "  \n",
    "$$A \\cdot \\vec x = b = \\begin{bmatrix}\n",
    "    2 & -3 \\\\\n",
    "    -10 & 1\n",
    "  \\end{bmatrix} \\cdot  \\begin{bmatrix}\n",
    "    x_1  \\\\\n",
    "    x_2 \n",
    "  \\end{bmatrix} =  \\begin{bmatrix}\n",
    "    8  \\\\\n",
    "    -12 \n",
    "  \\end{bmatrix}$$\n",
    "  \n",
    "$$\n",
    "A^{-1} \\cdot A \\cdot \\vec x =  A^{-1} \\cdot b \n",
    "$$\n",
    "  \n",
    "$$\n",
    "\\vec x = A^{-1}  \\cdot b\n",
    "$$"
   ]
  },
  {
   "cell_type": "code",
   "execution_count": null,
   "id": "09d5cc40",
   "metadata": {},
   "outputs": [],
   "source": [
    "A = np.array([[2, -3], [-10, 1]])\n",
    "b = np.array([8, -12]).reshape(2, 1)"
   ]
  },
  {
   "cell_type": "code",
   "execution_count": null,
   "id": "8c6a1952",
   "metadata": {},
   "outputs": [],
   "source": [
    "A"
   ]
  },
  {
   "cell_type": "code",
   "execution_count": null,
   "id": "0eeb5cc5",
   "metadata": {},
   "outputs": [],
   "source": [
    "b"
   ]
  },
  {
   "cell_type": "code",
   "execution_count": null,
   "id": "e200702c",
   "metadata": {},
   "outputs": [],
   "source": [
    "np.linalg.solve(A, b)"
   ]
  },
  {
   "cell_type": "markdown",
   "id": "9e7687bd",
   "metadata": {},
   "source": [
    "### Zadanie 16\n",
    "\n",
    "---\n",
    "\n",
    "Znajdź rozwiązanie układu równań\n",
    "\n",
    "$$\\begin{align*}\n",
    "\\begin{cases}\n",
    "x_2 - x_1 &=  -3 \\\\ \n",
    "2x_1 + 2x_2 &=  10\n",
    "\\end{cases}\n",
    "\\end{align*}$$"
   ]
  },
  {
   "cell_type": "markdown",
   "id": "62172ff7",
   "metadata": {},
   "source": [
    "### Zadanie 17\n",
    "\n",
    "---\n",
    "\n",
    "Znajdź rozwiązanie układu równań\n",
    "\n",
    "$$\\begin{align*}\n",
    "\\begin{cases}\n",
    "x_1 + x_2 + x_3 &=  6 \\\\ \n",
    "2x_1 - x_2 + 3x_3 &=  9 \\\\\n",
    "-x_1 + x_2 - x_3 &= -2\n",
    "\\end{cases}\n",
    "\\end{align*}$$"
   ]
  },
  {
   "cell_type": "markdown",
   "id": "bdbd3061",
   "metadata": {},
   "source": [
    "**Ciekawostka:** A co możemy reprezentować za pomocą trójwymiarowej tablicy?"
   ]
  },
  {
   "cell_type": "code",
   "execution_count": null,
   "id": "921a7f56",
   "metadata": {},
   "outputs": [],
   "source": [
    "# Co może reprezentować poniższa tablica?\n",
    "\n",
    "n = np.array(\n",
    "    [\n",
    "        [\n",
    "            [0, 1, 2, 3, 4],\n",
    "            [5, 6, 7, 8, 9]\n",
    "        ],\n",
    "        [\n",
    "            [10, 11, 12, 13, 14],\n",
    "            [15, 16, 17, 18, 19]\n",
    "        ],\n",
    "        [\n",
    "            [20, 21, 22, 23, 24],\n",
    "            [25, 26, 27, 28, 29]\n",
    "        ]\n",
    "    ]\n",
    ")\n",
    "\n",
    "print(n.shape)"
   ]
  },
  {
   "cell_type": "code",
   "execution_count": null,
   "id": "4ad7a23a",
   "metadata": {},
   "outputs": [],
   "source": [
    "import matplotlib\n",
    "\n",
    "img = matplotlib.image.imread('cat.jpg')\n",
    "print(img)"
   ]
  },
  {
   "cell_type": "code",
   "execution_count": null,
   "id": "d0224e3e",
   "metadata": {},
   "outputs": [],
   "source": [
    "print(type(img))"
   ]
  },
  {
   "cell_type": "code",
   "execution_count": null,
   "id": "3118ac7e",
   "metadata": {},
   "outputs": [],
   "source": [
    "print(img.shape)"
   ]
  },
  {
   "cell_type": "code",
   "execution_count": null,
   "id": "a74589d3",
   "metadata": {},
   "outputs": [],
   "source": [
    "matplotlib.pyplot.imshow(img)"
   ]
  },
  {
   "cell_type": "code",
   "execution_count": null,
   "id": "1385d1da",
   "metadata": {},
   "outputs": [],
   "source": [
    "output_img = img.copy()  # oryginalny (wczytany) obraz nie jest modyfikowalny\n",
    "output_img[:, :, :-1] = 0  # zerujemy wszystkie kanały prócz ostatniego"
   ]
  },
  {
   "cell_type": "code",
   "execution_count": null,
   "id": "a6270a64",
   "metadata": {},
   "outputs": [],
   "source": [
    "matplotlib.pyplot.imshow(output_img)  # ostatni to kanał"
   ]
  },
  {
   "cell_type": "code",
   "execution_count": null,
   "id": "6e530ca7",
   "metadata": {},
   "outputs": [],
   "source": [
    "output_img = img.copy()\n",
    "output_img[:, :, 0] = 0  # zerujemy pierwszy kanał\n",
    "\n",
    "matplotlib.pyplot.imshow(output_img)"
   ]
  },
  {
   "cell_type": "code",
   "execution_count": null,
   "id": "d17e4303",
   "metadata": {},
   "outputs": [],
   "source": [
    "output_img = img.copy()\n",
    "modified_img = np.flipud(output_img)  # zerujemy pierwszy kanał\n",
    "\n",
    "matplotlib.pyplot.imshow(modified_img)"
   ]
  },
  {
   "cell_type": "code",
   "execution_count": null,
   "id": "09cb233c",
   "metadata": {},
   "outputs": [],
   "source": []
  },
  {
   "cell_type": "markdown",
   "id": "7dbe0eea",
   "metadata": {},
   "source": [
    "### Zadanie 16\n",
    "\n",
    "---\n",
    "\n",
    "Wykorzystując poznane narzędzia załaduj jakiś obraz () a następnie zmodyfikuj go na kilka sposobów. Wykonując modyfikacje\n",
    "myśl o nich w kategori operacji na macierzach / tablicach numpy. Na koniec zapisz zdjęcie do pliku."
   ]
  }
 ],
 "metadata": {
  "kernelspec": {
   "display_name": "Python 3 (ipykernel)",
   "language": "python",
   "name": "python3"
  },
  "language_info": {
   "codemirror_mode": {
    "name": "ipython",
    "version": 3
   },
   "file_extension": ".py",
   "mimetype": "text/x-python",
   "name": "python",
   "nbconvert_exporter": "python",
   "pygments_lexer": "ipython3",
   "version": "3.11.1"
  }
 },
 "nbformat": 4,
 "nbformat_minor": 5
}
